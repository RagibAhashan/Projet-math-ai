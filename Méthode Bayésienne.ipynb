{
 "cells": [
  {
   "cell_type": "code",
   "execution_count": 1,
   "id": "descending-theory",
   "metadata": {},
   "outputs": [],
   "source": [
    "using CSV, DataFrames, Gadfly, GLM, Statistics, LinearAlgebra, Distributions, Combinatorics, StatsBase, MLBase, Random"
   ]
  },
  {
   "cell_type": "code",
   "execution_count": 2,
   "id": "sixth-australia",
   "metadata": {},
   "outputs": [],
   "source": [
    "include(\"functions.jl\");"
   ]
  },
  {
   "cell_type": "code",
   "execution_count": 3,
   "id": "macro-player",
   "metadata": {},
   "outputs": [
    {
     "data": {
      "text/html": [
       "<table class=\"data-frame\"><thead><tr><th></th><th>ID</th><th>Age</th><th>Sex</th><th>ChestPainType</th><th>RestingBP</th><th>Cholesterol</th><th>FastingBS</th><th>RestingECG</th></tr><tr><th></th><th>Int64</th><th>Int64</th><th>String</th><th>String</th><th>Int64</th><th>Int64?</th><th>Int64</th><th>String</th></tr></thead><tbody><p>5 rows × 13 columns (omitted printing of 5 columns)</p><tr><th>1</th><td>459</td><td>68</td><td>M</td><td>TA</td><td>139</td><td>181</td><td>1</td><td>ST</td></tr><tr><th>2</th><td>460</td><td>50</td><td>F</td><td>ASY</td><td>160</td><td><em>missing</em></td><td>1</td><td>Normal</td></tr><tr><th>3</th><td>461</td><td>50</td><td>M</td><td>ATA</td><td>120</td><td>168</td><td>0</td><td>Normal</td></tr><tr><th>4</th><td>462</td><td>64</td><td>M</td><td>NAP</td><td>125</td><td>309</td><td>0</td><td>Normal</td></tr><tr><th>5</th><td>463</td><td>35</td><td>M</td><td>ATA</td><td>120</td><td>308</td><td>0</td><td>LVH</td></tr></tbody></table>"
      ],
      "text/latex": [
       "\\begin{tabular}{r|ccccccccc}\n",
       "\t& ID & Age & Sex & ChestPainType & RestingBP & Cholesterol & FastingBS & RestingECG & \\\\\n",
       "\t\\hline\n",
       "\t& Int64 & Int64 & String & String & Int64 & Int64? & Int64 & String & \\\\\n",
       "\t\\hline\n",
       "\t1 & 459 & 68 & M & TA & 139 & 181 & 1 & ST & $\\dots$ \\\\\n",
       "\t2 & 460 & 50 & F & ASY & 160 & \\emph{missing} & 1 & Normal & $\\dots$ \\\\\n",
       "\t3 & 461 & 50 & M & ATA & 120 & 168 & 0 & Normal & $\\dots$ \\\\\n",
       "\t4 & 462 & 64 & M & NAP & 125 & 309 & 0 & Normal & $\\dots$ \\\\\n",
       "\t5 & 463 & 35 & M & ATA & 120 & 308 & 0 & LVH & $\\dots$ \\\\\n",
       "\\end{tabular}\n"
      ],
      "text/plain": [
       "\u001b[1m5×13 DataFrame\u001b[0m\n",
       "\u001b[1m Row \u001b[0m│\u001b[1m ID    \u001b[0m\u001b[1m Age   \u001b[0m\u001b[1m Sex    \u001b[0m\u001b[1m ChestPainType \u001b[0m\u001b[1m RestingBP \u001b[0m\u001b[1m Cholesterol \u001b[0m\u001b[1m FastingBS \u001b[0m\u001b[1m\u001b[0m ⋯\n",
       "\u001b[1m     \u001b[0m│\u001b[90m Int64 \u001b[0m\u001b[90m Int64 \u001b[0m\u001b[90m String \u001b[0m\u001b[90m String        \u001b[0m\u001b[90m Int64     \u001b[0m\u001b[90m Int64?      \u001b[0m\u001b[90m Int64     \u001b[0m\u001b[90m\u001b[0m ⋯\n",
       "─────┼──────────────────────────────────────────────────────────────────────────\n",
       "   1 │   459     68  M       TA                   139          181          1  ⋯\n",
       "   2 │   460     50  F       ASY                  160 \u001b[90m     missing \u001b[0m         1\n",
       "   3 │   461     50  M       ATA                  120          168          0\n",
       "   4 │   462     64  M       NAP                  125          309          0\n",
       "   5 │   463     35  M       ATA                  120          308          0  ⋯\n",
       "\u001b[36m                                                               6 columns omitted\u001b[0m"
      ]
     },
     "execution_count": 3,
     "metadata": {},
     "output_type": "execute_result"
    }
   ],
   "source": [
    "data = CSV.read(\"train1.csv\", DataFrame)\n",
    "test = CSV.read(\"test1.csv\", DataFrame)\n",
    "y = data[:, :HeartDisease]\n",
    "n = length(y)\n",
    "first(data,5)\n",
    "first(test,5)"
   ]
  },
  {
   "cell_type": "markdown",
   "id": "derived-algeria",
   "metadata": {},
   "source": [
    "# Data Cleaning (Without missing rows)"
   ]
  },
  {
   "cell_type": "code",
   "execution_count": 4,
   "id": "mechanical-bridal",
   "metadata": {},
   "outputs": [
    {
     "data": {
      "text/plain": [
       "Dict{Int64,Int64} with 2 entries:\n",
       "  0 => 218\n",
       "  1 => 240"
      ]
     },
     "execution_count": 4,
     "metadata": {},
     "output_type": "execute_result"
    }
   ],
   "source": [
    "countmap(data.HeartDisease)"
   ]
  },
  {
   "cell_type": "code",
   "execution_count": 5,
   "id": "artistic-graham",
   "metadata": {},
   "outputs": [
    {
     "data": {
      "text/html": [
       "<table class=\"data-frame\"><thead><tr><th></th><th>ID</th><th>Age</th><th>Sex</th><th>ChestPainType</th><th>RestingBP</th><th>Cholesterol</th><th>FastingBS</th><th>RestingECG</th></tr><tr><th></th><th>Int64</th><th>Int64</th><th>String</th><th>String</th><th>Int64</th><th>Int64</th><th>Int64</th><th>String</th></tr></thead><tbody><p>5 rows × 13 columns (omitted printing of 5 columns)</p><tr><th>1</th><td>1</td><td>69</td><td>M</td><td>ASY</td><td>140</td><td>110</td><td>1</td><td>Normal</td></tr><tr><th>2</th><td>2</td><td>60</td><td>M</td><td>ASY</td><td>140</td><td>293</td><td>0</td><td>LVH</td></tr><tr><th>3</th><td>3</td><td>52</td><td>M</td><td>ASY</td><td>165</td><td>249</td><td>1</td><td>Normal</td></tr><tr><th>4</th><td>4</td><td>46</td><td>M</td><td>NAP</td><td>120</td><td>230</td><td>0</td><td>Normal</td></tr><tr><th>5</th><td>5</td><td>61</td><td>M</td><td>NAP</td><td>120</td><td>249</td><td>0</td><td>Normal</td></tr></tbody></table>"
      ],
      "text/latex": [
       "\\begin{tabular}{r|ccccccccc}\n",
       "\t& ID & Age & Sex & ChestPainType & RestingBP & Cholesterol & FastingBS & RestingECG & \\\\\n",
       "\t\\hline\n",
       "\t& Int64 & Int64 & String & String & Int64 & Int64 & Int64 & String & \\\\\n",
       "\t\\hline\n",
       "\t1 & 1 & 69 & M & ASY & 140 & 110 & 1 & Normal & $\\dots$ \\\\\n",
       "\t2 & 2 & 60 & M & ASY & 140 & 293 & 0 & LVH & $\\dots$ \\\\\n",
       "\t3 & 3 & 52 & M & ASY & 165 & 249 & 1 & Normal & $\\dots$ \\\\\n",
       "\t4 & 4 & 46 & M & NAP & 120 & 230 & 0 & Normal & $\\dots$ \\\\\n",
       "\t5 & 5 & 61 & M & NAP & 120 & 249 & 0 & Normal & $\\dots$ \\\\\n",
       "\\end{tabular}\n"
      ],
      "text/plain": [
       "\u001b[1m5×13 DataFrame\u001b[0m\n",
       "\u001b[1m Row \u001b[0m│\u001b[1m ID    \u001b[0m\u001b[1m Age   \u001b[0m\u001b[1m Sex    \u001b[0m\u001b[1m ChestPainType \u001b[0m\u001b[1m RestingBP \u001b[0m\u001b[1m Cholesterol \u001b[0m\u001b[1m FastingBS \u001b[0m\u001b[1m\u001b[0m ⋯\n",
       "\u001b[1m     \u001b[0m│\u001b[90m Int64 \u001b[0m\u001b[90m Int64 \u001b[0m\u001b[90m String \u001b[0m\u001b[90m String        \u001b[0m\u001b[90m Int64     \u001b[0m\u001b[90m Int64       \u001b[0m\u001b[90m Int64     \u001b[0m\u001b[90m\u001b[0m ⋯\n",
       "─────┼──────────────────────────────────────────────────────────────────────────\n",
       "   1 │     1     69  M       ASY                  140          110          1  ⋯\n",
       "   2 │     2     60  M       ASY                  140          293          0\n",
       "   3 │     3     52  M       ASY                  165          249          1\n",
       "   4 │     4     46  M       NAP                  120          230          0\n",
       "   5 │     5     61  M       NAP                  120          249          0  ⋯\n",
       "\u001b[36m                                                               6 columns omitted\u001b[0m"
      ]
     },
     "execution_count": 5,
     "metadata": {},
     "output_type": "execute_result"
    }
   ],
   "source": [
    "cholesterol_mean = floor(Int, mean(skipmissing(data.Cholesterol)))\n",
    "data[!, :Cholesterol] = coalesce.(data.Cholesterol, cholesterol_mean);\n",
    "first(data, 5)"
   ]
  },
  {
   "cell_type": "code",
   "execution_count": 6,
   "id": "incorporated-antibody",
   "metadata": {},
   "outputs": [],
   "source": [
    "data.Cholesterol = replace(data.Cholesterol, missing => cholesterol_mean);"
   ]
  },
  {
   "cell_type": "code",
   "execution_count": 7,
   "id": "innocent-magic",
   "metadata": {},
   "outputs": [
    {
     "data": {
      "text/html": [
       "<table class=\"data-frame\"><thead><tr><th></th><th>ID</th><th>Age</th><th>Sex</th><th>ChestPainType</th><th>RestingBP</th><th>Cholesterol</th><th>FastingBS</th><th>RestingECG</th></tr><tr><th></th><th>Int64</th><th>Int64</th><th>Int64</th><th>String</th><th>Int64</th><th>Int64</th><th>Int64</th><th>String</th></tr></thead><tbody><p>5 rows × 13 columns (omitted printing of 5 columns)</p><tr><th>1</th><td>1</td><td>69</td><td>1</td><td>ASY</td><td>140</td><td>110</td><td>1</td><td>Normal</td></tr><tr><th>2</th><td>2</td><td>60</td><td>1</td><td>ASY</td><td>140</td><td>293</td><td>0</td><td>LVH</td></tr><tr><th>3</th><td>3</td><td>52</td><td>1</td><td>ASY</td><td>165</td><td>249</td><td>1</td><td>Normal</td></tr><tr><th>4</th><td>4</td><td>46</td><td>1</td><td>NAP</td><td>120</td><td>230</td><td>0</td><td>Normal</td></tr><tr><th>5</th><td>5</td><td>61</td><td>1</td><td>NAP</td><td>120</td><td>249</td><td>0</td><td>Normal</td></tr></tbody></table>"
      ],
      "text/latex": [
       "\\begin{tabular}{r|ccccccccc}\n",
       "\t& ID & Age & Sex & ChestPainType & RestingBP & Cholesterol & FastingBS & RestingECG & \\\\\n",
       "\t\\hline\n",
       "\t& Int64 & Int64 & Int64 & String & Int64 & Int64 & Int64 & String & \\\\\n",
       "\t\\hline\n",
       "\t1 & 1 & 69 & 1 & ASY & 140 & 110 & 1 & Normal & $\\dots$ \\\\\n",
       "\t2 & 2 & 60 & 1 & ASY & 140 & 293 & 0 & LVH & $\\dots$ \\\\\n",
       "\t3 & 3 & 52 & 1 & ASY & 165 & 249 & 1 & Normal & $\\dots$ \\\\\n",
       "\t4 & 4 & 46 & 1 & NAP & 120 & 230 & 0 & Normal & $\\dots$ \\\\\n",
       "\t5 & 5 & 61 & 1 & NAP & 120 & 249 & 0 & Normal & $\\dots$ \\\\\n",
       "\\end{tabular}\n"
      ],
      "text/plain": [
       "\u001b[1m5×13 DataFrame\u001b[0m\n",
       "\u001b[1m Row \u001b[0m│\u001b[1m ID    \u001b[0m\u001b[1m Age   \u001b[0m\u001b[1m Sex   \u001b[0m\u001b[1m ChestPainType \u001b[0m\u001b[1m RestingBP \u001b[0m\u001b[1m Cholesterol \u001b[0m\u001b[1m FastingBS \u001b[0m\u001b[1m \u001b[0m ⋯\n",
       "\u001b[1m     \u001b[0m│\u001b[90m Int64 \u001b[0m\u001b[90m Int64 \u001b[0m\u001b[90m Int64 \u001b[0m\u001b[90m String        \u001b[0m\u001b[90m Int64     \u001b[0m\u001b[90m Int64       \u001b[0m\u001b[90m Int64     \u001b[0m\u001b[90m \u001b[0m ⋯\n",
       "─────┼──────────────────────────────────────────────────────────────────────────\n",
       "   1 │     1     69      1  ASY                  140          110          1   ⋯\n",
       "   2 │     2     60      1  ASY                  140          293          0\n",
       "   3 │     3     52      1  ASY                  165          249          1\n",
       "   4 │     4     46      1  NAP                  120          230          0\n",
       "   5 │     5     61      1  NAP                  120          249          0   ⋯\n",
       "\u001b[36m                                                               6 columns omitted\u001b[0m"
      ]
     },
     "execution_count": 7,
     "metadata": {},
     "output_type": "execute_result"
    }
   ],
   "source": [
    "sex = zeros(Int, n)\n",
    "\n",
    "for i in 1:n\n",
    "    if (data.Sex[i] == \"M\")\n",
    "        sex[i] = 1;\n",
    "    end\n",
    "end\n",
    "data[!, :Sex] = sex;\n",
    "first(data, 5)"
   ]
  },
  {
   "cell_type": "code",
   "execution_count": 8,
   "id": "worthy-shopping",
   "metadata": {},
   "outputs": [
    {
     "data": {
      "text/html": [
       "<table class=\"data-frame\"><thead><tr><th></th><th>ID</th><th>Age</th><th>Sex</th><th>RestingBP</th><th>Cholesterol</th><th>FastingBS</th><th>RestingECG</th><th>MaxHR</th><th>ExerciseAngina</th></tr><tr><th></th><th>Int64</th><th>Int64</th><th>Int64</th><th>Int64</th><th>Int64</th><th>Int64</th><th>String</th><th>Int64</th><th>String</th></tr></thead><tbody><p>3 rows × 15 columns (omitted printing of 6 columns)</p><tr><th>1</th><td>1</td><td>69</td><td>1</td><td>140</td><td>110</td><td>1</td><td>Normal</td><td>109</td><td>Y</td></tr><tr><th>2</th><td>2</td><td>60</td><td>1</td><td>140</td><td>293</td><td>0</td><td>LVH</td><td>170</td><td>N</td></tr><tr><th>3</th><td>3</td><td>52</td><td>1</td><td>165</td><td>249</td><td>1</td><td>Normal</td><td>122</td><td>Y</td></tr></tbody></table>"
      ],
      "text/latex": [
       "\\begin{tabular}{r|cccccccccc}\n",
       "\t& ID & Age & Sex & RestingBP & Cholesterol & FastingBS & RestingECG & MaxHR & ExerciseAngina & \\\\\n",
       "\t\\hline\n",
       "\t& Int64 & Int64 & Int64 & Int64 & Int64 & Int64 & String & Int64 & String & \\\\\n",
       "\t\\hline\n",
       "\t1 & 1 & 69 & 1 & 140 & 110 & 1 & Normal & 109 & Y & $\\dots$ \\\\\n",
       "\t2 & 2 & 60 & 1 & 140 & 293 & 0 & LVH & 170 & N & $\\dots$ \\\\\n",
       "\t3 & 3 & 52 & 1 & 165 & 249 & 1 & Normal & 122 & Y & $\\dots$ \\\\\n",
       "\\end{tabular}\n"
      ],
      "text/plain": [
       "\u001b[1m3×15 DataFrame\u001b[0m\n",
       "\u001b[1m Row \u001b[0m│\u001b[1m ID    \u001b[0m\u001b[1m Age   \u001b[0m\u001b[1m Sex   \u001b[0m\u001b[1m RestingBP \u001b[0m\u001b[1m Cholesterol \u001b[0m\u001b[1m FastingBS \u001b[0m\u001b[1m RestingECG \u001b[0m\u001b[1m Max\u001b[0m ⋯\n",
       "\u001b[1m     \u001b[0m│\u001b[90m Int64 \u001b[0m\u001b[90m Int64 \u001b[0m\u001b[90m Int64 \u001b[0m\u001b[90m Int64     \u001b[0m\u001b[90m Int64       \u001b[0m\u001b[90m Int64     \u001b[0m\u001b[90m String     \u001b[0m\u001b[90m Int\u001b[0m ⋯\n",
       "─────┼──────────────────────────────────────────────────────────────────────────\n",
       "   1 │     1     69      1        140          110          1  Normal        1 ⋯\n",
       "   2 │     2     60      1        140          293          0  LVH           1\n",
       "   3 │     3     52      1        165          249          1  Normal        1\n",
       "\u001b[36m                                                               8 columns omitted\u001b[0m"
      ]
     },
     "execution_count": 8,
     "metadata": {},
     "output_type": "execute_result"
    }
   ],
   "source": [
    "ChestPainType1 = zeros(Int, n)\n",
    "ChestPainType2 = zeros(Int, n)\n",
    "ChestPainType3 = zeros(Int, n)\n",
    "\n",
    "for i in 1:n\n",
    "    if (data.ChestPainType[i] == \"ATA\")\n",
    "        ChestPainType1[i] = 1;\n",
    "    elseif (data.ChestPainType[i] == \"NAP\")\n",
    "        ChestPainType2[i] = 1; \n",
    "    elseif (data.ChestPainType[i] == \"ASY\")\n",
    "        ChestPainType3[i] = 1;\n",
    "    end\n",
    "end\n",
    "select!(data, Not(:ChestPainType))\n",
    "data[!, :ChestPainType1] = ChestPainType1;\n",
    "data[!, :ChestPainType2] = ChestPainType2;\n",
    "data[!, :ChestPainType3] = ChestPainType3;\n",
    "first(data, 3)"
   ]
  },
  {
   "cell_type": "code",
   "execution_count": 9,
   "id": "extreme-being",
   "metadata": {},
   "outputs": [
    {
     "data": {
      "text/html": [
       "<table class=\"data-frame\"><thead><tr><th></th><th>ID</th><th>Age</th><th>Sex</th><th>RestingBP</th><th>Cholesterol</th><th>FastingBS</th><th>MaxHR</th><th>ExerciseAngina</th><th>Oldpeak</th></tr><tr><th></th><th>Int64</th><th>Int64</th><th>Int64</th><th>Int64</th><th>Int64</th><th>Int64</th><th>Int64</th><th>String</th><th>Float64</th></tr></thead><tbody><p>3 rows × 16 columns (omitted printing of 7 columns)</p><tr><th>1</th><td>1</td><td>69</td><td>1</td><td>140</td><td>110</td><td>1</td><td>109</td><td>Y</td><td>1.5</td></tr><tr><th>2</th><td>2</td><td>60</td><td>1</td><td>140</td><td>293</td><td>0</td><td>170</td><td>N</td><td>1.2</td></tr><tr><th>3</th><td>3</td><td>52</td><td>1</td><td>165</td><td>249</td><td>1</td><td>122</td><td>Y</td><td>1.0</td></tr></tbody></table>"
      ],
      "text/latex": [
       "\\begin{tabular}{r|cccccccccc}\n",
       "\t& ID & Age & Sex & RestingBP & Cholesterol & FastingBS & MaxHR & ExerciseAngina & Oldpeak & \\\\\n",
       "\t\\hline\n",
       "\t& Int64 & Int64 & Int64 & Int64 & Int64 & Int64 & Int64 & String & Float64 & \\\\\n",
       "\t\\hline\n",
       "\t1 & 1 & 69 & 1 & 140 & 110 & 1 & 109 & Y & 1.5 & $\\dots$ \\\\\n",
       "\t2 & 2 & 60 & 1 & 140 & 293 & 0 & 170 & N & 1.2 & $\\dots$ \\\\\n",
       "\t3 & 3 & 52 & 1 & 165 & 249 & 1 & 122 & Y & 1.0 & $\\dots$ \\\\\n",
       "\\end{tabular}\n"
      ],
      "text/plain": [
       "\u001b[1m3×16 DataFrame\u001b[0m\n",
       "\u001b[1m Row \u001b[0m│\u001b[1m ID    \u001b[0m\u001b[1m Age   \u001b[0m\u001b[1m Sex   \u001b[0m\u001b[1m RestingBP \u001b[0m\u001b[1m Cholesterol \u001b[0m\u001b[1m FastingBS \u001b[0m\u001b[1m MaxHR \u001b[0m\u001b[1m Exercise\u001b[0m ⋯\n",
       "\u001b[1m     \u001b[0m│\u001b[90m Int64 \u001b[0m\u001b[90m Int64 \u001b[0m\u001b[90m Int64 \u001b[0m\u001b[90m Int64     \u001b[0m\u001b[90m Int64       \u001b[0m\u001b[90m Int64     \u001b[0m\u001b[90m Int64 \u001b[0m\u001b[90m String  \u001b[0m ⋯\n",
       "─────┼──────────────────────────────────────────────────────────────────────────\n",
       "   1 │     1     69      1        140          110          1    109  Y        ⋯\n",
       "   2 │     2     60      1        140          293          0    170  N\n",
       "   3 │     3     52      1        165          249          1    122  Y\n",
       "\u001b[36m                                                               9 columns omitted\u001b[0m"
      ]
     },
     "execution_count": 9,
     "metadata": {},
     "output_type": "execute_result"
    }
   ],
   "source": [
    "restingECG1 = zeros(Int, n)\n",
    "restingECG2 = zeros(Int, n)\n",
    "\n",
    "for i in 1:n\n",
    "    if (data.RestingECG[i] == \"ST\")\n",
    "        restingECG1[i] = 1;\n",
    "    elseif (data.RestingECG[i] == \"LVH\")\n",
    "        restingECG2[i] = 1;  \n",
    "    end\n",
    "end\n",
    "select!(data, Not(:RestingECG))\n",
    "data[!, :RestingECG1] = restingECG1;\n",
    "data[!, :RestingECG2] = restingECG2;\n",
    "first(data, 3)"
   ]
  },
  {
   "cell_type": "code",
   "execution_count": 10,
   "id": "micro-census",
   "metadata": {},
   "outputs": [],
   "source": [
    "exerciseAngina = zeros(Int, n)\n",
    "\n",
    "for i in 1:n\n",
    "    if (data.ExerciseAngina[i] == \"Y\")\n",
    "        exerciseAngina[i] = 1;\n",
    "    end\n",
    "end\n",
    "data[!, :ExerciseAngina] = exerciseAngina;"
   ]
  },
  {
   "cell_type": "code",
   "execution_count": 11,
   "id": "subsequent-stomach",
   "metadata": {},
   "outputs": [],
   "source": [
    "STSlope1 = zeros(Int, n)\n",
    "STSlope2 = zeros(Int, n)\n",
    "\n",
    "for i in 1:n\n",
    "    if (data.STSlope[i] == \"Flat\")\n",
    "        STSlope1[i] = 1;\n",
    "    elseif (data.STSlope[i] == \"Down\")\n",
    "        STSlope2[i] = 1;  \n",
    "    end\n",
    "end\n",
    "select!(data, Not(:STSlope))\n",
    "data[!, :STSlope1] = STSlope1;\n",
    "data[!, :STSlope2] = STSlope2;\n",
    "\n"
   ]
  },
  {
   "cell_type": "code",
   "execution_count": 12,
   "id": "naked-morris",
   "metadata": {},
   "outputs": [
    {
     "data": {
      "text/plain": [
       "15-element Array{Symbol,1}:\n",
       " :Age\n",
       " :Sex\n",
       " :RestingBP\n",
       " :Cholesterol\n",
       " :FastingBS\n",
       " :MaxHR\n",
       " :ExerciseAngina\n",
       " :Oldpeak\n",
       " :ChestPainType1\n",
       " :ChestPainType2\n",
       " :ChestPainType3\n",
       " :RestingECG1\n",
       " :RestingECG2\n",
       " :STSlope1\n",
       " :STSlope2"
      ]
     },
     "execution_count": 12,
     "metadata": {},
     "output_type": "execute_result"
    }
   ],
   "source": [
    "variables = propertynames(select(data, Not([:ID, :HeartDisease])))\n",
    "variables"
   ]
  },
  {
   "cell_type": "code",
   "execution_count": null,
   "id": "mental-diamond",
   "metadata": {},
   "outputs": [],
   "source": [
    "distribution_types = Dict(\n",
    "    :Age => [Normal{Float64}, Normal{Float64}],\n",
    "    :Sex => [Normal{Float64}, Normal{Float64}],\n",
    "    :Sex => [Normal{Float64}, Normal{Float64}],\n",
    "    :RestingBP => [Normal{Float64}, Normal{Float64}],\n",
    "    :Cholesterol => [Normal{Float64}, Normal{Float64}],\n",
    "    :FastingBS => [Normal{Float64}, Normal{Float64}],\n",
    "    :MaxHR => [Normal{Float64}, Normal{Float64}],\n",
    "    :ExerciseAngina => [Normal{Float64}, Normal{Float64}],\n",
    "    :Oldpeak => [Normal{Float64}, Normal{Float64}],\n",
    "    :ChestPainType1 => [Normal{Float64}, Normal{Float64}],\n",
    "    :ChestPainType2 => [Normal{Float64}, Normal{Float64}],\n",
    "    :ChestPainType3 => [Normal{Float64}, Normal{Float64}],\n",
    "    :RestingECG1 => [Normal{Float64}, Normal{Float64}],\n",
    "    :RestingECG2 => [Normal{Float64}, Normal{Float64}],\n",
    "    :STSlope1 => [Normal{Float64}, Normal{Float64}],\n",
    "    :STSlope2 => [Normal{Float64}, Normal{Float64}],\n",
    ")"
   ]
  },
  {
   "cell_type": "code",
   "execution_count": 13,
   "id": "advised-seattle",
   "metadata": {},
   "outputs": [
    {
     "ename": "LoadError",
     "evalue": "UndefVarError: train not defined",
     "output_type": "error",
     "traceback": [
      "UndefVarError: train not defined",
      "",
      "Stacktrace:",
      " [1] top-level scope at In[13]:1",
      " [2] include_string(::Function, ::Module, ::String, ::String) at ./loading.jl:1091"
     ]
    }
   ],
   "source": [
    "HeartDisease_Positive = filter(row -> row.Duration != 0, train)\n",
    "HeartDisease_Negative = filter(row -> row.Duration == 0, train)\n",
    "\n",
    "n₀ = size(HeartDisease_Negative, 1)\n",
    "n₁ = size(HeartDisease_Positive, 1)\n",
    "n = n₁ + n₀\n",
    "\n",
    "(α,β) = (1,1)\n",
    "p₁ = (α + n₁)/(α + β + n)\n",
    "p₀ = (β + n₀)/(α + β + n)"
   ]
  },
  {
   "cell_type": "code",
   "execution_count": null,
   "id": "incredible-stockholm",
   "metadata": {},
   "outputs": [],
   "source": []
  }
 ],
 "metadata": {
  "kernelspec": {
   "display_name": "Julia 1.5.3",
   "language": "julia",
   "name": "julia-1.5"
  },
  "language_info": {
   "file_extension": ".jl",
   "mimetype": "application/julia",
   "name": "julia",
   "version": "1.5.3"
  }
 },
 "nbformat": 4,
 "nbformat_minor": 5
}
