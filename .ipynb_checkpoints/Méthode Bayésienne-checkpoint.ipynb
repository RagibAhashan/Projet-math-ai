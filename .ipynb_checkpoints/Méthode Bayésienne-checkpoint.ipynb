{
 "cells": [
  {
   "cell_type": "code",
   "execution_count": 1,
   "id": "descending-theory",
   "metadata": {},
   "outputs": [],
   "source": [
    "ENV[\"COLUMNS\"] = 150\n",
    "using CSV, DataFrames, Gadfly, GLM, Statistics, LinearAlgebra, Distributions, Combinatorics, StatsBase, MLBase, Random"
   ]
  },
  {
   "cell_type": "code",
   "execution_count": 2,
   "id": "sixth-australia",
   "metadata": {},
   "outputs": [],
   "source": [
    "include(\"functions.jl\");"
   ]
  },
  {
   "cell_type": "code",
   "execution_count": 3,
   "id": "macro-player",
   "metadata": {},
   "outputs": [
    {
     "data": {
      "text/html": [
       "<table class=\"data-frame\"><thead><tr><th></th><th>ID</th><th>Age</th><th>Sex</th><th>ChestPainType</th><th>RestingBP</th><th>Cholesterol</th><th>FastingBS</th><th>RestingECG</th><th>MaxHR</th><th>ExerciseAngina</th><th>Oldpeak</th><th>STSlope</th><th>HeartDisease</th></tr><tr><th></th><th>Int64</th><th>Int64</th><th>String1</th><th>String3</th><th>Int64</th><th>Int64?</th><th>Int64</th><th>String7</th><th>Int64</th><th>String1</th><th>Float64</th><th>String7</th><th>Int64</th></tr></thead><tbody><p>5 rows × 13 columns</p><tr><th>1</th><td>1</td><td>69</td><td>M</td><td>ASY</td><td>140</td><td>110</td><td>1</td><td>Normal</td><td>109</td><td>Y</td><td>1.5</td><td>Flat</td><td>1</td></tr><tr><th>2</th><td>2</td><td>60</td><td>M</td><td>ASY</td><td>140</td><td>293</td><td>0</td><td>LVH</td><td>170</td><td>N</td><td>1.2</td><td>Flat</td><td>1</td></tr><tr><th>3</th><td>3</td><td>52</td><td>M</td><td>ASY</td><td>165</td><td><em>missing</em></td><td>1</td><td>Normal</td><td>122</td><td>Y</td><td>1.0</td><td>Up</td><td>1</td></tr><tr><th>4</th><td>4</td><td>46</td><td>M</td><td>NAP</td><td>120</td><td>230</td><td>0</td><td>Normal</td><td>150</td><td>N</td><td>0.0</td><td>Up</td><td>0</td></tr><tr><th>5</th><td>5</td><td>61</td><td>M</td><td>NAP</td><td>120</td><td><em>missing</em></td><td>0</td><td>Normal</td><td>80</td><td>Y</td><td>0.0</td><td>Flat</td><td>1</td></tr></tbody></table>"
      ],
      "text/latex": [
       "\\begin{tabular}{r|ccccccccccccc}\n",
       "\t& ID & Age & Sex & ChestPainType & RestingBP & Cholesterol & FastingBS & RestingECG & MaxHR & ExerciseAngina & Oldpeak & STSlope & HeartDisease\\\\\n",
       "\t\\hline\n",
       "\t& Int64 & Int64 & String1 & String3 & Int64 & Int64? & Int64 & String7 & Int64 & String1 & Float64 & String7 & Int64\\\\\n",
       "\t\\hline\n",
       "\t1 & 1 & 69 & M & ASY & 140 & 110 & 1 & Normal & 109 & Y & 1.5 & Flat & 1 \\\\\n",
       "\t2 & 2 & 60 & M & ASY & 140 & 293 & 0 & LVH & 170 & N & 1.2 & Flat & 1 \\\\\n",
       "\t3 & 3 & 52 & M & ASY & 165 & \\emph{missing} & 1 & Normal & 122 & Y & 1.0 & Up & 1 \\\\\n",
       "\t4 & 4 & 46 & M & NAP & 120 & 230 & 0 & Normal & 150 & N & 0.0 & Up & 0 \\\\\n",
       "\t5 & 5 & 61 & M & NAP & 120 & \\emph{missing} & 0 & Normal & 80 & Y & 0.0 & Flat & 1 \\\\\n",
       "\\end{tabular}\n"
      ],
      "text/plain": [
       "\u001b[1m5×13 DataFrame\u001b[0m\n",
       "\u001b[1m Row \u001b[0m│\u001b[1m ID    \u001b[0m\u001b[1m Age   \u001b[0m\u001b[1m Sex     \u001b[0m\u001b[1m ChestPainType \u001b[0m\u001b[1m RestingBP \u001b[0m\u001b[1m Cholesterol \u001b[0m\u001b[1m FastingBS \u001b[0m\u001b[1m RestingECG \u001b[0m\u001b[1m MaxHR \u001b[0m\u001b[1m ExerciseAngina \u001b[0m\u001b[1m Oldpeak \u001b[0m\u001b[1m STSlope \u001b[0m\u001b[1m HeartDisease \u001b[0m\n",
       "\u001b[1m     \u001b[0m│\u001b[90m Int64 \u001b[0m\u001b[90m Int64 \u001b[0m\u001b[90m String1 \u001b[0m\u001b[90m String3       \u001b[0m\u001b[90m Int64     \u001b[0m\u001b[90m Int64?      \u001b[0m\u001b[90m Int64     \u001b[0m\u001b[90m String7    \u001b[0m\u001b[90m Int64 \u001b[0m\u001b[90m String1        \u001b[0m\u001b[90m Float64 \u001b[0m\u001b[90m String7 \u001b[0m\u001b[90m Int64        \u001b[0m\n",
       "─────┼────────────────────────────────────────────────────────────────────────────────────────────────────────────────────────────────────────────\n",
       "   1 │     1     69  M        ASY                  140          110          1  Normal        109  Y                   1.5  Flat                1\n",
       "   2 │     2     60  M        ASY                  140          293          0  LVH           170  N                   1.2  Flat                1\n",
       "   3 │     3     52  M        ASY                  165 \u001b[90m     missing \u001b[0m         1  Normal        122  Y                   1.0  Up                  1\n",
       "   4 │     4     46  M        NAP                  120          230          0  Normal        150  N                   0.0  Up                  0\n",
       "   5 │     5     61  M        NAP                  120 \u001b[90m     missing \u001b[0m         0  Normal         80  Y                   0.0  Flat                1"
      ]
     },
     "execution_count": 3,
     "metadata": {},
     "output_type": "execute_result"
    }
   ],
   "source": [
    "data = CSV.read(\"train.csv\", DataFrame)\n",
    "test = CSV.read(\"test_real.csv\", DataFrame)\n",
    "y = data[:, :HeartDisease]\n",
    "n = length(y)\n",
    "first(data,5)\n"
   ]
  },
  {
   "cell_type": "markdown",
   "id": "7c9c414e",
   "metadata": {},
   "source": []
  },
  {
   "cell_type": "markdown",
   "id": "derived-algeria",
   "metadata": {},
   "source": [
    "# Data Cleaning (Taking out missing rows)"
   ]
  },
  {
   "cell_type": "code",
   "execution_count": 4,
   "id": "mechanical-bridal",
   "metadata": {},
   "outputs": [
    {
     "data": {
      "text/plain": [
       "Dict{Int64, Int64} with 2 entries:\n",
       "  0 => 315\n",
       "  1 => 373"
      ]
     },
     "execution_count": 4,
     "metadata": {},
     "output_type": "execute_result"
    }
   ],
   "source": [
    "countmap(data.HeartDisease)"
   ]
  },
  {
   "cell_type": "code",
   "execution_count": 5,
   "id": "artistic-graham",
   "metadata": {},
   "outputs": [
    {
     "data": {
      "text/html": [
       "<table class=\"data-frame\"><thead><tr><th></th><th>ID</th><th>Age</th><th>Sex</th><th>ChestPainType</th><th>RestingBP</th><th>Cholesterol</th><th>FastingBS</th><th>RestingECG</th><th>MaxHR</th><th>ExerciseAngina</th><th>Oldpeak</th><th>STSlope</th><th>HeartDisease</th></tr><tr><th></th><th>Int64</th><th>Int64</th><th>String1</th><th>String3</th><th>Int64</th><th>Int64</th><th>Int64</th><th>String7</th><th>Int64</th><th>String1</th><th>Float64</th><th>String7</th><th>Int64</th></tr></thead><tbody><p>5 rows × 13 columns</p><tr><th>1</th><td>1</td><td>69</td><td>M</td><td>ASY</td><td>140</td><td>110</td><td>1</td><td>Normal</td><td>109</td><td>Y</td><td>1.5</td><td>Flat</td><td>1</td></tr><tr><th>2</th><td>2</td><td>60</td><td>M</td><td>ASY</td><td>140</td><td>293</td><td>0</td><td>LVH</td><td>170</td><td>N</td><td>1.2</td><td>Flat</td><td>1</td></tr><tr><th>3</th><td>3</td><td>52</td><td>M</td><td>ASY</td><td>165</td><td>244</td><td>1</td><td>Normal</td><td>122</td><td>Y</td><td>1.0</td><td>Up</td><td>1</td></tr><tr><th>4</th><td>4</td><td>46</td><td>M</td><td>NAP</td><td>120</td><td>230</td><td>0</td><td>Normal</td><td>150</td><td>N</td><td>0.0</td><td>Up</td><td>0</td></tr><tr><th>5</th><td>5</td><td>61</td><td>M</td><td>NAP</td><td>120</td><td>244</td><td>0</td><td>Normal</td><td>80</td><td>Y</td><td>0.0</td><td>Flat</td><td>1</td></tr></tbody></table>"
      ],
      "text/latex": [
       "\\begin{tabular}{r|ccccccccccccc}\n",
       "\t& ID & Age & Sex & ChestPainType & RestingBP & Cholesterol & FastingBS & RestingECG & MaxHR & ExerciseAngina & Oldpeak & STSlope & HeartDisease\\\\\n",
       "\t\\hline\n",
       "\t& Int64 & Int64 & String1 & String3 & Int64 & Int64 & Int64 & String7 & Int64 & String1 & Float64 & String7 & Int64\\\\\n",
       "\t\\hline\n",
       "\t1 & 1 & 69 & M & ASY & 140 & 110 & 1 & Normal & 109 & Y & 1.5 & Flat & 1 \\\\\n",
       "\t2 & 2 & 60 & M & ASY & 140 & 293 & 0 & LVH & 170 & N & 1.2 & Flat & 1 \\\\\n",
       "\t3 & 3 & 52 & M & ASY & 165 & 244 & 1 & Normal & 122 & Y & 1.0 & Up & 1 \\\\\n",
       "\t4 & 4 & 46 & M & NAP & 120 & 230 & 0 & Normal & 150 & N & 0.0 & Up & 0 \\\\\n",
       "\t5 & 5 & 61 & M & NAP & 120 & 244 & 0 & Normal & 80 & Y & 0.0 & Flat & 1 \\\\\n",
       "\\end{tabular}\n"
      ],
      "text/plain": [
       "\u001b[1m5×13 DataFrame\u001b[0m\n",
       "\u001b[1m Row \u001b[0m│\u001b[1m ID    \u001b[0m\u001b[1m Age   \u001b[0m\u001b[1m Sex     \u001b[0m\u001b[1m ChestPainType \u001b[0m\u001b[1m RestingBP \u001b[0m\u001b[1m Cholesterol \u001b[0m\u001b[1m FastingBS \u001b[0m\u001b[1m RestingECG \u001b[0m\u001b[1m MaxHR \u001b[0m\u001b[1m ExerciseAngina \u001b[0m\u001b[1m Oldpeak \u001b[0m\u001b[1m STSlope \u001b[0m\u001b[1m HeartDisease \u001b[0m\n",
       "\u001b[1m     \u001b[0m│\u001b[90m Int64 \u001b[0m\u001b[90m Int64 \u001b[0m\u001b[90m String1 \u001b[0m\u001b[90m String3       \u001b[0m\u001b[90m Int64     \u001b[0m\u001b[90m Int64       \u001b[0m\u001b[90m Int64     \u001b[0m\u001b[90m String7    \u001b[0m\u001b[90m Int64 \u001b[0m\u001b[90m String1        \u001b[0m\u001b[90m Float64 \u001b[0m\u001b[90m String7 \u001b[0m\u001b[90m Int64        \u001b[0m\n",
       "─────┼────────────────────────────────────────────────────────────────────────────────────────────────────────────────────────────────────────────\n",
       "   1 │     1     69  M        ASY                  140          110          1  Normal        109  Y                   1.5  Flat                1\n",
       "   2 │     2     60  M        ASY                  140          293          0  LVH           170  N                   1.2  Flat                1\n",
       "   3 │     3     52  M        ASY                  165          244          1  Normal        122  Y                   1.0  Up                  1\n",
       "   4 │     4     46  M        NAP                  120          230          0  Normal        150  N                   0.0  Up                  0\n",
       "   5 │     5     61  M        NAP                  120          244          0  Normal         80  Y                   0.0  Flat                1"
      ]
     },
     "execution_count": 5,
     "metadata": {},
     "output_type": "execute_result"
    }
   ],
   "source": [
    "# For Data\n",
    "cholesterol_mean = floor(Int, mean(skipmissing(data.Cholesterol)))\n",
    "data[!, :Cholesterol] = coalesce.(data.Cholesterol, cholesterol_mean);\n",
    "first(data, 5)"
   ]
  },
  {
   "cell_type": "code",
   "execution_count": 6,
   "id": "incorporated-antibody",
   "metadata": {},
   "outputs": [],
   "source": [
    "data.Cholesterol = replace(data.Cholesterol, missing => cholesterol_mean);\n",
    "\n",
    "test.Cholesterol = replace(test.Cholesterol, missing => cholesterol_mean);"
   ]
  },
  {
   "cell_type": "code",
   "execution_count": 7,
   "id": "innocent-magic",
   "metadata": {},
   "outputs": [
    {
     "data": {
      "text/html": [
       "<table class=\"data-frame\"><thead><tr><th></th><th>ID</th><th>Age</th><th>Sex</th><th>ChestPainType</th><th>RestingBP</th><th>Cholesterol</th><th>FastingBS</th><th>RestingECG</th><th>MaxHR</th><th>ExerciseAngina</th><th>Oldpeak</th><th>STSlope</th><th>HeartDisease</th></tr><tr><th></th><th>Int64</th><th>Int64</th><th>Int64</th><th>String3</th><th>Int64</th><th>Int64</th><th>Int64</th><th>String7</th><th>Int64</th><th>String1</th><th>Float64</th><th>String7</th><th>Int64</th></tr></thead><tbody><p>5 rows × 13 columns</p><tr><th>1</th><td>1</td><td>69</td><td>1</td><td>ASY</td><td>140</td><td>110</td><td>1</td><td>Normal</td><td>109</td><td>Y</td><td>1.5</td><td>Flat</td><td>1</td></tr><tr><th>2</th><td>2</td><td>60</td><td>1</td><td>ASY</td><td>140</td><td>293</td><td>0</td><td>LVH</td><td>170</td><td>N</td><td>1.2</td><td>Flat</td><td>1</td></tr><tr><th>3</th><td>3</td><td>52</td><td>1</td><td>ASY</td><td>165</td><td>244</td><td>1</td><td>Normal</td><td>122</td><td>Y</td><td>1.0</td><td>Up</td><td>1</td></tr><tr><th>4</th><td>4</td><td>46</td><td>1</td><td>NAP</td><td>120</td><td>230</td><td>0</td><td>Normal</td><td>150</td><td>N</td><td>0.0</td><td>Up</td><td>0</td></tr><tr><th>5</th><td>5</td><td>61</td><td>1</td><td>NAP</td><td>120</td><td>244</td><td>0</td><td>Normal</td><td>80</td><td>Y</td><td>0.0</td><td>Flat</td><td>1</td></tr></tbody></table>"
      ],
      "text/latex": [
       "\\begin{tabular}{r|ccccccccccccc}\n",
       "\t& ID & Age & Sex & ChestPainType & RestingBP & Cholesterol & FastingBS & RestingECG & MaxHR & ExerciseAngina & Oldpeak & STSlope & HeartDisease\\\\\n",
       "\t\\hline\n",
       "\t& Int64 & Int64 & Int64 & String3 & Int64 & Int64 & Int64 & String7 & Int64 & String1 & Float64 & String7 & Int64\\\\\n",
       "\t\\hline\n",
       "\t1 & 1 & 69 & 1 & ASY & 140 & 110 & 1 & Normal & 109 & Y & 1.5 & Flat & 1 \\\\\n",
       "\t2 & 2 & 60 & 1 & ASY & 140 & 293 & 0 & LVH & 170 & N & 1.2 & Flat & 1 \\\\\n",
       "\t3 & 3 & 52 & 1 & ASY & 165 & 244 & 1 & Normal & 122 & Y & 1.0 & Up & 1 \\\\\n",
       "\t4 & 4 & 46 & 1 & NAP & 120 & 230 & 0 & Normal & 150 & N & 0.0 & Up & 0 \\\\\n",
       "\t5 & 5 & 61 & 1 & NAP & 120 & 244 & 0 & Normal & 80 & Y & 0.0 & Flat & 1 \\\\\n",
       "\\end{tabular}\n"
      ],
      "text/plain": [
       "\u001b[1m5×13 DataFrame\u001b[0m\n",
       "\u001b[1m Row \u001b[0m│\u001b[1m ID    \u001b[0m\u001b[1m Age   \u001b[0m\u001b[1m Sex   \u001b[0m\u001b[1m ChestPainType \u001b[0m\u001b[1m RestingBP \u001b[0m\u001b[1m Cholesterol \u001b[0m\u001b[1m FastingBS \u001b[0m\u001b[1m RestingECG \u001b[0m\u001b[1m MaxHR \u001b[0m\u001b[1m ExerciseAngina \u001b[0m\u001b[1m Oldpeak \u001b[0m\u001b[1m STSlope \u001b[0m\u001b[1m HeartDisease \u001b[0m\n",
       "\u001b[1m     \u001b[0m│\u001b[90m Int64 \u001b[0m\u001b[90m Int64 \u001b[0m\u001b[90m Int64 \u001b[0m\u001b[90m String3       \u001b[0m\u001b[90m Int64     \u001b[0m\u001b[90m Int64       \u001b[0m\u001b[90m Int64     \u001b[0m\u001b[90m String7    \u001b[0m\u001b[90m Int64 \u001b[0m\u001b[90m String1        \u001b[0m\u001b[90m Float64 \u001b[0m\u001b[90m String7 \u001b[0m\u001b[90m Int64        \u001b[0m\n",
       "─────┼──────────────────────────────────────────────────────────────────────────────────────────────────────────────────────────────────────────\n",
       "   1 │     1     69      1  ASY                  140          110          1  Normal        109  Y                   1.5  Flat                1\n",
       "   2 │     2     60      1  ASY                  140          293          0  LVH           170  N                   1.2  Flat                1\n",
       "   3 │     3     52      1  ASY                  165          244          1  Normal        122  Y                   1.0  Up                  1\n",
       "   4 │     4     46      1  NAP                  120          230          0  Normal        150  N                   0.0  Up                  0\n",
       "   5 │     5     61      1  NAP                  120          244          0  Normal         80  Y                   0.0  Flat                1"
      ]
     },
     "execution_count": 7,
     "metadata": {},
     "output_type": "execute_result"
    }
   ],
   "source": [
    "sex = zeros(Int, n)\n",
    "\n",
    "for i in 1:n\n",
    "    if (data.Sex[i] == \"M\")\n",
    "        sex[i] = 1;\n",
    "    end\n",
    "end\n",
    "data[!, :Sex] = sex;\n",
    "first(data, 5)"
   ]
  },
  {
   "cell_type": "code",
   "execution_count": 8,
   "id": "worthy-shopping",
   "metadata": {},
   "outputs": [
    {
     "data": {
      "text/html": [
       "<table class=\"data-frame\"><thead><tr><th></th><th>ID</th><th>Age</th><th>Sex</th><th>RestingBP</th><th>Cholesterol</th><th>FastingBS</th><th>RestingECG</th><th>MaxHR</th><th>ExerciseAngina</th><th>Oldpeak</th><th>STSlope</th><th>HeartDisease</th><th>ChestPainType1</th><th>ChestPainType2</th></tr><tr><th></th><th>Int64</th><th>Int64</th><th>Int64</th><th>Int64</th><th>Int64</th><th>Int64</th><th>String7</th><th>Int64</th><th>String1</th><th>Float64</th><th>String7</th><th>Int64</th><th>Int64</th><th>Int64</th></tr></thead><tbody><p>3 rows × 15 columns (omitted printing of 1 columns)</p><tr><th>1</th><td>1</td><td>69</td><td>1</td><td>140</td><td>110</td><td>1</td><td>Normal</td><td>109</td><td>Y</td><td>1.5</td><td>Flat</td><td>1</td><td>0</td><td>0</td></tr><tr><th>2</th><td>2</td><td>60</td><td>1</td><td>140</td><td>293</td><td>0</td><td>LVH</td><td>170</td><td>N</td><td>1.2</td><td>Flat</td><td>1</td><td>0</td><td>0</td></tr><tr><th>3</th><td>3</td><td>52</td><td>1</td><td>165</td><td>244</td><td>1</td><td>Normal</td><td>122</td><td>Y</td><td>1.0</td><td>Up</td><td>1</td><td>0</td><td>0</td></tr></tbody></table>"
      ],
      "text/latex": [
       "\\begin{tabular}{r|ccccccccccccccc}\n",
       "\t& ID & Age & Sex & RestingBP & Cholesterol & FastingBS & RestingECG & MaxHR & ExerciseAngina & Oldpeak & STSlope & HeartDisease & ChestPainType1 & ChestPainType2 & \\\\\n",
       "\t\\hline\n",
       "\t& Int64 & Int64 & Int64 & Int64 & Int64 & Int64 & String7 & Int64 & String1 & Float64 & String7 & Int64 & Int64 & Int64 & \\\\\n",
       "\t\\hline\n",
       "\t1 & 1 & 69 & 1 & 140 & 110 & 1 & Normal & 109 & Y & 1.5 & Flat & 1 & 0 & 0 & $\\dots$ \\\\\n",
       "\t2 & 2 & 60 & 1 & 140 & 293 & 0 & LVH & 170 & N & 1.2 & Flat & 1 & 0 & 0 & $\\dots$ \\\\\n",
       "\t3 & 3 & 52 & 1 & 165 & 244 & 1 & Normal & 122 & Y & 1.0 & Up & 1 & 0 & 0 & $\\dots$ \\\\\n",
       "\\end{tabular}\n"
      ],
      "text/plain": [
       "\u001b[1m3×15 DataFrame\u001b[0m\n",
       "\u001b[1m Row \u001b[0m│\u001b[1m ID    \u001b[0m\u001b[1m Age   \u001b[0m\u001b[1m Sex   \u001b[0m\u001b[1m RestingBP \u001b[0m\u001b[1m Cholesterol \u001b[0m\u001b[1m FastingBS \u001b[0m\u001b[1m RestingECG \u001b[0m\u001b[1m MaxHR \u001b[0m\u001b[1m ExerciseAngina \u001b[0m\u001b[1m Oldpeak \u001b[0m\u001b[1m STSlope \u001b[0m\u001b[1m HeartDisease \u001b[0m\u001b[1m ChestPainType1 \u001b[0m\u001b[1m Ch\u001b[0m ⋯\n",
       "\u001b[1m     \u001b[0m│\u001b[90m Int64 \u001b[0m\u001b[90m Int64 \u001b[0m\u001b[90m Int64 \u001b[0m\u001b[90m Int64     \u001b[0m\u001b[90m Int64       \u001b[0m\u001b[90m Int64     \u001b[0m\u001b[90m String7    \u001b[0m\u001b[90m Int64 \u001b[0m\u001b[90m String1        \u001b[0m\u001b[90m Float64 \u001b[0m\u001b[90m String7 \u001b[0m\u001b[90m Int64        \u001b[0m\u001b[90m Int64          \u001b[0m\u001b[90m In\u001b[0m ⋯\n",
       "─────┼────────────────────────────────────────────────────────────────────────────────────────────────────────────────────────────────────────────────\n",
       "   1 │     1     69      1        140          110          1  Normal        109  Y                   1.5  Flat                1               0     ⋯\n",
       "   2 │     2     60      1        140          293          0  LVH           170  N                   1.2  Flat                1               0\n",
       "   3 │     3     52      1        165          244          1  Normal        122  Y                   1.0  Up                  1               0\n",
       "\u001b[36m                                                                                                                                     2 columns omitted\u001b[0m"
      ]
     },
     "execution_count": 8,
     "metadata": {},
     "output_type": "execute_result"
    }
   ],
   "source": [
    "ChestPainType1 = zeros(Int, n)\n",
    "ChestPainType2 = zeros(Int, n)\n",
    "ChestPainType3 = zeros(Int, n)\n",
    "\n",
    "for i in 1:n\n",
    "    if (data.ChestPainType[i] == \"ATA\")\n",
    "        ChestPainType1[i] = 1;\n",
    "    elseif (data.ChestPainType[i] == \"NAP\")\n",
    "        ChestPainType2[i] = 1; \n",
    "    elseif (data.ChestPainType[i] == \"ASY\")\n",
    "        ChestPainType3[i] = 1;\n",
    "    end\n",
    "end\n",
    "select!(data, Not(:ChestPainType))\n",
    "data[!, :ChestPainType1] = ChestPainType1;\n",
    "data[!, :ChestPainType2] = ChestPainType2;\n",
    "data[!, :ChestPainType3] = ChestPainType3;\n",
    "first(data, 3)"
   ]
  },
  {
   "cell_type": "code",
   "execution_count": 9,
   "id": "extreme-being",
   "metadata": {},
   "outputs": [
    {
     "data": {
      "text/html": [
       "<table class=\"data-frame\"><thead><tr><th></th><th>ID</th><th>Age</th><th>Sex</th><th>RestingBP</th><th>Cholesterol</th><th>FastingBS</th><th>MaxHR</th><th>ExerciseAngina</th><th>Oldpeak</th><th>STSlope</th><th>HeartDisease</th><th>ChestPainType1</th><th>ChestPainType2</th><th>ChestPainType3</th></tr><tr><th></th><th>Int64</th><th>Int64</th><th>Int64</th><th>Int64</th><th>Int64</th><th>Int64</th><th>Int64</th><th>String1</th><th>Float64</th><th>String7</th><th>Int64</th><th>Int64</th><th>Int64</th><th>Int64</th></tr></thead><tbody><p>3 rows × 16 columns (omitted printing of 2 columns)</p><tr><th>1</th><td>1</td><td>69</td><td>1</td><td>140</td><td>110</td><td>1</td><td>109</td><td>Y</td><td>1.5</td><td>Flat</td><td>1</td><td>0</td><td>0</td><td>1</td></tr><tr><th>2</th><td>2</td><td>60</td><td>1</td><td>140</td><td>293</td><td>0</td><td>170</td><td>N</td><td>1.2</td><td>Flat</td><td>1</td><td>0</td><td>0</td><td>1</td></tr><tr><th>3</th><td>3</td><td>52</td><td>1</td><td>165</td><td>244</td><td>1</td><td>122</td><td>Y</td><td>1.0</td><td>Up</td><td>1</td><td>0</td><td>0</td><td>1</td></tr></tbody></table>"
      ],
      "text/latex": [
       "\\begin{tabular}{r|ccccccccccccccc}\n",
       "\t& ID & Age & Sex & RestingBP & Cholesterol & FastingBS & MaxHR & ExerciseAngina & Oldpeak & STSlope & HeartDisease & ChestPainType1 & ChestPainType2 & ChestPainType3 & \\\\\n",
       "\t\\hline\n",
       "\t& Int64 & Int64 & Int64 & Int64 & Int64 & Int64 & Int64 & String1 & Float64 & String7 & Int64 & Int64 & Int64 & Int64 & \\\\\n",
       "\t\\hline\n",
       "\t1 & 1 & 69 & 1 & 140 & 110 & 1 & 109 & Y & 1.5 & Flat & 1 & 0 & 0 & 1 & $\\dots$ \\\\\n",
       "\t2 & 2 & 60 & 1 & 140 & 293 & 0 & 170 & N & 1.2 & Flat & 1 & 0 & 0 & 1 & $\\dots$ \\\\\n",
       "\t3 & 3 & 52 & 1 & 165 & 244 & 1 & 122 & Y & 1.0 & Up & 1 & 0 & 0 & 1 & $\\dots$ \\\\\n",
       "\\end{tabular}\n"
      ],
      "text/plain": [
       "\u001b[1m3×16 DataFrame\u001b[0m\n",
       "\u001b[1m Row \u001b[0m│\u001b[1m ID    \u001b[0m\u001b[1m Age   \u001b[0m\u001b[1m Sex   \u001b[0m\u001b[1m RestingBP \u001b[0m\u001b[1m Cholesterol \u001b[0m\u001b[1m FastingBS \u001b[0m\u001b[1m MaxHR \u001b[0m\u001b[1m ExerciseAngina \u001b[0m\u001b[1m Oldpeak \u001b[0m\u001b[1m STSlope \u001b[0m\u001b[1m HeartDisease \u001b[0m\u001b[1m ChestPainType1 \u001b[0m\u001b[1m ChestPainType2\u001b[0m ⋯\n",
       "\u001b[1m     \u001b[0m│\u001b[90m Int64 \u001b[0m\u001b[90m Int64 \u001b[0m\u001b[90m Int64 \u001b[0m\u001b[90m Int64     \u001b[0m\u001b[90m Int64       \u001b[0m\u001b[90m Int64     \u001b[0m\u001b[90m Int64 \u001b[0m\u001b[90m String1        \u001b[0m\u001b[90m Float64 \u001b[0m\u001b[90m String7 \u001b[0m\u001b[90m Int64        \u001b[0m\u001b[90m Int64          \u001b[0m\u001b[90m Int64         \u001b[0m ⋯\n",
       "─────┼────────────────────────────────────────────────────────────────────────────────────────────────────────────────────────────────────────────────\n",
       "   1 │     1     69      1        140          110          1    109  Y                   1.5  Flat                1               0               0 ⋯\n",
       "   2 │     2     60      1        140          293          0    170  N                   1.2  Flat                1               0               0\n",
       "   3 │     3     52      1        165          244          1    122  Y                   1.0  Up                  1               0               0\n",
       "\u001b[36m                                                                                                                                     3 columns omitted\u001b[0m"
      ]
     },
     "execution_count": 9,
     "metadata": {},
     "output_type": "execute_result"
    }
   ],
   "source": [
    "restingECG1 = zeros(Int, n)\n",
    "restingECG2 = zeros(Int, n)\n",
    "\n",
    "for i in 1:n\n",
    "    if (data.RestingECG[i] == \"ST\")\n",
    "        restingECG1[i] = 1;\n",
    "    elseif (data.RestingECG[i] == \"LVH\")\n",
    "        restingECG2[i] = 1;  \n",
    "    end\n",
    "end\n",
    "select!(data, Not(:RestingECG))\n",
    "data[!, :RestingECG1] = restingECG1;\n",
    "data[!, :RestingECG2] = restingECG2;\n",
    "first(data, 3)"
   ]
  },
  {
   "cell_type": "code",
   "execution_count": 10,
   "id": "micro-census",
   "metadata": {},
   "outputs": [],
   "source": [
    "exerciseAngina = zeros(Int, n)\n",
    "\n",
    "for i in 1:n\n",
    "    if (data.ExerciseAngina[i] == \"Y\")\n",
    "        exerciseAngina[i] = 1;\n",
    "    end\n",
    "end\n",
    "data[!, :ExerciseAngina] = exerciseAngina;"
   ]
  },
  {
   "cell_type": "code",
   "execution_count": 11,
   "id": "subsequent-stomach",
   "metadata": {},
   "outputs": [],
   "source": [
    "STSlope1 = zeros(Int, n)\n",
    "STSlope2 = zeros(Int, n)\n",
    "\n",
    "for i in 1:n\n",
    "    if (data.STSlope[i] == \"Flat\")\n",
    "        STSlope1[i] = 1;\n",
    "    elseif (data.STSlope[i] == \"Down\")\n",
    "        STSlope2[i] = 1;  \n",
    "    end\n",
    "end\n",
    "select!(data, Not(:STSlope))\n",
    "data[!, :STSlope1] = STSlope1;\n",
    "data[!, :STSlope2] = STSlope2;\n",
    "\n"
   ]
  },
  {
   "cell_type": "code",
   "execution_count": 12,
   "id": "naked-morris",
   "metadata": {},
   "outputs": [
    {
     "data": {
      "text/plain": [
       "15-element Vector{Symbol}:\n",
       " :Age\n",
       " :Sex\n",
       " :RestingBP\n",
       " :Cholesterol\n",
       " :FastingBS\n",
       " :MaxHR\n",
       " :ExerciseAngina\n",
       " :Oldpeak\n",
       " :ChestPainType1\n",
       " :ChestPainType2\n",
       " :ChestPainType3\n",
       " :RestingECG1\n",
       " :RestingECG2\n",
       " :STSlope1\n",
       " :STSlope2"
      ]
     },
     "execution_count": 12,
     "metadata": {},
     "output_type": "execute_result"
    }
   ],
   "source": [
    "variables = propertynames(select(data, Not([:ID, :HeartDisease])))"
   ]
  },
  {
   "cell_type": "code",
   "execution_count": 13,
   "id": "f12a115d",
   "metadata": {},
   "outputs": [
    {
     "data": {
      "text/plain": [
       "688"
      ]
     },
     "execution_count": 13,
     "metadata": {},
     "output_type": "execute_result"
    }
   ],
   "source": [
    "HEART_DESEASE_POSITIVE = filter(row -> row.HeartDisease != 0, data)\n",
    "HEART_DESEASE_NEGATIVE = filter(row -> row.HeartDisease == 0, data)\n",
    "\n",
    "n₁ = size(HEART_DESEASE_POSITIVE, 1)\n",
    "n₀ = size(HEART_DESEASE_NEGATIVE, 1)\n",
    "n = n₁ + n₀"
   ]
  },
  {
   "cell_type": "code",
   "execution_count": 14,
   "id": "incredible-stockholm",
   "metadata": {},
   "outputs": [
    {
     "data": {
      "text/plain": [
       "0.4579710144927536"
      ]
     },
     "execution_count": 14,
     "metadata": {},
     "output_type": "execute_result"
    }
   ],
   "source": [
    "#Les probabilités marginales\n",
    "(α,β) = (1,1)\n",
    "p₁ = (α + n₁)/(α + β + n)\n",
    "p₀ = (β + n₀)/(α + β + n)"
   ]
  },
  {
   "cell_type": "code",
   "execution_count": 15,
   "id": "591a838d",
   "metadata": {},
   "outputs": [],
   "source": [
    "# TODO: le choix des meilleures distributions pour les lois conditionnelles des variables explicatives.\n",
    "# TODO: Select the distributions that makes most sense\n",
    "# TODO: Make a model for each of them\n",
    "# TODO: Predict"
   ]
  },
  {
   "cell_type": "markdown",
   "id": "a65554a6",
   "metadata": {},
   "source": [
    "## Visualisation des données"
   ]
  },
  {
   "cell_type": "code",
   "execution_count": 16,
   "id": "3041731c",
   "metadata": {},
   "outputs": [
    {
     "data": {
      "text/plain": [
       "view_distribution_graphs (generic function with 1 method)"
      ]
     },
     "execution_count": 16,
     "metadata": {},
     "output_type": "execute_result"
    }
   ],
   "source": [
    "function view_distribution_graphs(dataframe::DataFrame, distributions::Array)\n",
    "    plots = Plot[]\n",
    "    colors = Scale.color_discrete_hue().f(length(distributions))\n",
    "\n",
    "    for i = 0:1\n",
    "        for propertyname in setdiff(propertynames(dataframe), [:ID, :HeartDisease])\n",
    "            # Variable explicative pour les tumeurs avec un certain diagnostic\n",
    "            xᵢₚ = dataframe[dataframe.HeartDisease .== i, propertyname]\n",
    "\n",
    "            # Supprimer les distributions invalides pour certaines variables explicatives\n",
    "            filtered_distributions = distributions\n",
    "            # if propertyname in error_columns\n",
    "            #     filtered_distributions = filter(x -> x ∉ [LogNormal{Float64}, Gamma{Float64}], distributions)\n",
    "            # end\n",
    "\n",
    "            nbin = floor(Int, sqrt(length(xᵢₚ)))\n",
    "            opacity = repeat([0.75, 0.85], outer=nbin)\n",
    "            xmin = minimum(xᵢₚ)\n",
    "            xmax = maximum(xᵢₚ)\n",
    "\n",
    "            push!(\n",
    "                plots,\n",
    "                plot(\n",
    "                    [layer(\n",
    "                        x -> pdf(fit(filtered_distributions[j], xᵢₚ), x),\n",
    "                        xmin, xmax,\n",
    "                        Theme(default_color=colors[j])\n",
    "                    ) for j = 1:length(filtered_distributions)]...,\n",
    "                    layer(x=xᵢₚ, alpha=opacity, Geom.histogram(bincount=nbin, density=true)),\n",
    "                    Guide.title(i == 0 ? \"No Disease\" : \"Heart Disease\"),\n",
    "                    Guide.xlabel(string(propertyname)),\n",
    "                    # Guide.ylabel(\"density\"),\n",
    "                )\n",
    "            )\n",
    "        end\n",
    "    end\n",
    "\n",
    "    property_count = ncol(dataframe[!, setdiff(propertynames(dataframe), [:ID, :HeartDisease])])\n",
    "    grid_plot = gridstack(reshape(plots, (property_count, 2)))\n",
    "\n",
    "    legend_plot = plot(Guide.manual_color_key(\"Légende\", string.(distributions), colors))\n",
    "\n",
    "    Gadfly.set_default_plot_size(20cm, 80cm)\n",
    "    display(grid_plot)\n",
    "    Gadfly.set_default_plot_size(10cm, 3cm)\n",
    "    display(legend_plot)\n",
    "end"
   ]
  },
  {
   "cell_type": "code",
   "execution_count": null,
   "id": "8f527010",
   "metadata": {},
   "outputs": [],
   "source": [
    "# Liste des distributions à tracer pour les données originales\n",
    "distributions = [\n",
    "    Normal{Float64},\n",
    "    InverseGaussian{Float64},\n",
    "    Exponential{Float64},\n",
    "    # Cauchy{Float64}\n",
    "]\n",
    "\n",
    "view_distribution_graphs(data, distributions)"
   ]
  },
  {
   "cell_type": "code",
   "execution_count": null,
   "id": "4f3c94d1",
   "metadata": {},
   "outputs": [],
   "source": [
    "HEART_DESEASE_POSITIVE = filter(row -> row.HeartDisease != 0, data)\n",
    "HEART_DESEASE_NEGATIVE = filter(row -> row.HeartDisease == 0, data)\n",
    "\n",
    "n₀ = size(HEART_DESEASE_NEGATIVE, 1)\n",
    "n₁ = size(HEART_DESEASE_POSITIVE, 1)\n",
    "n = n₁ + n₀\n",
    "\n",
    "#Les probabilités marginales\n",
    "(α,β) = (1,1)\n",
    "p₀ = (β + n₀)/(α + β + n)\n",
    "p₁ = (α + n₁)/(α + β + n)"
   ]
  },
  {
   "cell_type": "code",
   "execution_count": null,
   "id": "05e39cbe",
   "metadata": {},
   "outputs": [],
   "source": [
    "function train_model_bayes_naive_classifier_generic(dataframe::DataFrame, distribution_types::Dict)\n",
    "    # Paramètres de la loi a priori bêta\n",
    "    # α = 1\n",
    "    # β = 1\n",
    "\n",
    "    # Nombre des tumeurs bénignes (indice 0) et malignes (indice 1)\n",
    "    # n = nrow(dataframe)\n",
    "    # n₁ = sum(dataframe.diagnosis)\n",
    "    # n₀ = n - n₁\n",
    "\n",
    "    # Probabilités prédictives que la prochaine tumeur soit bénigne/maligne\n",
    "    # p₀ = (β + n₀) / (α + β + n) # P(Ỹ = 0)\n",
    "    # p₁ = (α + n₁) / (α + β + n) # P(Ỹ = 1)\n",
    "\n",
    "    # Fonctions de densité pour chacune des variables explicatives\n",
    "    distributions = Dict()\n",
    "    for propertyname in setdiff(propertynames(dataframe), [:ID, :HeartDisease])\n",
    "        distribution_pair = []\n",
    "        for i = 0:1\n",
    "            # Variable explicative pour les tumeurs avec un certain diagnostic\n",
    "            xᵢₚ = dataframe[dataframe.HeartDisease .== i, propertyname]\n",
    "            fᵢₚ_distribution = fit(distribution_types[propertyname][i + 1], xᵢₚ)\n",
    "            push!(distribution_pair, fᵢₚ_distribution)\n",
    "        end\n",
    "        distributions[propertyname] = distribution_pair\n",
    "    end\n",
    "\n",
    "    # Fonction de prédiction d'une tumeur maligne\n",
    "    function get_malignant_probability(X::DataFrameRow)\n",
    "        # Logarithme des probabilités prédictives non normalisées\n",
    "        q = [\n",
    "            log(p₀), # q₀\n",
    "            log(p₁), # q₁\n",
    "        ]\n",
    "\n",
    "        for propertyname in setdiff(propertynames(dataframe), [:ID, :HeartDisease])\n",
    "            for i = 1:2\n",
    "                # Approximation des distributions prédictives d'une caractéristique sachant la classe de diagnostic\n",
    "                # L'approximation est faite à partir de la distribution d'une caractéristique sachant la classe de diagnostic\n",
    "                fᵢₚ(x::Real) = pdf(distributions[propertyname][i], x) # Amélioration possible: intégrer les paramètres\n",
    "\n",
    "                pᵢₚ = fᵢₚ(X[propertyname])\n",
    "                q[i] += log(pᵢₚ)\n",
    "            end\n",
    "        end\n",
    "\n",
    "        # Constante de normalisation\n",
    "        c = sum(exp.(q))\n",
    "\n",
    "        # Probabilité prédictive que la tumeur soit maligne P(Ỹ = 1 | X̃ = x̃)\n",
    "        p_malignant = exp(q[2]) / c\n",
    "        return p_malignant\n",
    "    end\n",
    "    \n",
    "    return get_malignant_probability\n",
    "end"
   ]
  },
  {
   "cell_type": "code",
   "execution_count": null,
   "id": "625a38e9",
   "metadata": {},
   "outputs": [],
   "source": [
    "function train_model_bayes_naive_classifier(dataframe::DataFrame) \n",
    "    distribution_types = Dict(\n",
    "    :Age => [Normal{Float64}, Normal{Float64}],\n",
    "    :Sex => [Bernoulli{Float64}, Bernoulli{Float64}],\n",
    "    :RestingBP => [Normal{Float64}, Normal{Float64}],\n",
    "    :Cholesterol => [Cauchy{Float64}, Cauchy{Float64}],\n",
    "    :FastingBS => [Normal{Float64}, Normal{Float64}],\n",
    "    :MaxHR => [Normal{Float64}, Normal{Float64}],\n",
    "    :ExerciseAngina => [Bernoulli{Float64}, Bernoulli{Float64}],\n",
    "    :Oldpeak => [Normal{Float64}, Normal{Float64}],\n",
    "    :ChestPainType1 => [Bernoulli{Float64}, Bernoulli{Float64}],\n",
    "    :ChestPainType2 => [Bernoulli{Float64}, Bernoulli{Float64}],\n",
    "    :ChestPainType3 => [Bernoulli{Float64}, Bernoulli{Float64}],\n",
    "    :RestingECG1 => [Bernoulli{Float64}, Bernoulli{Float64}],\n",
    "    :RestingECG2 => [Bernoulli{Float64}, Bernoulli{Float64}],\n",
    "    :STSlope1 => [Bernoulli{Float64}, Bernoulli{Float64}],\n",
    "    :STSlope2 => [Bernoulli{Float64}, Bernoulli{Float64}],\n",
    ")\n",
    "    return train_model_bayes_naive_classifier_generic(dataframe, distribution_types)\n",
    "end"
   ]
  },
  {
   "cell_type": "code",
   "execution_count": null,
   "id": "ec00a235",
   "metadata": {},
   "outputs": [],
   "source": [
    "\n",
    "res = train_model_bayes_naive_classifier(data)"
   ]
  },
  {
   "cell_type": "code",
   "execution_count": null,
   "id": "4bb2f055",
   "metadata": {},
   "outputs": [],
   "source": [
    "function predict_from_bayes_naive_classifier(classify, dataframe::DataFrame)\n",
    "    probabilities = Float64[]\n",
    "    dataframe_explanatory = dataframe[!, filter(row -> row ∉ [:ID, :HeartDisease], propertynames(dataframe))]\n",
    "    for row in eachrow(dataframe_explanatory)\n",
    "        push!(probabilities, classify(row))\n",
    "    end\n",
    "    return probabilities\n",
    "end"
   ]
  },
  {
   "cell_type": "code",
   "execution_count": null,
   "id": "09291380",
   "metadata": {},
   "outputs": [],
   "source": [
    "# Classification bayésienne naïve sur les données originales\n",
    "classify = train_model_bayes_naive_classifier(data)\n",
    "θ̂ = predict_from_bayes_naive_classifier(classify, data)\n",
    "print(\"ok\")"
   ]
  },
  {
   "cell_type": "code",
   "execution_count": null,
   "id": "8263fcb3",
   "metadata": {},
   "outputs": [],
   "source": [
    "amount = length(y)\n",
    "good = 0\n",
    "for i = 1:amount\n",
    "    if (θ̂[i] >= 0.7 && y[i] == 1) || (θ̂[i] < 0.7 && y[i] == 0)\n",
    "        good += 1\n",
    "    end\n",
    "end\n",
    "\n",
    "print(good/amount)"
   ]
  },
  {
   "cell_type": "code",
   "execution_count": null,
   "id": "f58fcd97",
   "metadata": {},
   "outputs": [],
   "source": [
    "function evaluateScore(prediction::DataFrame)\n",
    "    count = 0;\n",
    "    for i = 1:nrow(prediction)\n",
    "        if (prediction[i, 2] == data.HeartDisease[i])\n",
    "            count += 1;\n",
    "        end \n",
    "    end\n",
    "\n",
    "    return count / nrow(prediction)\n",
    "end\n",
    "\n",
    "function findBestThreshold()\n",
    "    maxScore = 0;\n",
    "    best_threshold = 0;\n",
    "    for threshold in 0.1:0.01:0.9\n",
    "        ŷ = Int64[]\n",
    "        index = 0;\n",
    "        for θ̂ᵢ in θ̂\n",
    "            if θ̂ᵢ >= threshold\n",
    "                push!(ŷ, 1)\n",
    "            else\n",
    "                push!(ŷ, 0)\n",
    "            end\n",
    "        end\n",
    "        prediction = DataFrame(ID = data.ID, Prediction = ŷ)\n",
    "        score = evaluateScore(prediction)\n",
    "        if (score >= maxScore)\n",
    "            maxScore = score\n",
    "            best_threshold = threshold\n",
    "        end\n",
    "    end\n",
    "    println(\"Meilleur score est \", maxScore, \" avec \", best_threshold)\n",
    "end"
   ]
  },
  {
   "cell_type": "code",
   "execution_count": null,
   "id": "9fabef56",
   "metadata": {},
   "outputs": [],
   "source": [
    "classify = train_model_bayes_naive_classifier(data)\n",
    "θ̂ = predict_from_bayes_naive_classifier(classify, data)\n",
    "findBestThreshold()"
   ]
  },
  {
   "cell_type": "code",
   "execution_count": null,
   "id": "952b4162",
   "metadata": {},
   "outputs": [],
   "source": [
    "test = CSV.read(\"test.csv\", DataFrame);\n",
    "# y = test.HeartDisease\n",
    "n = nrow(test)\n",
    "\n",
    "cholesterol_mean = floor(Int, mean(skipmissing(test.Cholesterol)))\n",
    "test[!, :Cholesterol] = coalesce.(test.Cholesterol, cholesterol_mean);\n",
    "test.Cholesterol = replace(test.Cholesterol, missing => cholesterol_mean);\n",
    "\n",
    "sex = zeros(Int, n)\n",
    "\n",
    "for i in 1:n\n",
    "    if (test.Sex[i] == \"M\")\n",
    "        sex[i] = 1;\n",
    "    end\n",
    "end\n",
    "test[!, :Sex] = sex;"
   ]
  },
  {
   "cell_type": "code",
   "execution_count": null,
   "id": "8b7635e8",
   "metadata": {},
   "outputs": [],
   "source": [
    "\n",
    "\n",
    "ChestPainType1 = zeros(Int, n)\n",
    "ChestPainType2 = zeros(Int, n)\n",
    "ChestPainType3 = zeros(Int, n)\n",
    "\n",
    "for i in 1:n\n",
    "    if (test.ChestPainType[i] == \"ATA\")\n",
    "        ChestPainType1[i] = 1;\n",
    "    elseif (test.ChestPainType[i] == \"NAP\")\n",
    "        ChestPainType2[i] = 1; \n",
    "    elseif (test.ChestPainType[i] == \"ASY\")\n",
    "        ChestPainType3[i] = 1;\n",
    "    end\n",
    "end\n",
    "select!(test, Not(:ChestPainType))\n",
    "test[!, :ChestPainType1] = ChestPainType1;\n",
    "test[!, :ChestPainType2] = ChestPainType2;\n",
    "test[!, :ChestPainType3] = ChestPainType3;\n",
    "\n",
    "restingECG1 = zeros(Int, n)\n",
    "restingECG2 = zeros(Int, n)\n",
    "\n",
    "for i in 1:n\n",
    "    if (test.RestingECG[i] == \"ST\")\n",
    "        restingECG1[i] = 1;\n",
    "    elseif (test.RestingECG[i] == \"LVH\")\n",
    "        restingECG2[i] = 1;  \n",
    "    end\n",
    "end\n",
    "select!(test, Not(:RestingECG))\n",
    "test[!, :RestingECG1] = restingECG1;\n",
    "test[!, :RestingECG2] = restingECG2;\n",
    "\n",
    "exerciseAngina = zeros(Int, n)\n",
    "\n",
    "for i in 1:n\n",
    "    if (test.ExerciseAngina[i] == \"Y\")\n",
    "        exerciseAngina[i] = 1;\n",
    "    end\n",
    "end\n",
    "test[!, :ExerciseAngina] = exerciseAngina;\n",
    "\n",
    "STSlope1 = zeros(Int, n)\n",
    "STSlope2 = zeros(Int, n)\n",
    "\n",
    "for i in 1:n\n",
    "    if (test.STSlope[i] == \"Flat\")\n",
    "        STSlope1[i] = 1;\n",
    "    elseif (test.STSlope[i] == \"Down\")\n",
    "        STSlope2[i] = 1;  \n",
    "    end\n",
    "end\n",
    "select!(test, Not(:STSlope))\n",
    "test[!, :STSlope1] = STSlope1;\n",
    "test[!, :STSlope2] = STSlope2;"
   ]
  },
  {
   "cell_type": "code",
   "execution_count": null,
   "id": "97a063f7",
   "metadata": {},
   "outputs": [],
   "source": [
    "first(test, 5)"
   ]
  },
  {
   "cell_type": "code",
   "execution_count": null,
   "id": "2624dba4",
   "metadata": {},
   "outputs": [],
   "source": [
    "θ̂ = predict_from_bayes_naive_classifier(classify, test)"
   ]
  },
  {
   "cell_type": "code",
   "execution_count": null,
   "id": "d8d4f7d4",
   "metadata": {},
   "outputs": [],
   "source": [
    "ŷ = Int64[]\n",
    "index = 0;\n",
    "for θ̂ᵢ in θ̂\n",
    "    if θ̂ᵢ >= .59\n",
    "        push!(ŷ, 1)\n",
    "    else\n",
    "        push!(ŷ, 0)\n",
    "    end\n",
    "end"
   ]
  },
  {
   "cell_type": "code",
   "execution_count": null,
   "id": "e9e1cdf4",
   "metadata": {},
   "outputs": [],
   "source": [
    "prediction = DataFrame(ID = test.ID, Prediction = ŷ)\n",
    "CSV.write(\"benchmark_predictions.csv\", prediction)"
   ]
  },
  {
   "cell_type": "markdown",
   "id": "1b74c51e",
   "metadata": {},
   "source": [
    "### Modèle de classification bayésienne naïve sur les composantes principales"
   ]
  }
 ],
 "metadata": {
  "kernelspec": {
   "display_name": "Julia 1.6.2",
   "language": "julia",
   "name": "julia-1.6"
  },
  "language_info": {
   "file_extension": ".jl",
   "mimetype": "application/julia",
   "name": "julia",
   "version": "1.6.2"
  }
 },
 "nbformat": 4,
 "nbformat_minor": 5
}
