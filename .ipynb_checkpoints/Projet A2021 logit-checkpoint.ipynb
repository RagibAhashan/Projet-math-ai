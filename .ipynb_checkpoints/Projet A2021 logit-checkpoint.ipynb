{
 "cells": [
  {
   "cell_type": "markdown",
   "metadata": {},
   "source": [
    "\n",
    "# MTH3302 : Méthodes probabilistes et statistiques pour l'I.A.\n",
    "\n",
    "Jonathan Jalbert<br/>\n",
    "Professeur agrégé au Département de mathématiques et de génie industriel<br/>\n",
    "Polytechnique Montréal<br/>\n",
    "\n",
    "# Projet A2021 : Prédire les maladies cardiaques\n",
    "\n",
    "La description du projet est disponible à l'adresse suivante :\n",
    "https://www.kaggle.com/t/3a185493d8bb48d8961ad50e465bed4f\n",
    "\n",
    "Ce calepin Jupyter de base permet de \n",
    "\n",
    "1. Charger les données fournies.\n",
    "2. Effectuer une analyse exploratoire sommaire des données.\n",
    "3. Développer un modèle simple de prédiction.\n",
    "4. Générer le fichier de prédictions à téléverser sur Kaggle.\n",
    "\n",
    "Dans un premier temps, vous devrez récupérer les données sous l'onglet *data* du site Kaggle. Il y a deux fichiers :\n",
    "- train.csv\n",
    "- test.csv\n",
    "\n",
    "Le fichier *train.csv* contient les données sur lesquelles vous pouvez entraîner votre modèle. Il sera ensuite évaluée sur les données de l'ensemble *test.csv* lorsque vous aurez téléversé vos prédictions sur Kaggle. \n",
    "\n",
    "### Consignes\n",
    "\n",
    "- Vous devez constituer une équipe de 3 à 5 personnes.\n",
    "- Au moins une solution doit être proposée sur Kaggle.\n",
    "- Utilisez votre numéro d'équipe pour téléverser vos prédictions sur Kaggle.\n",
    "- Un seul fichier .ipynb par équipe faisant office de rapport et permettant de reproduire vos meilleures prédictions doit être remis.\n",
    "- Le langage Julia doit être utilisé.\n",
    "- Votre démarche doit être rigoureusement justifiée (consultez la grille de correction pour vous orienter).\n",
    "\n",
    "### Quelques conseils\n",
    "\n",
    "Votre calepin doit permettre de suivre clairement votre raisonnement et de reproduire vos résultats. Garder à l'esprit que vos résultats et votre démarche doivent être reproductibles par une personne à l'extérieur de votre équipe. Le calepin constitue le rapport. Servez vous des cellules de texte pour décrire ce que vous faites.\n",
    "\n",
    "Je vous encourage fortement à faire une analyse exploratoire de vous données pour développer une meilleure expertise du problème. C'est une étape qui est toujours négligée par les débutants mais qui est essentielle. C'est avec l'analyse exploratoire que vous viendra des idées d'amélioration, par exemple créer de nouvelles variables explicatives.\n",
    "\n",
    "Vous pouvez utiliser directement tout ce qui se retrouve dans les notes de cours sans explication et toutes les librairies utilisées dans le cours (incluant mes fonctions).\n",
    "\n",
    "Ce calepin de base contient un modèle très simple de prédiction : on prédit 0 débordement à tous les jours. Ce sera votre travail d'améliorer ces prédictions naïves avec la méthode de votre choix.\n",
    "\n",
    "Il faudra que vous trouviez un moyen de traiter les données manquantes. La plupart du temps, une méthode simple d'imputation (de remplacement) des données manquantes est appropriée.\n",
    "\n",
    "Prenez la peine de tout documenter, même les essais infructueux. Ce n'est pas nécessaire de les expliquer en détails, mais c'est important de les mentionner au moins succintement dans la discussion avec une raison possible pour leur échec. De cette façon, une personne qui reprendra votre travail dans le futur ne perdra pas de temps à réessayer une méthode déjà implémentée et infructueuse.\n",
    "\n",
    "Vous pouvez aussi indiquer dans votre rapport les raisons qui vous font croire pourquoi une méthode à moins bien performée que ce à quoi vous vous attendiez. Vous pouvez également mentionner ce que vous auriez pu tenter si vous aviez eu plus de temps ou plus de données, etc. L'idée est de guider le prochain scientifique qui prendra la relève de votre travail.\n",
    "\n",
    "Vous êtes limités à deux soumissions par jour par équipe sur Kaggle. Je vous suggère donc de bien tester vos modèles localement et de ne téléverser que vos meilleurs candidats."
   ]
  },
  {
   "cell_type": "code",
   "execution_count": 1,
   "metadata": {},
   "outputs": [],
   "source": [
    "using CSV, DataFrames, Gadfly, GLM, Statistics, LinearAlgebra, Distributions, Combinatorics, StatsBase, MLBase, Random"
   ]
  },
  {
   "cell_type": "code",
   "execution_count": 2,
   "metadata": {},
   "outputs": [],
   "source": [
    "include(\"functions.jl\");"
   ]
  },
  {
   "cell_type": "code",
   "execution_count": 3,
   "metadata": {},
   "outputs": [
    {
     "data": {
      "text/plain": [
       "forwardStepwiseRegression (generic function with 1 method)"
      ]
     },
     "execution_count": 3,
     "metadata": {},
     "output_type": "execute_result"
    }
   ],
   "source": [
    "function forwardStepwiseRegression(data_frame::DataFrame, variables::Array{Symbol})\n",
    "    current_variables = Array{Symbol}(undef, 0)\n",
    "    max_area = 0;\n",
    "    best_formula = undef\n",
    "\n",
    "    best_current_variable_index = -1;\n",
    "    best_current_formula = undef\n",
    "    variable_count = length(variables)\n",
    "    \n",
    "    for i in 1:variable_count\n",
    "        current_max_area = 0;\n",
    "        for j in 1:length(variables)\n",
    "            formula = Term(:HeartDisease) ~ Term(variables[j])\n",
    "            if (length(current_variables) != 0)\n",
    "                formula = Term(:HeartDisease) ~ sum(Term(current_variables[k]) for k in 1:length(current_variables)) + Term(variables[j]) \n",
    "            end\n",
    "\n",
    "            M = glm(formula, data_frame,  Bernoulli(), LogitLink())\n",
    "            θ̂ = Vector{Float64}(predict(M, data_frame))\n",
    "            area = auc(data.HeartDisease,  θ̂ )\n",
    "            if (area > current_max_area)\n",
    "                current_max_area = area\n",
    "                best_current_variable_index = j\n",
    "                best_current_formula = formula\n",
    "            end\n",
    "            println(\"AUC pour \", formula, \" : \", area)\n",
    "            \n",
    "        end\n",
    "        if (current_max_area > max_area)\n",
    "            max_area = current_max_area\n",
    "            best_formula = best_current_formula\n",
    "            push!(current_variables, variables[best_current_variable_index])\n",
    "            deleteat!(variables, best_current_variable_index)\n",
    "        else\n",
    "            break;\n",
    "        end\n",
    "        println(\"Meilleur variables \", best_formula, \" : \", max_area)\n",
    "        println()\n",
    "        \n",
    "    end\n",
    "    return best_formula\n",
    "end"
   ]
  },
  {
   "cell_type": "markdown",
   "metadata": {},
   "source": [
    "## 1. Chargement des données\n",
    "\n",
    "Assurez vous d'avoir télécharger les données dans le répertoire de ce calepin."
   ]
  },
  {
   "cell_type": "code",
   "execution_count": 4,
   "metadata": {},
   "outputs": [
    {
     "data": {
      "text/plain": [
       "688"
      ]
     },
     "execution_count": 4,
     "metadata": {},
     "output_type": "execute_result"
    }
   ],
   "source": [
    "data = CSV.read(\"train.csv\", DataFrame)\n",
    "first(data,5)\n",
    "\n",
    "y = data[:, :HeartDisease]\n",
    "n = length(y)"
   ]
  },
  {
   "cell_type": "code",
   "execution_count": 5,
   "metadata": {},
   "outputs": [],
   "source": [
    "cholesterol_mean = floor(Int, mean(skipmissing(data.Cholesterol)))\n",
    "data[!, :Cholesterol] = coalesce.(data.Cholesterol, cholesterol_mean);"
   ]
  },
  {
   "cell_type": "code",
   "execution_count": 6,
   "metadata": {},
   "outputs": [],
   "source": [
    "data.Cholesterol = replace(data.Cholesterol, missing => cholesterol_mean);\n",
    "# dropmissing!(data)"
   ]
  },
  {
   "cell_type": "code",
   "execution_count": 7,
   "metadata": {},
   "outputs": [
    {
     "data": {
      "text/html": [
       "<table class=\"data-frame\"><thead><tr><th></th><th>ID</th><th>Age</th><th>Sex</th><th>ChestPainType</th><th>RestingBP</th><th>Cholesterol</th><th>FastingBS</th><th>RestingECG</th></tr><tr><th></th><th>Int64</th><th>Int64</th><th>Int64</th><th>String3</th><th>Int64</th><th>Int64</th><th>Int64</th><th>String7</th></tr></thead><tbody><p>688 rows × 13 columns (omitted printing of 5 columns)</p><tr><th>1</th><td>1</td><td>69</td><td>1</td><td>ASY</td><td>140</td><td>110</td><td>1</td><td>Normal</td></tr><tr><th>2</th><td>2</td><td>60</td><td>1</td><td>ASY</td><td>140</td><td>293</td><td>0</td><td>LVH</td></tr><tr><th>3</th><td>3</td><td>52</td><td>1</td><td>ASY</td><td>165</td><td>244</td><td>1</td><td>Normal</td></tr><tr><th>4</th><td>4</td><td>46</td><td>1</td><td>NAP</td><td>120</td><td>230</td><td>0</td><td>Normal</td></tr><tr><th>5</th><td>5</td><td>61</td><td>1</td><td>NAP</td><td>120</td><td>244</td><td>0</td><td>Normal</td></tr><tr><th>6</th><td>6</td><td>46</td><td>1</td><td>NAP</td><td>150</td><td>231</td><td>0</td><td>Normal</td></tr><tr><th>7</th><td>7</td><td>45</td><td>0</td><td>ATA</td><td>112</td><td>160</td><td>0</td><td>Normal</td></tr><tr><th>8</th><td>8</td><td>47</td><td>1</td><td>ASY</td><td>140</td><td>276</td><td>1</td><td>Normal</td></tr><tr><th>9</th><td>9</td><td>43</td><td>1</td><td>ASY</td><td>150</td><td>247</td><td>0</td><td>Normal</td></tr><tr><th>10</th><td>10</td><td>49</td><td>0</td><td>ASY</td><td>130</td><td>269</td><td>0</td><td>Normal</td></tr><tr><th>11</th><td>11</td><td>43</td><td>1</td><td>NAP</td><td>130</td><td>315</td><td>0</td><td>Normal</td></tr><tr><th>12</th><td>12</td><td>36</td><td>1</td><td>NAP</td><td>150</td><td>160</td><td>0</td><td>Normal</td></tr><tr><th>13</th><td>13</td><td>50</td><td>1</td><td>ASY</td><td>145</td><td>264</td><td>0</td><td>Normal</td></tr><tr><th>14</th><td>14</td><td>37</td><td>1</td><td>NAP</td><td>118</td><td>240</td><td>0</td><td>LVH</td></tr><tr><th>15</th><td>15</td><td>41</td><td>0</td><td>ATA</td><td>125</td><td>184</td><td>0</td><td>Normal</td></tr><tr><th>16</th><td>16</td><td>46</td><td>1</td><td>ASY</td><td>134</td><td>310</td><td>0</td><td>Normal</td></tr><tr><th>17</th><td>17</td><td>65</td><td>0</td><td>NAP</td><td>140</td><td>417</td><td>1</td><td>LVH</td></tr><tr><th>18</th><td>18</td><td>57</td><td>1</td><td>ASY</td><td>95</td><td>244</td><td>1</td><td>Normal</td></tr><tr><th>19</th><td>19</td><td>56</td><td>1</td><td>ASY</td><td>150</td><td>213</td><td>1</td><td>Normal</td></tr><tr><th>20</th><td>20</td><td>68</td><td>1</td><td>NAP</td><td>118</td><td>277</td><td>0</td><td>Normal</td></tr><tr><th>21</th><td>21</td><td>54</td><td>1</td><td>NAP</td><td>150</td><td>195</td><td>0</td><td>Normal</td></tr><tr><th>22</th><td>22</td><td>40</td><td>1</td><td>ASY</td><td>110</td><td>167</td><td>0</td><td>LVH</td></tr><tr><th>23</th><td>23</td><td>57</td><td>0</td><td>ASY</td><td>128</td><td>303</td><td>0</td><td>LVH</td></tr><tr><th>24</th><td>24</td><td>49</td><td>1</td><td>NAP</td><td>115</td><td>265</td><td>0</td><td>Normal</td></tr><tr><th>25</th><td>25</td><td>69</td><td>1</td><td>ASY</td><td>140</td><td>208</td><td>0</td><td>ST</td></tr><tr><th>26</th><td>26</td><td>48</td><td>1</td><td>ASY</td><td>160</td><td>193</td><td>0</td><td>Normal</td></tr><tr><th>27</th><td>27</td><td>57</td><td>1</td><td>ASY</td><td>130</td><td>207</td><td>0</td><td>ST</td></tr><tr><th>28</th><td>28</td><td>39</td><td>1</td><td>ASY</td><td>110</td><td>280</td><td>0</td><td>Normal</td></tr><tr><th>29</th><td>29</td><td>54</td><td>0</td><td>ATA</td><td>140</td><td>309</td><td>0</td><td>ST</td></tr><tr><th>30</th><td>30</td><td>56</td><td>1</td><td>ASY</td><td>120</td><td>85</td><td>0</td><td>Normal</td></tr><tr><th>&vellip;</th><td>&vellip;</td><td>&vellip;</td><td>&vellip;</td><td>&vellip;</td><td>&vellip;</td><td>&vellip;</td><td>&vellip;</td><td>&vellip;</td></tr></tbody></table>"
      ],
      "text/latex": [
       "\\begin{tabular}{r|ccccccccc}\n",
       "\t& ID & Age & Sex & ChestPainType & RestingBP & Cholesterol & FastingBS & RestingECG & \\\\\n",
       "\t\\hline\n",
       "\t& Int64 & Int64 & Int64 & String3 & Int64 & Int64 & Int64 & String7 & \\\\\n",
       "\t\\hline\n",
       "\t1 & 1 & 69 & 1 & ASY & 140 & 110 & 1 & Normal & $\\dots$ \\\\\n",
       "\t2 & 2 & 60 & 1 & ASY & 140 & 293 & 0 & LVH & $\\dots$ \\\\\n",
       "\t3 & 3 & 52 & 1 & ASY & 165 & 244 & 1 & Normal & $\\dots$ \\\\\n",
       "\t4 & 4 & 46 & 1 & NAP & 120 & 230 & 0 & Normal & $\\dots$ \\\\\n",
       "\t5 & 5 & 61 & 1 & NAP & 120 & 244 & 0 & Normal & $\\dots$ \\\\\n",
       "\t6 & 6 & 46 & 1 & NAP & 150 & 231 & 0 & Normal & $\\dots$ \\\\\n",
       "\t7 & 7 & 45 & 0 & ATA & 112 & 160 & 0 & Normal & $\\dots$ \\\\\n",
       "\t8 & 8 & 47 & 1 & ASY & 140 & 276 & 1 & Normal & $\\dots$ \\\\\n",
       "\t9 & 9 & 43 & 1 & ASY & 150 & 247 & 0 & Normal & $\\dots$ \\\\\n",
       "\t10 & 10 & 49 & 0 & ASY & 130 & 269 & 0 & Normal & $\\dots$ \\\\\n",
       "\t11 & 11 & 43 & 1 & NAP & 130 & 315 & 0 & Normal & $\\dots$ \\\\\n",
       "\t12 & 12 & 36 & 1 & NAP & 150 & 160 & 0 & Normal & $\\dots$ \\\\\n",
       "\t13 & 13 & 50 & 1 & ASY & 145 & 264 & 0 & Normal & $\\dots$ \\\\\n",
       "\t14 & 14 & 37 & 1 & NAP & 118 & 240 & 0 & LVH & $\\dots$ \\\\\n",
       "\t15 & 15 & 41 & 0 & ATA & 125 & 184 & 0 & Normal & $\\dots$ \\\\\n",
       "\t16 & 16 & 46 & 1 & ASY & 134 & 310 & 0 & Normal & $\\dots$ \\\\\n",
       "\t17 & 17 & 65 & 0 & NAP & 140 & 417 & 1 & LVH & $\\dots$ \\\\\n",
       "\t18 & 18 & 57 & 1 & ASY & 95 & 244 & 1 & Normal & $\\dots$ \\\\\n",
       "\t19 & 19 & 56 & 1 & ASY & 150 & 213 & 1 & Normal & $\\dots$ \\\\\n",
       "\t20 & 20 & 68 & 1 & NAP & 118 & 277 & 0 & Normal & $\\dots$ \\\\\n",
       "\t21 & 21 & 54 & 1 & NAP & 150 & 195 & 0 & Normal & $\\dots$ \\\\\n",
       "\t22 & 22 & 40 & 1 & ASY & 110 & 167 & 0 & LVH & $\\dots$ \\\\\n",
       "\t23 & 23 & 57 & 0 & ASY & 128 & 303 & 0 & LVH & $\\dots$ \\\\\n",
       "\t24 & 24 & 49 & 1 & NAP & 115 & 265 & 0 & Normal & $\\dots$ \\\\\n",
       "\t25 & 25 & 69 & 1 & ASY & 140 & 208 & 0 & ST & $\\dots$ \\\\\n",
       "\t26 & 26 & 48 & 1 & ASY & 160 & 193 & 0 & Normal & $\\dots$ \\\\\n",
       "\t27 & 27 & 57 & 1 & ASY & 130 & 207 & 0 & ST & $\\dots$ \\\\\n",
       "\t28 & 28 & 39 & 1 & ASY & 110 & 280 & 0 & Normal & $\\dots$ \\\\\n",
       "\t29 & 29 & 54 & 0 & ATA & 140 & 309 & 0 & ST & $\\dots$ \\\\\n",
       "\t30 & 30 & 56 & 1 & ASY & 120 & 85 & 0 & Normal & $\\dots$ \\\\\n",
       "\t$\\dots$ & $\\dots$ & $\\dots$ & $\\dots$ & $\\dots$ & $\\dots$ & $\\dots$ & $\\dots$ & $\\dots$ &  \\\\\n",
       "\\end{tabular}\n"
      ],
      "text/plain": [
       "\u001b[1m688×13 DataFrame\u001b[0m\n",
       "\u001b[1m Row \u001b[0m│\u001b[1m ID    \u001b[0m\u001b[1m Age   \u001b[0m\u001b[1m Sex   \u001b[0m\u001b[1m ChestPainType \u001b[0m\u001b[1m RestingBP \u001b[0m\u001b[1m Cholesterol \u001b[0m\u001b[1m FastingBS \u001b[0m\u001b[1m \u001b[0m ⋯\n",
       "\u001b[1m     \u001b[0m│\u001b[90m Int64 \u001b[0m\u001b[90m Int64 \u001b[0m\u001b[90m Int64 \u001b[0m\u001b[90m String3       \u001b[0m\u001b[90m Int64     \u001b[0m\u001b[90m Int64       \u001b[0m\u001b[90m Int64     \u001b[0m\u001b[90m \u001b[0m ⋯\n",
       "─────┼──────────────────────────────────────────────────────────────────────────\n",
       "   1 │     1     69      1  ASY                  140          110          1   ⋯\n",
       "   2 │     2     60      1  ASY                  140          293          0\n",
       "   3 │     3     52      1  ASY                  165          244          1\n",
       "   4 │     4     46      1  NAP                  120          230          0\n",
       "   5 │     5     61      1  NAP                  120          244          0   ⋯\n",
       "   6 │     6     46      1  NAP                  150          231          0\n",
       "   7 │     7     45      0  ATA                  112          160          0\n",
       "   8 │     8     47      1  ASY                  140          276          1\n",
       "   9 │     9     43      1  ASY                  150          247          0   ⋯\n",
       "  10 │    10     49      0  ASY                  130          269          0\n",
       "  11 │    11     43      1  NAP                  130          315          0\n",
       "  ⋮  │   ⋮      ⋮      ⋮          ⋮            ⋮           ⋮           ⋮       ⋱\n",
       " 679 │   679     60      1  NAP                  140          185          0\n",
       " 680 │   680     38      1  ASY                  110          190          0   ⋯\n",
       " 681 │   681     43      1  ASY                  120          177          0\n",
       " 682 │   682     54      0  ATA                  150          230          0\n",
       " 683 │   683     44      1  ATA                  120          220          0\n",
       " 684 │   684     52      0  NAP                  136          196          0   ⋯\n",
       " 685 │   685     66      0  ASY                  155          244          1\n",
       " 686 │   686     55      1  ASY                  122          223          1\n",
       " 687 │   687     34      0  ATA                  130          161          0\n",
       " 688 │   688     48      1  NAP                  110          211          0   ⋯\n",
       "\u001b[36m                                                  6 columns and 667 rows omitted\u001b[0m"
      ]
     },
     "execution_count": 7,
     "metadata": {},
     "output_type": "execute_result"
    }
   ],
   "source": [
    "sex = zeros(Int, n)\n",
    "\n",
    "for i in 1:n\n",
    "    if (data.Sex[i] == \"M\")\n",
    "        sex[i] = 1;\n",
    "    end\n",
    "end\n",
    "data[!, :Sex] = sex;\n",
    "data"
   ]
  },
  {
   "cell_type": "code",
   "execution_count": 8,
   "metadata": {},
   "outputs": [],
   "source": [
    "ChestPainType1 = zeros(Int, n)\n",
    "ChestPainType2 = zeros(Int, n)\n",
    "ChestPainType3 = zeros(Int, n)\n",
    "\n",
    "for i in 1:n\n",
    "    if (data.ChestPainType[i] == \"ATA\")\n",
    "        ChestPainType1[i] = 1;\n",
    "    elseif (data.ChestPainType[i] == \"NAP\")\n",
    "        ChestPainType2[i] = 1; \n",
    "    elseif (data.ChestPainType[i] == \"ASY\")\n",
    "        ChestPainType3[i] = 1;\n",
    "    end\n",
    "end\n",
    "select!(data, Not(:ChestPainType))\n",
    "data[!, :ChestPainType1] = ChestPainType1;\n",
    "data[!, :ChestPainType2] = ChestPainType2;\n",
    "data[!, :ChestPainType3] = ChestPainType3;"
   ]
  },
  {
   "cell_type": "code",
   "execution_count": 9,
   "metadata": {},
   "outputs": [],
   "source": [
    "restingECG1 = zeros(Int, n)\n",
    "restingECG2 = zeros(Int, n)\n",
    "\n",
    "for i in 1:n\n",
    "    if (data.RestingECG[i] == \"ST\")\n",
    "        restingECG1[i] = 1;\n",
    "    elseif (data.RestingECG[i] == \"LVH\")\n",
    "        restingECG2[i] = 1;  \n",
    "    end\n",
    "end\n",
    "select!(data, Not(:RestingECG))\n",
    "data[!, :RestingECG1] = restingECG1;\n",
    "data[!, :RestingECG2] = restingECG2;"
   ]
  },
  {
   "cell_type": "code",
   "execution_count": 10,
   "metadata": {},
   "outputs": [],
   "source": [
    "exerciseAngina = zeros(Int, n)\n",
    "\n",
    "for i in 1:n\n",
    "    if (data.ExerciseAngina[i] == \"Y\")\n",
    "        exerciseAngina[i] = 1;\n",
    "    end\n",
    "end\n",
    "data[!, :ExerciseAngina] = exerciseAngina;"
   ]
  },
  {
   "cell_type": "code",
   "execution_count": 11,
   "metadata": {},
   "outputs": [],
   "source": [
    "STSlope1 = zeros(Int, n)\n",
    "STSlope2 = zeros(Int, n)\n",
    "\n",
    "for i in 1:n\n",
    "    if (data.STSlope[i] == \"Flat\")\n",
    "        STSlope1[i] = 1;\n",
    "    elseif (data.STSlope[i] == \"Down\")\n",
    "        STSlope2[i] = 1;  \n",
    "    end\n",
    "end\n",
    "select!(data, Not(:STSlope))\n",
    "data[!, :STSlope1] = STSlope1;\n",
    "data[!, :STSlope2] = STSlope2;\n",
    "\n"
   ]
  },
  {
   "cell_type": "code",
   "execution_count": null,
   "metadata": {},
   "outputs": [],
   "source": []
  },
  {
   "cell_type": "code",
   "execution_count": 12,
   "metadata": {
    "scrolled": true
   },
   "outputs": [
    {
     "name": "stdout",
     "output_type": "stream",
     "text": [
      "AUC pour HeartDisease ~ Age : 0.6781437507979063\n",
      "AUC pour HeartDisease ~ Sex : 0.6189029320396613\n",
      "AUC pour HeartDisease ~ RestingBP : 0.5556576875611728\n",
      "AUC pour HeartDisease ~ Cholesterol : 0.5641431550278735\n",
      "AUC pour HeartDisease ~ FastingBS : 0.6141920932805651\n",
      "AUC pour HeartDisease ~ MaxHR : 0.739439976169199\n",
      "AUC pour HeartDisease ~ ExerciseAngina : 0.7411506872632878\n",
      "AUC pour HeartDisease ~ Oldpeak : 0.7482233286522831\n",
      "AUC pour HeartDisease ~ ChestPainType1 : 0.643031618366739\n",
      "AUC pour HeartDisease ~ ChestPainType2 : 0.5990425124473382\n",
      "AUC pour HeartDisease ~ ChestPainType3 : 0.7527256478999107\n",
      "AUC pour HeartDisease ~ RestingECG1 : 0.5558108855695987\n",
      "AUC pour HeartDisease ~ RestingECG2 : 0.5021447721179624\n",
      "AUC pour HeartDisease ~ STSlope1 : 0.781931146006213\n",
      "AUC pour HeartDisease ~ STSlope2 : 0.5364058045023192\n",
      "Meilleur variables HeartDisease ~ STSlope1 : 0.781931146006213\n",
      "\n",
      "AUC pour HeartDisease ~ STSlope1 + Age : 0.840269798714839\n",
      "AUC pour HeartDisease ~ STSlope1 + Sex : 0.8297757351376653\n",
      "AUC pour HeartDisease ~ STSlope1 + RestingBP : 0.7912549470190221\n",
      "AUC pour HeartDisease ~ STSlope1 + Cholesterol : 0.7903953359717435\n",
      "AUC pour HeartDisease ~ STSlope1 + FastingBS : 0.8272735010000425\n",
      "AUC pour HeartDisease ~ STSlope1 + MaxHR : 0.846206221541342\n",
      "AUC pour HeartDisease ~ STSlope1 + ExerciseAngina : 0.8524235073832931\n",
      "AUC pour HeartDisease ~ STSlope1 + Oldpeak : 0.8502021362611175\n",
      "AUC pour HeartDisease ~ STSlope1 + ChestPainType1 : 0.8234350397889273\n",
      "AUC pour HeartDisease ~ STSlope1 + ChestPainType2 : 0.8197497765862377\n",
      "AUC pour HeartDisease ~ STSlope1 + ChestPainType3 : 0.8647602025618111\n",
      "AUC pour HeartDisease ~ STSlope1 + RestingECG1 : 0.8002297970126389\n",
      "AUC pour HeartDisease ~ STSlope1 + RestingECG2 : 0.7721903059704668\n",
      "AUC pour HeartDisease ~ STSlope1 + STSlope2 : 0.820583854632112\n",
      "Meilleur variables HeartDisease ~ STSlope1 + ChestPainType3 : 0.8647602025618111\n",
      "\n",
      "AUC pour HeartDisease ~ STSlope1 + ChestPainType3 + Age : 0.8914209115281502\n",
      "AUC pour HeartDisease ~ STSlope1 + ChestPainType3 + Sex : 0.8898038214392103\n",
      "AUC pour HeartDisease ~ STSlope1 + ChestPainType3 + RestingBP : 0.8696370058300353\n",
      "AUC pour HeartDisease ~ STSlope1 + ChestPainType3 + Cholesterol : 0.8726371334950423\n",
      "AUC pour HeartDisease ~ STSlope1 + ChestPainType3 + FastingBS : 0.8826077705434275\n",
      "AUC pour HeartDisease ~ STSlope1 + ChestPainType3 + MaxHR : 0.8851951146857314\n",
      "AUC pour HeartDisease ~ STSlope1 + ChestPainType3 + ExerciseAngina : 0.8908591854972551\n",
      "AUC pour HeartDisease ~ STSlope1 + ChestPainType3 + Oldpeak : 0.8961615387888846\n",
      "AUC pour HeartDisease ~ STSlope1 + ChestPainType3 + ChestPainType1 : 0.8677177752244777\n",
      "AUC pour HeartDisease ~ STSlope1 + ChestPainType3 + ChestPainType2 : 0.8675560662155837\n",
      "AUC pour HeartDisease ~ STSlope1 + ChestPainType3 + RestingECG1 : 0.8701434103578877\n",
      "AUC pour HeartDisease ~ STSlope1 + ChestPainType3 + RestingECG2 : 0.8638878250138303\n",
      "AUC pour HeartDisease ~ STSlope1 + ChestPainType3 + STSlope2 : 0.8859270607259883\n",
      "Meilleur variables HeartDisease ~ STSlope1 + ChestPainType3 + Oldpeak : 0.8961615387888846\n",
      "\n",
      "AUC pour HeartDisease ~ STSlope1 + ChestPainType3 + Oldpeak + Age : 0.9030214051661775\n",
      "AUC pour HeartDisease ~ STSlope1 + ChestPainType3 + Oldpeak + Sex : 0.9127537342014552\n",
      "AUC pour HeartDisease ~ STSlope1 + ChestPainType3 + Oldpeak + RestingBP : 0.8967530533214179\n",
      "AUC pour HeartDisease ~ STSlope1 + ChestPainType3 + Oldpeak + Cholesterol : 0.8963743138005873\n",
      "AUC pour HeartDisease ~ STSlope1 + ChestPainType3 + Oldpeak + FastingBS : 0.90860036597302\n",
      "AUC pour HeartDisease ~ STSlope1 + ChestPainType3 + Oldpeak + MaxHR : 0.9029660836631346\n",
      "AUC pour HeartDisease ~ STSlope1 + ChestPainType3 + Oldpeak + ExerciseAngina : 0.9031703476743691\n",
      "AUC pour HeartDisease ~ STSlope1 + ChestPainType3 + Oldpeak + ChestPainType1 : 0.8953274607430104\n",
      "AUC pour HeartDisease ~ STSlope1 + ChestPainType3 + Oldpeak + ChestPainType2 : 0.8960934507851398\n",
      "AUC pour HeartDisease ~ STSlope1 + ChestPainType3 + Oldpeak + RestingECG1 : 0.8973786118558233\n",
      "AUC pour HeartDisease ~ STSlope1 + ChestPainType3 + Oldpeak + RestingECG2 : 0.8941146431763054\n",
      "AUC pour HeartDisease ~ STSlope1 + ChestPainType3 + Oldpeak + STSlope2 : 0.9003404400187243\n",
      "Meilleur variables HeartDisease ~ STSlope1 + ChestPainType3 + Oldpeak + Sex : 0.9127537342014552\n",
      "\n",
      "AUC pour HeartDisease ~ STSlope1 + ChestPainType3 + Oldpeak + Sex + Age : 0.9177113919741265\n",
      "AUC pour HeartDisease ~ STSlope1 + ChestPainType3 + Oldpeak + Sex + RestingBP : 0.9137324992552875\n",
      "AUC pour HeartDisease ~ STSlope1 + ChestPainType3 + Oldpeak + Sex + Cholesterol : 0.9139239967658198\n",
      "AUC pour HeartDisease ~ STSlope1 + ChestPainType3 + Oldpeak + Sex + FastingBS : 0.9217073066939019\n",
      "AUC pour HeartDisease ~ STSlope1 + ChestPainType3 + Oldpeak + Sex + MaxHR : 0.91684326992638\n",
      "AUC pour HeartDisease ~ STSlope1 + ChestPainType3 + Oldpeak + Sex + ExerciseAngina : 0.9172432869483806\n",
      "AUC pour HeartDisease ~ STSlope1 + ChestPainType3 + Oldpeak + Sex + ChestPainType1 : 0.9134941912421806\n",
      "AUC pour HeartDisease ~ STSlope1 + ChestPainType3 + Oldpeak + Sex + ChestPainType2 : 0.9126005361930293\n",
      "AUC pour HeartDisease ~ STSlope1 + ChestPainType3 + Oldpeak + Sex + RestingECG1 : 0.9134005702370314\n",
      "AUC pour HeartDisease ~ STSlope1 + ChestPainType3 + Oldpeak + Sex + RestingECG2 : 0.9110557896080682\n",
      "AUC pour HeartDisease ~ STSlope1 + ChestPainType3 + Oldpeak + Sex + STSlope2 : 0.9161709008893998\n",
      "Meilleur variables HeartDisease ~ STSlope1 + ChestPainType3 + Oldpeak + Sex + FastingBS : 0.9217073066939019\n",
      "\n",
      "AUC pour HeartDisease ~ STSlope1 + ChestPainType3 + Oldpeak + Sex + FastingBS + Age : 0.9240648538235671\n",
      "AUC pour HeartDisease ~ STSlope1 + ChestPainType3 + Oldpeak + Sex + FastingBS + RestingBP : 0.921149836163241\n",
      "AUC pour HeartDisease ~ STSlope1 + ChestPainType3 + Oldpeak + Sex + FastingBS + Cholesterol : 0.923486105791736\n",
      "AUC pour HeartDisease ~ STSlope1 + ChestPainType3 + Oldpeak + Sex + FastingBS + MaxHR : 0.924307417336908\n",
      "AUC pour HeartDisease ~ STSlope1 + ChestPainType3 + Oldpeak + Sex + FastingBS + ExerciseAngina : 0.9265372994595511\n",
      "AUC pour HeartDisease ~ STSlope1 + ChestPainType3 + Oldpeak + Sex + FastingBS + ChestPainType1 : 0.9219115707051363\n",
      "AUC pour HeartDisease ~ STSlope1 + ChestPainType3 + Oldpeak + Sex + FastingBS + ChestPainType2 : 0.9215838971871143\n",
      "AUC pour HeartDisease ~ STSlope1 + ChestPainType3 + Oldpeak + Sex + FastingBS + RestingECG1 : 0.9218477382016257\n",
      "AUC pour HeartDisease ~ STSlope1 + ChestPainType3 + Oldpeak + Sex + FastingBS + RestingECG2 : 0.9205072556278991\n",
      "AUC pour HeartDisease ~ STSlope1 + ChestPainType3 + Oldpeak + Sex + FastingBS + STSlope2 : 0.9239542108174814\n",
      "Meilleur variables HeartDisease ~ STSlope1 + ChestPainType3 + Oldpeak + Sex + FastingBS + ExerciseAngina : 0.9265372994595511\n",
      "\n",
      "AUC pour HeartDisease ~ STSlope1 + ChestPainType3 + Oldpeak + Sex + FastingBS + ExerciseAngina + Age : 0.9279671475381932\n",
      "AUC pour HeartDisease ~ STSlope1 + ChestPainType3 + Oldpeak + Sex + FastingBS + ExerciseAngina + RestingBP : 0.9265543214604876\n",
      "AUC pour HeartDisease ~ STSlope1 + ChestPainType3 + Oldpeak + Sex + FastingBS + ExerciseAngina + Cholesterol : 0.9270649814885739\n",
      "AUC pour HeartDisease ~ STSlope1 + ChestPainType3 + Oldpeak + Sex + FastingBS + ExerciseAngina + MaxHR : 0.926575598961658\n",
      "AUC pour HeartDisease ~ STSlope1 + ChestPainType3 + Oldpeak + Sex + FastingBS + ExerciseAngina + ChestPainType1 : 0.926511766458147\n",
      "AUC pour HeartDisease ~ STSlope1 + ChestPainType3 + Oldpeak + Sex + FastingBS + ExerciseAngina + ChestPainType2 : 0.9263713349504232\n",
      "AUC pour HeartDisease ~ STSlope1 + ChestPainType3 + Oldpeak + Sex + FastingBS + ExerciseAngina + RestingECG1 : 0.9260308949316991\n",
      "AUC pour HeartDisease ~ STSlope1 + ChestPainType3 + Oldpeak + Sex + FastingBS + ExerciseAngina + RestingECG2 : 0.9265500659602534\n",
      "AUC pour HeartDisease ~ STSlope1 + ChestPainType3 + Oldpeak + Sex + FastingBS + ExerciseAngina + STSlope2 : 0.928762926081961\n",
      "Meilleur variables HeartDisease ~ STSlope1 + ChestPainType3 + Oldpeak + Sex + FastingBS + ExerciseAngina + STSlope2 : 0.928762926081961\n",
      "\n",
      "AUC pour HeartDisease ~ STSlope1 + ChestPainType3 + Oldpeak + Sex + FastingBS + ExerciseAngina + STSlope2 + Age : 0.9302353291629432\n"
     ]
    },
    {
     "name": "stdout",
     "output_type": "stream",
     "text": [
      "AUC pour HeartDisease ~ STSlope1 + ChestPainType3 + Oldpeak + Sex + FastingBS + ExerciseAngina + STSlope2 + RestingBP : 0.9287416485807909\n",
      "AUC pour HeartDisease ~ STSlope1 + ChestPainType3 + Oldpeak + Sex + FastingBS + ExerciseAngina + STSlope2 + Cholesterol : 0.9293501851142603\n",
      "AUC pour HeartDisease ~ STSlope1 + ChestPainType3 + Oldpeak + Sex + FastingBS + ExerciseAngina + STSlope2 + MaxHR : 0.9278352270309373\n",
      "AUC pour HeartDisease ~ STSlope1 + ChestPainType3 + Oldpeak + Sex + FastingBS + ExerciseAngina + STSlope2 + ChestPainType1 : 0.929094855100217\n",
      "AUC pour HeartDisease ~ STSlope1 + ChestPainType3 + Oldpeak + Sex + FastingBS + ExerciseAngina + STSlope2 + ChestPainType2 : 0.9287459040810248\n",
      "AUC pour HeartDisease ~ STSlope1 + ChestPainType3 + Oldpeak + Sex + FastingBS + ExerciseAngina + STSlope2 + RestingECG1 : 0.9276735180220436\n",
      "AUC pour HeartDisease ~ STSlope1 + ChestPainType3 + Oldpeak + Sex + FastingBS + ExerciseAngina + STSlope2 + RestingECG2 : 0.9270820034895103\n",
      "Meilleur variables HeartDisease ~ STSlope1 + ChestPainType3 + Oldpeak + Sex + FastingBS + ExerciseAngina + STSlope2 + Age : 0.9302353291629432\n",
      "\n",
      "AUC pour HeartDisease ~ STSlope1 + ChestPainType3 + Oldpeak + Sex + FastingBS + ExerciseAngina + STSlope2 + Age + RestingBP : 0.9302991616664539\n",
      "AUC pour HeartDisease ~ STSlope1 + ChestPainType3 + Oldpeak + Sex + FastingBS + ExerciseAngina + STSlope2 + Age + Cholesterol : 0.929899144644453\n",
      "AUC pour HeartDisease ~ STSlope1 + ChestPainType3 + Oldpeak + Sex + FastingBS + ExerciseAngina + STSlope2 + Age + MaxHR : 0.930477892676284\n",
      "AUC pour HeartDisease ~ STSlope1 + ChestPainType3 + Oldpeak + Sex + FastingBS + ExerciseAngina + STSlope2 + Age + ChestPainType1 : 0.9302183071620069\n",
      "AUC pour HeartDisease ~ STSlope1 + ChestPainType3 + Oldpeak + Sex + FastingBS + ExerciseAngina + STSlope2 + Age + ChestPainType2 : 0.9302991616664539\n",
      "AUC pour HeartDisease ~ STSlope1 + ChestPainType3 + Oldpeak + Sex + FastingBS + ExerciseAngina + STSlope2 + Age + RestingECG1 : 0.929967232648198\n",
      "AUC pour HeartDisease ~ STSlope1 + ChestPainType3 + Oldpeak + Sex + FastingBS + ExerciseAngina + STSlope2 + Age + RestingECG2 : 0.9298778671432827\n",
      "Meilleur variables HeartDisease ~ STSlope1 + ChestPainType3 + Oldpeak + Sex + FastingBS + ExerciseAngina + STSlope2 + Age + MaxHR : 0.930477892676284\n",
      "\n",
      "AUC pour HeartDisease ~ STSlope1 + ChestPainType3 + Oldpeak + Sex + FastingBS + ExerciseAngina + STSlope2 + Age + MaxHR + RestingBP : 0.9306651346865824\n",
      "AUC pour HeartDisease ~ STSlope1 + ChestPainType3 + Oldpeak + Sex + FastingBS + ExerciseAngina + STSlope2 + Age + MaxHR + Cholesterol : 0.9304736371760499\n",
      "AUC pour HeartDisease ~ STSlope1 + ChestPainType3 + Oldpeak + Sex + FastingBS + ExerciseAngina + STSlope2 + Age + MaxHR + ChestPainType1 : 0.9304651261755819\n",
      "AUC pour HeartDisease ~ STSlope1 + ChestPainType3 + Oldpeak + Sex + FastingBS + ExerciseAngina + STSlope2 + Age + MaxHR + ChestPainType2 : 0.9309034426996893\n",
      "AUC pour HeartDisease ~ STSlope1 + ChestPainType3 + Oldpeak + Sex + FastingBS + ExerciseAngina + STSlope2 + Age + MaxHR + RestingECG1 : 0.9307119451891569\n",
      "AUC pour HeartDisease ~ STSlope1 + ChestPainType3 + Oldpeak + Sex + FastingBS + ExerciseAngina + STSlope2 + Age + MaxHR + RestingECG2 : 0.9305034256776885\n",
      "Meilleur variables HeartDisease ~ STSlope1 + ChestPainType3 + Oldpeak + Sex + FastingBS + ExerciseAngina + STSlope2 + Age + MaxHR + ChestPainType2 : 0.9309034426996893\n",
      "\n",
      "AUC pour HeartDisease ~ STSlope1 + ChestPainType3 + Oldpeak + Sex + FastingBS + ExerciseAngina + STSlope2 + Age + MaxHR + ChestPainType2 + RestingBP : 0.9305757691816672\n",
      "AUC pour HeartDisease ~ STSlope1 + ChestPainType3 + Oldpeak + Sex + FastingBS + ExerciseAngina + STSlope2 + Age + MaxHR + ChestPainType2 + Cholesterol : 0.9308268436954764\n",
      "AUC pour HeartDisease ~ STSlope1 + ChestPainType3 + Oldpeak + Sex + FastingBS + ExerciseAngina + STSlope2 + Age + MaxHR + ChestPainType2 + ChestPainType1 : 0.9306864121877526\n",
      "AUC pour HeartDisease ~ STSlope1 + ChestPainType3 + Oldpeak + Sex + FastingBS + ExerciseAngina + STSlope2 + Age + MaxHR + ChestPainType2 + RestingECG1 : 0.9308310991957104\n",
      "AUC pour HeartDisease ~ STSlope1 + ChestPainType3 + Oldpeak + Sex + FastingBS + ExerciseAngina + STSlope2 + Age + MaxHR + ChestPainType2 + RestingECG2 : 0.9306438571854121\n"
     ]
    },
    {
     "data": {
      "text/plain": [
       "FormulaTerm\n",
       "Response:\n",
       "  HeartDisease(unknown)\n",
       "Predictors:\n",
       "  STSlope1(unknown)\n",
       "  ChestPainType3(unknown)\n",
       "  Oldpeak(unknown)\n",
       "  Sex(unknown)\n",
       "  FastingBS(unknown)\n",
       "  ExerciseAngina(unknown)\n",
       "  STSlope2(unknown)\n",
       "  Age(unknown)\n",
       "  MaxHR(unknown)\n",
       "  ChestPainType2(unknown)"
      ]
     },
     "execution_count": 12,
     "metadata": {},
     "output_type": "execute_result"
    }
   ],
   "source": [
    "variables = propertynames(select(data, Not([:ID, :HeartDisease])))\n",
    "\n",
    "best_formula = forwardStepwiseRegression(data, variables)"
   ]
  },
  {
   "cell_type": "markdown",
   "metadata": {},
   "source": [
    "## 2. Analyse exploratoire sommaire\n",
    "\n",
    "C'est une analyse exploratoire sommaire. Je vous encourage fortement à poursuivre cette analyse.\n",
    "\n",
    "#### 2.1 Maladie cardiovasculaire en fonction du rythme cardiaque maximal"
   ]
  },
  {
   "cell_type": "code",
   "execution_count": 13,
   "metadata": {},
   "outputs": [
    {
     "data": {
      "text/html": [
       "<table class=\"data-frame\"><thead><tr><th></th><th>HeartDisease</th><th>MaxHR_mean</th></tr><tr><th></th><th>Int64</th><th>Float64</th></tr></thead><tbody><p>2 rows × 2 columns</p><tr><th>1</th><td>1</td><td>127.633</td></tr><tr><th>2</th><td>0</td><td>148.349</td></tr></tbody></table>"
      ],
      "text/latex": [
       "\\begin{tabular}{r|cc}\n",
       "\t& HeartDisease & MaxHR\\_mean\\\\\n",
       "\t\\hline\n",
       "\t& Int64 & Float64\\\\\n",
       "\t\\hline\n",
       "\t1 & 1 & 127.633 \\\\\n",
       "\t2 & 0 & 148.349 \\\\\n",
       "\\end{tabular}\n"
      ],
      "text/plain": [
       "\u001b[1m2×2 DataFrame\u001b[0m\n",
       "\u001b[1m Row \u001b[0m│\u001b[1m HeartDisease \u001b[0m\u001b[1m MaxHR_mean \u001b[0m\n",
       "\u001b[1m     \u001b[0m│\u001b[90m Int64        \u001b[0m\u001b[90m Float64    \u001b[0m\n",
       "─────┼──────────────────────────\n",
       "   1 │            1     127.633\n",
       "   2 │            0     148.349"
      ]
     },
     "execution_count": 13,
     "metadata": {},
     "output_type": "execute_result"
    }
   ],
   "source": [
    "# Calcul de la moyenne par classe\n",
    "\n",
    "combine(groupby(data, :HeartDisease), :MaxHR => mean)"
   ]
  },
  {
   "cell_type": "code",
   "execution_count": null,
   "metadata": {},
   "outputs": [],
   "source": [
    "# Affichage des rythmes cardiques maximum en fonction de la classe\n",
    "\n",
    "df = select(data, :MaxHR, :HeartDisease)\n",
    "\n",
    "df.HeartDisease = string.(df.HeartDisease)\n",
    "\n",
    "plot(df, x=:HeartDisease, y=:MaxHR, Geom.boxplot)"
   ]
  },
  {
   "cell_type": "code",
   "execution_count": null,
   "metadata": {},
   "outputs": [],
   "source": [
    "# Affichage des rythmes cardiques maximum en fonction de l'age\n",
    "\n",
    "df = select(data, :Age, :HeartDisease)\n",
    "\n",
    "df.HeartDisease = string.(df.HeartDisease)\n",
    "\n",
    "plot(df, x=:HeartDisease, y=:Age, Geom.boxplot)"
   ]
  },
  {
   "cell_type": "markdown",
   "metadata": {},
   "source": [
    "## 3. Ajustement d'un modèle de régression logistique\n",
    "\n",
    "Ici, je n'utilise que la rythme cardiaque maximum comme variable explicative."
   ]
  },
  {
   "cell_type": "code",
   "execution_count": null,
   "metadata": {},
   "outputs": [],
   "source": [
    "M = glm(best_formula, data, Bernoulli(), LogitLink())\n"
   ]
  },
  {
   "cell_type": "markdown",
   "metadata": {},
   "source": [
    "## 4. Prédiction des surverses pour les jours de l'ensemble de test\n",
    "\n",
    "On utilise le modèle simple de la section précédente pour estimer la probabilité que le patient souffre d'une maladie cardiovasculaire.\n",
    "\n",
    "#### 4.1 Chargement des données de l'ensemble de test"
   ]
  },
  {
   "cell_type": "code",
   "execution_count": null,
   "metadata": {},
   "outputs": [],
   "source": [
    "test = CSV.read(\"test1.csv\", DataFrame);\n",
    "# y = test.HeartDisease\n",
    "n = nrow(test)"
   ]
  },
  {
   "cell_type": "code",
   "execution_count": null,
   "metadata": {},
   "outputs": [],
   "source": [
    "cholesterol_mean = floor(Int, mean(skipmissing(test.Cholesterol)))\n",
    "test[!, :Cholesterol] = coalesce.(test.Cholesterol, cholesterol_mean);\n",
    "test.Cholesterol = replace(test.Cholesterol, missing => cholesterol_mean);\n",
    "# dropmissing!(data)"
   ]
  },
  {
   "cell_type": "code",
   "execution_count": null,
   "metadata": {},
   "outputs": [],
   "source": [
    "sex = zeros(Int, n)\n",
    "\n",
    "for i in 1:n\n",
    "    if (test.Sex[i] == \"M\")\n",
    "        sex[i] = 1;\n",
    "    end\n",
    "end\n",
    "test[!, :Sex] = sex;"
   ]
  },
  {
   "cell_type": "code",
   "execution_count": null,
   "metadata": {},
   "outputs": [],
   "source": [
    "ChestPainType1 = zeros(Int, n)\n",
    "ChestPainType2 = zeros(Int, n)\n",
    "ChestPainType3 = zeros(Int, n)\n",
    "\n",
    "for i in 1:n\n",
    "    if (test.ChestPainType[i] == \"ATA\")\n",
    "        ChestPainType1[i] = 1;\n",
    "    elseif (test.ChestPainType[i] == \"NAP\")\n",
    "        ChestPainType2[i] = 1; \n",
    "    elseif (test.ChestPainType[i] == \"ASY\")\n",
    "        ChestPainType3[i] = 1;\n",
    "    end\n",
    "end\n",
    "select!(test, Not(:ChestPainType))\n",
    "test[!, :ChestPainType1] = ChestPainType1;\n",
    "test[!, :ChestPainType2] = ChestPainType2;\n",
    "test[!, :ChestPainType3] = ChestPainType3;"
   ]
  },
  {
   "cell_type": "code",
   "execution_count": null,
   "metadata": {},
   "outputs": [],
   "source": [
    "restingECG1 = zeros(Int, n)\n",
    "restingECG2 = zeros(Int, n)\n",
    "\n",
    "for i in 1:n\n",
    "    if (test.RestingECG[i] == \"ST\")\n",
    "        restingECG1[i] = 1;\n",
    "    elseif (test.RestingECG[i] == \"LVH\")\n",
    "        restingECG2[i] = 1;  \n",
    "    end\n",
    "end\n",
    "select!(test, Not(:RestingECG))\n",
    "test[!, :RestingECG1] = restingECG1;\n",
    "test[!, :RestingECG2] = restingECG2;"
   ]
  },
  {
   "cell_type": "code",
   "execution_count": null,
   "metadata": {},
   "outputs": [],
   "source": [
    "exerciseAngina = zeros(Int, n)\n",
    "\n",
    "for i in 1:n\n",
    "    if (test.ExerciseAngina[i] == \"Y\")\n",
    "        exerciseAngina[i] = 1;\n",
    "    end\n",
    "end\n",
    "test[!, :ExerciseAngina] = exerciseAngina;"
   ]
  },
  {
   "cell_type": "code",
   "execution_count": null,
   "metadata": {},
   "outputs": [],
   "source": [
    "STSlope1 = zeros(Int, n)\n",
    "STSlope2 = zeros(Int, n)\n",
    "\n",
    "for i in 1:n\n",
    "    if (test.STSlope[i] == \"Flat\")\n",
    "        STSlope1[i] = 1;\n",
    "    elseif (test.STSlope[i] == \"Down\")\n",
    "        STSlope2[i] = 1;  \n",
    "    end\n",
    "end\n",
    "select!(test, Not(:STSlope))\n",
    "test[!, :STSlope1] = STSlope1;\n",
    "test[!, :STSlope2] = STSlope2;"
   ]
  },
  {
   "cell_type": "code",
   "execution_count": null,
   "metadata": {},
   "outputs": [],
   "source": []
  },
  {
   "cell_type": "markdown",
   "metadata": {},
   "source": [
    "#### 4.2 Prédiction pour chacun des patients de l'ensemble de test\n",
    "\n",
    "On prédit que le patient souffre d'une maladie cardiovasculaire si la probabilité est supérieure à 50%."
   ]
  },
  {
   "cell_type": "code",
   "execution_count": null,
   "metadata": {},
   "outputs": [],
   "source": [
    "θ̂ = predict(M, test)\n",
    "\n",
    "ŷ = Int64[]\n",
    "index = 0;\n",
    "for θ̂ᵢ in θ̂\n",
    "    if θ̂ᵢ >= .35\n",
    "        push!(ŷ, 1)\n",
    "    else\n",
    "        push!(ŷ, 0)\n",
    "    end\n",
    "end\n"
   ]
  },
  {
   "cell_type": "markdown",
   "metadata": {},
   "source": [
    "#### 3.3 Préparation du fichier des préditions pour téléverser sur Kaggle\n",
    "\n",
    "Le fichier *benchmark_predictions.csv* généré peut être téléversé sur Kaggle. Il est composé d'une colonne d'identifiants (ID) et d'une colonne des diagnostics prédits."
   ]
  },
  {
   "cell_type": "code",
   "execution_count": null,
   "metadata": {},
   "outputs": [],
   "source": [
    "prediction = DataFrame(ID = test.ID, Prediction = ŷ)\n",
    "\n",
    "CSV.write(\"benchmark_predictions.csv\", prediction)\n",
    "println(evaluateScore(prediction))"
   ]
  },
  {
   "cell_type": "code",
   "execution_count": null,
   "metadata": {},
   "outputs": [],
   "source": [
    "function evaluateScore(prediction::DataFrame)\n",
    "    count = 0;\n",
    "    for i = 1:nrow(prediction)\n",
    "        if (prediction[i, 2] == test.HeartDisease[i])\n",
    "            count = count + 1;\n",
    "        end \n",
    "    end\n",
    "\n",
    "    return count / nrow(prediction)\n",
    "end"
   ]
  },
  {
   "cell_type": "code",
   "execution_count": null,
   "metadata": {},
   "outputs": [],
   "source": [
    "function findBestProbability()\n",
    "    maxScore = 0;\n",
    "    best_p = 0;\n",
    "    for p in 0.1:0.01:0.9\n",
    "        ŷ = Int64[]\n",
    "        index = 0;\n",
    "        for θ̂ᵢ in θ̂\n",
    "            if θ̂ᵢ >= p\n",
    "                push!(ŷ, 1)\n",
    "            else\n",
    "                push!(ŷ, 0)\n",
    "            end\n",
    "        end\n",
    "        prediction = DataFrame(ID = test.ID, Prediction = ŷ)\n",
    "        score = evaluateScore(prediction)\n",
    "        if (score >= maxScore)\n",
    "            maxScore = score\n",
    "            best_p = p\n",
    "        end\n",
    "    end\n",
    "    println(\"Meilleur score est \", maxScore, \" avec \", best_p)\n",
    "end"
   ]
  },
  {
   "cell_type": "code",
   "execution_count": null,
   "metadata": {},
   "outputs": [],
   "source": [
    "findBestProbability()"
   ]
  }
 ],
 "metadata": {
  "@webio": {
   "lastCommId": null,
   "lastKernelId": null
  },
  "kernelspec": {
   "display_name": "Julia 1.6.2",
   "language": "julia",
   "name": "julia-1.6"
  },
  "language_info": {
   "file_extension": ".jl",
   "mimetype": "application/julia",
   "name": "julia",
   "version": "1.6.2"
  }
 },
 "nbformat": 4,
 "nbformat_minor": 4
}
