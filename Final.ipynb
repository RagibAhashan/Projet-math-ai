{
 "cells": [
  {
   "cell_type": "code",
   "execution_count": 1,
   "metadata": {},
   "outputs": [],
   "source": [
    "ENV[\"COLUMNS\"] = 150\n",
    "using CSV, DataFrames, Gadfly, GLM, Statistics, LinearAlgebra, Distributions, Combinatorics, StatsBase, MLBase, Random"
   ]
  },
  {
   "cell_type": "markdown",
   "metadata": {},
   "source": [
    "# MTH3302 : Méthodes probabilistes et statistiques pour l'I.A.\n",
    "\n",
    "Jonathan Jalbert<br/>\n",
    "Professeur agrégé au Département de mathématiques et de génie industriel<br/>\n",
    "Polytechnique Montréal<br/>\n",
    "\n",
    "# Projet A2021 : Prédire les maladies cardiaques\n",
    "\n",
    "La description du projet est disponible à l'adresse suivante :\n",
    "https://www.kaggle.com/t/3a185493d8bb48d8961ad50e465bed4f\n",
    "\n",
    "Ce calepin Jupyter de base permet de \n",
    "\n",
    "1. Charger les données fournies.\n",
    "2. Effectuer une analyse exploratoire sommaire des données.\n",
    "3. Développer un modèle simple de prédiction.\n",
    "4. Générer le fichier de prédictions à téléverser sur Kaggle.\n",
    "\n",
    "Dans un premier temps, vous devrez récupérer les données sous l'onglet *data* du site Kaggle. Il y a deux fichiers :\n",
    "- train.csv\n",
    "- test.csv\n",
    "\n",
    "Le fichier *train.csv* contient les données sur lesquelles vous pouvez entraîner votre modèle. Il sera ensuite évaluée sur les données de l'ensemble *test.csv* lorsque vous aurez téléversé vos prédictions sur Kaggle. \n",
    "\n",
    "### Consignes\n",
    "\n",
    "- Vous devez constituer une équipe de 3 à 5 personnes.\n",
    "- Au moins une solution doit être proposée sur Kaggle.\n",
    "- Utilisez votre numéro d'équipe pour téléverser vos prédictions sur Kaggle.\n",
    "- Un seul fichier .ipynb par équipe faisant office de rapport et permettant de reproduire vos meilleures prédictions doit être remis.\n",
    "- Le langage Julia doit être utilisé.\n",
    "- Votre démarche doit être rigoureusement justifiée (consultez la grille de correction pour vous orienter).\n",
    "\n",
    "### Quelques conseils\n",
    "\n",
    "Votre calepin doit permettre de suivre clairement votre raisonnement et de reproduire vos résultats. Garder à l'esprit que vos résultats et votre démarche doivent être reproductibles par une personne à l'extérieur de votre équipe. Le calepin constitue le rapport. Servez vous des cellules de texte pour décrire ce que vous faites.\n",
    "\n",
    "Je vous encourage fortement à faire une analyse exploratoire de vous données pour développer une meilleure expertise du problème. C'est une étape qui est toujours négligée par les débutants mais qui est essentielle. C'est avec l'analyse exploratoire que vous viendra des idées d'amélioration, par exemple créer de nouvelles variables explicatives.\n",
    "\n",
    "Vous pouvez utiliser directement tout ce qui se retrouve dans les notes de cours sans explication et toutes les librairies utilisées dans le cours (incluant mes fonctions).\n",
    "\n",
    "Ce calepin de base contient un modèle très simple de prédiction : on prédit 0 débordement à tous les jours. Ce sera votre travail d'améliorer ces prédictions naïves avec la méthode de votre choix.\n",
    "\n",
    "Il faudra que vous trouviez un moyen de traiter les données manquantes. La plupart du temps, une méthode simple d'imputation (de remplacement) des données manquantes est appropriée.\n",
    "\n",
    "Prenez la peine de tout documenter, même les essais infructueux. Ce n'est pas nécessaire de les expliquer en détails, mais c'est important de les mentionner au moins succintement dans la discussion avec une raison possible pour leur échec. De cette façon, une personne qui reprendra votre travail dans le futur ne perdra pas de temps à réessayer une méthode déjà implémentée et infructueuse.\n",
    "\n",
    "Vous pouvez aussi indiquer dans votre rapport les raisons qui vous font croire pourquoi une méthode à moins bien performée que ce à quoi vous vous attendiez. Vous pouvez également mentionner ce que vous auriez pu tenter si vous aviez eu plus de temps ou plus de données, etc. L'idée est de guider le prochain scientifique qui prendra la relève de votre travail.\n",
    "\n",
    "Vous êtes limités à deux soumissions par jour par équipe sur Kaggle. Je vous suggère donc de bien tester vos modèles localement et de ne téléverser que vos meilleurs candidats."
   ]
  },
  {
   "cell_type": "code",
   "execution_count": 2,
   "metadata": {},
   "outputs": [],
   "source": [
    "ENV[\"COLUMNS\"] = 150\n",
    "using CSV, DataFrames, Gadfly, GLM, Statistics, LinearAlgebra, Distributions, Combinatorics, StatsBase, MLBase, Random\n",
    "include(\"functions.jl\");"
   ]
  },
  {
   "cell_type": "markdown",
   "metadata": {},
   "source": [
    "### 1. Chargement des données"
   ]
  },
  {
   "cell_type": "code",
   "execution_count": 3,
   "metadata": {},
   "outputs": [
    {
     "data": {
      "text/html": [
       "<table class=\"data-frame\"><thead><tr><th></th><th>ID</th><th>Age</th><th>Sex</th><th>ChestPainType</th><th>RestingBP</th><th>Cholesterol</th><th>FastingBS</th><th>RestingECG</th><th>MaxHR</th><th>ExerciseAngina</th><th>Oldpeak</th><th>STSlope</th><th>HeartDisease</th></tr><tr><th></th><th>Int64</th><th>Int64</th><th>String</th><th>String</th><th>Int64</th><th>Int64?</th><th>Int64</th><th>String</th><th>Int64</th><th>String</th><th>Float64</th><th>String</th><th>Int64</th></tr></thead><tbody><p>5 rows × 13 columns</p><tr><th>1</th><td>1</td><td>69</td><td>M</td><td>ASY</td><td>140</td><td>110</td><td>1</td><td>Normal</td><td>109</td><td>Y</td><td>1.5</td><td>Flat</td><td>1</td></tr><tr><th>2</th><td>2</td><td>60</td><td>M</td><td>ASY</td><td>140</td><td>293</td><td>0</td><td>LVH</td><td>170</td><td>N</td><td>1.2</td><td>Flat</td><td>1</td></tr><tr><th>3</th><td>3</td><td>52</td><td>M</td><td>ASY</td><td>165</td><td><em>missing</em></td><td>1</td><td>Normal</td><td>122</td><td>Y</td><td>1.0</td><td>Up</td><td>1</td></tr><tr><th>4</th><td>4</td><td>46</td><td>M</td><td>NAP</td><td>120</td><td>230</td><td>0</td><td>Normal</td><td>150</td><td>N</td><td>0.0</td><td>Up</td><td>0</td></tr><tr><th>5</th><td>5</td><td>61</td><td>M</td><td>NAP</td><td>120</td><td><em>missing</em></td><td>0</td><td>Normal</td><td>80</td><td>Y</td><td>0.0</td><td>Flat</td><td>1</td></tr></tbody></table>"
      ],
      "text/latex": [
       "\\begin{tabular}{r|ccccccccccccc}\n",
       "\t& ID & Age & Sex & ChestPainType & RestingBP & Cholesterol & FastingBS & RestingECG & MaxHR & ExerciseAngina & Oldpeak & STSlope & HeartDisease\\\\\n",
       "\t\\hline\n",
       "\t& Int64 & Int64 & String & String & Int64 & Int64? & Int64 & String & Int64 & String & Float64 & String & Int64\\\\\n",
       "\t\\hline\n",
       "\t1 & 1 & 69 & M & ASY & 140 & 110 & 1 & Normal & 109 & Y & 1.5 & Flat & 1 \\\\\n",
       "\t2 & 2 & 60 & M & ASY & 140 & 293 & 0 & LVH & 170 & N & 1.2 & Flat & 1 \\\\\n",
       "\t3 & 3 & 52 & M & ASY & 165 & \\emph{missing} & 1 & Normal & 122 & Y & 1.0 & Up & 1 \\\\\n",
       "\t4 & 4 & 46 & M & NAP & 120 & 230 & 0 & Normal & 150 & N & 0.0 & Up & 0 \\\\\n",
       "\t5 & 5 & 61 & M & NAP & 120 & \\emph{missing} & 0 & Normal & 80 & Y & 0.0 & Flat & 1 \\\\\n",
       "\\end{tabular}\n"
      ],
      "text/plain": [
       "\u001b[1m5×13 DataFrame\u001b[0m\n",
       "\u001b[1m Row \u001b[0m│\u001b[1m ID    \u001b[0m\u001b[1m Age   \u001b[0m\u001b[1m Sex    \u001b[0m\u001b[1m ChestPainType \u001b[0m\u001b[1m RestingBP \u001b[0m\u001b[1m Cholesterol \u001b[0m\u001b[1m FastingBS \u001b[0m\u001b[1m RestingECG \u001b[0m\u001b[1m MaxHR \u001b[0m\u001b[1m ExerciseAngina \u001b[0m\u001b[1m Oldpeak \u001b[0m\u001b[1m STSlope \u001b[0m\u001b[1m HeartDisease \u001b[0m\n",
       "\u001b[1m     \u001b[0m│\u001b[90m Int64 \u001b[0m\u001b[90m Int64 \u001b[0m\u001b[90m String \u001b[0m\u001b[90m String        \u001b[0m\u001b[90m Int64     \u001b[0m\u001b[90m Int64?      \u001b[0m\u001b[90m Int64     \u001b[0m\u001b[90m String     \u001b[0m\u001b[90m Int64 \u001b[0m\u001b[90m String         \u001b[0m\u001b[90m Float64 \u001b[0m\u001b[90m String  \u001b[0m\u001b[90m Int64        \u001b[0m\n",
       "─────┼───────────────────────────────────────────────────────────────────────────────────────────────────────────────────────────────────────────\n",
       "   1 │     1     69  M       ASY                  140          110          1  Normal        109  Y                   1.5  Flat                1\n",
       "   2 │     2     60  M       ASY                  140          293          0  LVH           170  N                   1.2  Flat                1\n",
       "   3 │     3     52  M       ASY                  165 \u001b[90m     missing \u001b[0m         1  Normal        122  Y                   1.0  Up                  1\n",
       "   4 │     4     46  M       NAP                  120          230          0  Normal        150  N                   0.0  Up                  0\n",
       "   5 │     5     61  M       NAP                  120 \u001b[90m     missing \u001b[0m         0  Normal         80  Y                   0.0  Flat                1"
      ]
     },
     "execution_count": 3,
     "metadata": {},
     "output_type": "execute_result"
    }
   ],
   "source": [
    "data = CSV.read(\"train.csv\", DataFrame)\n",
    "first(data,5)"
   ]
  },
  {
   "cell_type": "markdown",
   "metadata": {},
   "source": [
    "### 2. Analyse exploratoire"
   ]
  },
  {
   "cell_type": "markdown",
   "metadata": {},
   "source": [
    "### 3 Préparation des données"
   ]
  },
  {
   "cell_type": "markdown",
   "metadata": {},
   "source": [
    "### 4 Fonctions d'entraînement de modèles"
   ]
  },
  {
   "cell_type": "markdown",
   "metadata": {},
   "source": [
    "### 5 Fonctions de prédiction pour les modèles"
   ]
  },
  {
   "cell_type": "markdown",
   "metadata": {},
   "source": [
    "### 6 Choix et entraînement du modèle"
   ]
  },
  {
   "cell_type": "markdown",
   "metadata": {},
   "source": [
    "### 7. Prédiction des tumeurs malignes de l'ensemble de test"
   ]
  },
  {
   "cell_type": "markdown",
   "metadata": {},
   "source": []
  }
 ],
 "metadata": {
  "kernelspec": {
   "display_name": "Julia 1.5.3",
   "language": "julia",
   "name": "julia-1.5"
  },
  "language_info": {
   "file_extension": ".jl",
   "mimetype": "application/julia",
   "name": "julia",
   "version": "1.5.3"
  },
  "orig_nbformat": 4
 },
 "nbformat": 4,
 "nbformat_minor": 2
}
