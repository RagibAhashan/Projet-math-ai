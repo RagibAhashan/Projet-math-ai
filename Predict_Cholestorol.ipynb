{
 "cells": [
  {
   "cell_type": "code",
   "execution_count": 1,
   "metadata": {},
   "outputs": [],
   "source": [
    "using CSV, DataFrames, Gadfly, GLM, Statistics, LinearAlgebra, Distributions, Combinatorics, StatsBase, MLBase, Random"
   ]
  },
  {
   "cell_type": "code",
   "execution_count": 145,
   "metadata": {},
   "outputs": [],
   "source": [
    "include(\"functions.jl\");"
   ]
  },
  {
   "cell_type": "code",
   "execution_count": 146,
   "metadata": {},
   "outputs": [
    {
     "data": {
      "text/html": [
       "<table class=\"data-frame\"><thead><tr><th></th><th>ID</th><th>Age</th><th>Sex</th><th>ChestPainType</th><th>RestingBP</th><th>Cholesterol</th><th>FastingBS</th><th>RestingECG</th></tr><tr><th></th><th>Int64</th><th>Int64</th><th>String</th><th>String</th><th>Int64</th><th>Int64?</th><th>Int64</th><th>String</th></tr></thead><tbody><p>5 rows × 13 columns (omitted printing of 5 columns)</p><tr><th>1</th><td>1</td><td>69</td><td>M</td><td>ASY</td><td>140</td><td>110</td><td>1</td><td>Normal</td></tr><tr><th>2</th><td>2</td><td>60</td><td>M</td><td>ASY</td><td>140</td><td>293</td><td>0</td><td>LVH</td></tr><tr><th>3</th><td>3</td><td>52</td><td>M</td><td>ASY</td><td>165</td><td><em>missing</em></td><td>1</td><td>Normal</td></tr><tr><th>4</th><td>4</td><td>46</td><td>M</td><td>NAP</td><td>120</td><td>230</td><td>0</td><td>Normal</td></tr><tr><th>5</th><td>5</td><td>61</td><td>M</td><td>NAP</td><td>120</td><td><em>missing</em></td><td>0</td><td>Normal</td></tr></tbody></table>"
      ],
      "text/latex": [
       "\\begin{tabular}{r|ccccccccc}\n",
       "\t& ID & Age & Sex & ChestPainType & RestingBP & Cholesterol & FastingBS & RestingECG & \\\\\n",
       "\t\\hline\n",
       "\t& Int64 & Int64 & String & String & Int64 & Int64? & Int64 & String & \\\\\n",
       "\t\\hline\n",
       "\t1 & 1 & 69 & M & ASY & 140 & 110 & 1 & Normal & $\\dots$ \\\\\n",
       "\t2 & 2 & 60 & M & ASY & 140 & 293 & 0 & LVH & $\\dots$ \\\\\n",
       "\t3 & 3 & 52 & M & ASY & 165 & \\emph{missing} & 1 & Normal & $\\dots$ \\\\\n",
       "\t4 & 4 & 46 & M & NAP & 120 & 230 & 0 & Normal & $\\dots$ \\\\\n",
       "\t5 & 5 & 61 & M & NAP & 120 & \\emph{missing} & 0 & Normal & $\\dots$ \\\\\n",
       "\\end{tabular}\n"
      ],
      "text/plain": [
       "\u001b[1m5×13 DataFrame\u001b[0m\n",
       "\u001b[1m Row \u001b[0m│\u001b[1m ID    \u001b[0m\u001b[1m Age   \u001b[0m\u001b[1m Sex    \u001b[0m\u001b[1m ChestPainType \u001b[0m\u001b[1m RestingBP \u001b[0m\u001b[1m Cholesterol \u001b[0m\u001b[1m FastingBS \u001b[0m\u001b[1m\u001b[0m ⋯\n",
       "\u001b[1m     \u001b[0m│\u001b[90m Int64 \u001b[0m\u001b[90m Int64 \u001b[0m\u001b[90m String \u001b[0m\u001b[90m String        \u001b[0m\u001b[90m Int64     \u001b[0m\u001b[90m Int64?      \u001b[0m\u001b[90m Int64     \u001b[0m\u001b[90m\u001b[0m ⋯\n",
       "─────┼──────────────────────────────────────────────────────────────────────────\n",
       "   1 │     1     69  M       ASY                  140          110          1  ⋯\n",
       "   2 │     2     60  M       ASY                  140          293          0\n",
       "   3 │     3     52  M       ASY                  165 \u001b[90m     missing \u001b[0m         1\n",
       "   4 │     4     46  M       NAP                  120          230          0\n",
       "   5 │     5     61  M       NAP                  120 \u001b[90m     missing \u001b[0m         0  ⋯\n",
       "\u001b[36m                                                               6 columns omitted\u001b[0m"
      ]
     },
     "execution_count": 146,
     "metadata": {},
     "output_type": "execute_result"
    }
   ],
   "source": [
    "data = CSV.read(\"train.csv\", DataFrame)\n",
    "\n",
    "first(data,5)"
   ]
  },
  {
   "cell_type": "code",
   "execution_count": 147,
   "metadata": {},
   "outputs": [
    {
     "data": {
      "text/plain": [
       "Dict{Int64,Int64} with 2 entries:\n",
       "  0 => 315\n",
       "  1 => 373"
      ]
     },
     "execution_count": 147,
     "metadata": {},
     "output_type": "execute_result"
    }
   ],
   "source": [
    "countmap(data.HeartDisease)"
   ]
  },
  {
   "cell_type": "code",
   "execution_count": 148,
   "metadata": {},
   "outputs": [],
   "source": [
    "missing_training = DataFrame()\n",
    "train_cholesterol = DataFrame()\n",
    "\n",
    "\n",
    "for row in eachrow(data)\n",
    "    # print(ismissing(row.Cholesterol) == true, '\\n')\n",
    "    if ismissing(row.Cholesterol)\n",
    "        push!(missing_training, row)\n",
    "    else\n",
    "        push!(train_cholesterol, row)\n",
    "    end\n",
    "end\n",
    "\n"
   ]
  },
  {
   "cell_type": "code",
   "execution_count": 149,
   "metadata": {},
   "outputs": [
    {
     "data": {
      "text/html": [
       "<table class=\"data-frame\"><thead><tr><th></th><th>ID</th><th>Age</th><th>Sex</th><th>ChestPainType</th><th>RestingBP</th><th>Cholesterol</th><th>FastingBS</th><th>RestingECG</th></tr><tr><th></th><th>Int64</th><th>Int64</th><th>String</th><th>String</th><th>Int64</th><th>Missing</th><th>Int64</th><th>String</th></tr></thead><tbody><p>5 rows × 13 columns (omitted printing of 5 columns)</p><tr><th>1</th><td>3</td><td>52</td><td>M</td><td>ASY</td><td>165</td><td><em>missing</em></td><td>1</td><td>Normal</td></tr><tr><th>2</th><td>5</td><td>61</td><td>M</td><td>NAP</td><td>120</td><td><em>missing</em></td><td>0</td><td>Normal</td></tr><tr><th>3</th><td>18</td><td>57</td><td>M</td><td>ASY</td><td>95</td><td><em>missing</em></td><td>1</td><td>Normal</td></tr><tr><th>4</th><td>31</td><td>38</td><td>M</td><td>NAP</td><td>100</td><td><em>missing</em></td><td>0</td><td>Normal</td></tr><tr><th>5</th><td>43</td><td>56</td><td>M</td><td>NAP</td><td>125</td><td><em>missing</em></td><td>1</td><td>Normal</td></tr></tbody></table>"
      ],
      "text/latex": [
       "\\begin{tabular}{r|ccccccccc}\n",
       "\t& ID & Age & Sex & ChestPainType & RestingBP & Cholesterol & FastingBS & RestingECG & \\\\\n",
       "\t\\hline\n",
       "\t& Int64 & Int64 & String & String & Int64 & Missing & Int64 & String & \\\\\n",
       "\t\\hline\n",
       "\t1 & 3 & 52 & M & ASY & 165 & \\emph{missing} & 1 & Normal & $\\dots$ \\\\\n",
       "\t2 & 5 & 61 & M & NAP & 120 & \\emph{missing} & 0 & Normal & $\\dots$ \\\\\n",
       "\t3 & 18 & 57 & M & ASY & 95 & \\emph{missing} & 1 & Normal & $\\dots$ \\\\\n",
       "\t4 & 31 & 38 & M & NAP & 100 & \\emph{missing} & 0 & Normal & $\\dots$ \\\\\n",
       "\t5 & 43 & 56 & M & NAP & 125 & \\emph{missing} & 1 & Normal & $\\dots$ \\\\\n",
       "\\end{tabular}\n"
      ],
      "text/plain": [
       "\u001b[1m5×13 DataFrame\u001b[0m\n",
       "\u001b[1m Row \u001b[0m│\u001b[1m ID    \u001b[0m\u001b[1m Age   \u001b[0m\u001b[1m Sex    \u001b[0m\u001b[1m ChestPainType \u001b[0m\u001b[1m RestingBP \u001b[0m\u001b[1m Cholesterol \u001b[0m\u001b[1m FastingBS \u001b[0m\u001b[1m\u001b[0m ⋯\n",
       "\u001b[1m     \u001b[0m│\u001b[90m Int64 \u001b[0m\u001b[90m Int64 \u001b[0m\u001b[90m String \u001b[0m\u001b[90m String        \u001b[0m\u001b[90m Int64     \u001b[0m\u001b[90m Missing     \u001b[0m\u001b[90m Int64     \u001b[0m\u001b[90m\u001b[0m ⋯\n",
       "─────┼──────────────────────────────────────────────────────────────────────────\n",
       "   1 │     3     52  M       ASY                  165 \u001b[90m    missing  \u001b[0m         1  ⋯\n",
       "   2 │     5     61  M       NAP                  120 \u001b[90m    missing  \u001b[0m         0\n",
       "   3 │    18     57  M       ASY                   95 \u001b[90m    missing  \u001b[0m         1\n",
       "   4 │    31     38  M       NAP                  100 \u001b[90m    missing  \u001b[0m         0\n",
       "   5 │    43     56  M       NAP                  125 \u001b[90m    missing  \u001b[0m         1  ⋯\n",
       "\u001b[36m                                                               6 columns omitted\u001b[0m"
      ]
     },
     "execution_count": 149,
     "metadata": {},
     "output_type": "execute_result"
    }
   ],
   "source": [
    "first(missing_training, 5)\n"
   ]
  },
  {
   "cell_type": "code",
   "execution_count": 150,
   "metadata": {},
   "outputs": [
    {
     "data": {
      "text/html": [
       "<table class=\"data-frame\"><thead><tr><th></th><th>ID</th><th>Age</th><th>Sex</th><th>ChestPainType</th><th>RestingBP</th><th>Cholesterol</th><th>FastingBS</th><th>RestingECG</th></tr><tr><th></th><th>Int64</th><th>Int64</th><th>String</th><th>String</th><th>Int64</th><th>Int64</th><th>Int64</th><th>String</th></tr></thead><tbody><p>5 rows × 13 columns (omitted printing of 5 columns)</p><tr><th>1</th><td>1</td><td>69</td><td>M</td><td>ASY</td><td>140</td><td>110</td><td>1</td><td>Normal</td></tr><tr><th>2</th><td>2</td><td>60</td><td>M</td><td>ASY</td><td>140</td><td>293</td><td>0</td><td>LVH</td></tr><tr><th>3</th><td>4</td><td>46</td><td>M</td><td>NAP</td><td>120</td><td>230</td><td>0</td><td>Normal</td></tr><tr><th>4</th><td>6</td><td>46</td><td>M</td><td>NAP</td><td>150</td><td>231</td><td>0</td><td>Normal</td></tr><tr><th>5</th><td>7</td><td>45</td><td>F</td><td>ATA</td><td>112</td><td>160</td><td>0</td><td>Normal</td></tr></tbody></table>"
      ],
      "text/latex": [
       "\\begin{tabular}{r|ccccccccc}\n",
       "\t& ID & Age & Sex & ChestPainType & RestingBP & Cholesterol & FastingBS & RestingECG & \\\\\n",
       "\t\\hline\n",
       "\t& Int64 & Int64 & String & String & Int64 & Int64 & Int64 & String & \\\\\n",
       "\t\\hline\n",
       "\t1 & 1 & 69 & M & ASY & 140 & 110 & 1 & Normal & $\\dots$ \\\\\n",
       "\t2 & 2 & 60 & M & ASY & 140 & 293 & 0 & LVH & $\\dots$ \\\\\n",
       "\t3 & 4 & 46 & M & NAP & 120 & 230 & 0 & Normal & $\\dots$ \\\\\n",
       "\t4 & 6 & 46 & M & NAP & 150 & 231 & 0 & Normal & $\\dots$ \\\\\n",
       "\t5 & 7 & 45 & F & ATA & 112 & 160 & 0 & Normal & $\\dots$ \\\\\n",
       "\\end{tabular}\n"
      ],
      "text/plain": [
       "\u001b[1m5×13 DataFrame\u001b[0m\n",
       "\u001b[1m Row \u001b[0m│\u001b[1m ID    \u001b[0m\u001b[1m Age   \u001b[0m\u001b[1m Sex    \u001b[0m\u001b[1m ChestPainType \u001b[0m\u001b[1m RestingBP \u001b[0m\u001b[1m Cholesterol \u001b[0m\u001b[1m FastingBS \u001b[0m\u001b[1m\u001b[0m ⋯\n",
       "\u001b[1m     \u001b[0m│\u001b[90m Int64 \u001b[0m\u001b[90m Int64 \u001b[0m\u001b[90m String \u001b[0m\u001b[90m String        \u001b[0m\u001b[90m Int64     \u001b[0m\u001b[90m Int64       \u001b[0m\u001b[90m Int64     \u001b[0m\u001b[90m\u001b[0m ⋯\n",
       "─────┼──────────────────────────────────────────────────────────────────────────\n",
       "   1 │     1     69  M       ASY                  140          110          1  ⋯\n",
       "   2 │     2     60  M       ASY                  140          293          0\n",
       "   3 │     4     46  M       NAP                  120          230          0\n",
       "   4 │     6     46  M       NAP                  150          231          0\n",
       "   5 │     7     45  F       ATA                  112          160          0  ⋯\n",
       "\u001b[36m                                                               6 columns omitted\u001b[0m"
      ]
     },
     "execution_count": 150,
     "metadata": {},
     "output_type": "execute_result"
    }
   ],
   "source": [
    "first(train_cholesterol, 5)"
   ]
  },
  {
   "cell_type": "code",
   "execution_count": null,
   "metadata": {},
   "outputs": [],
   "source": [
    "# function GetEncodedFormRow(dataframe:DataFrame)\n",
    "\n",
    "# end\n",
    "\n",
    "# function GetEncodedFormDataframe(dataframe:DataFrame)\n",
    "\n",
    "# end"
   ]
  },
  {
   "cell_type": "code",
   "execution_count": 151,
   "metadata": {},
   "outputs": [
    {
     "data": {
      "text/html": [
       "<table class=\"data-frame\"><thead><tr><th></th><th>ID</th><th>Age</th><th>Sex</th><th>ChestPainType</th><th>RestingBP</th><th>Cholesterol</th><th>FastingBS</th><th>RestingECG</th></tr><tr><th></th><th>Int64</th><th>Int64</th><th>Int64</th><th>String</th><th>Int64</th><th>Int64</th><th>Int64</th><th>String</th></tr></thead><tbody><p>5 rows × 13 columns (omitted printing of 5 columns)</p><tr><th>1</th><td>1</td><td>69</td><td>1</td><td>ASY</td><td>140</td><td>110</td><td>1</td><td>Normal</td></tr><tr><th>2</th><td>2</td><td>60</td><td>1</td><td>ASY</td><td>140</td><td>293</td><td>0</td><td>LVH</td></tr><tr><th>3</th><td>4</td><td>46</td><td>1</td><td>NAP</td><td>120</td><td>230</td><td>0</td><td>Normal</td></tr><tr><th>4</th><td>6</td><td>46</td><td>1</td><td>NAP</td><td>150</td><td>231</td><td>0</td><td>Normal</td></tr><tr><th>5</th><td>7</td><td>45</td><td>0</td><td>ATA</td><td>112</td><td>160</td><td>0</td><td>Normal</td></tr></tbody></table>"
      ],
      "text/latex": [
       "\\begin{tabular}{r|ccccccccc}\n",
       "\t& ID & Age & Sex & ChestPainType & RestingBP & Cholesterol & FastingBS & RestingECG & \\\\\n",
       "\t\\hline\n",
       "\t& Int64 & Int64 & Int64 & String & Int64 & Int64 & Int64 & String & \\\\\n",
       "\t\\hline\n",
       "\t1 & 1 & 69 & 1 & ASY & 140 & 110 & 1 & Normal & $\\dots$ \\\\\n",
       "\t2 & 2 & 60 & 1 & ASY & 140 & 293 & 0 & LVH & $\\dots$ \\\\\n",
       "\t3 & 4 & 46 & 1 & NAP & 120 & 230 & 0 & Normal & $\\dots$ \\\\\n",
       "\t4 & 6 & 46 & 1 & NAP & 150 & 231 & 0 & Normal & $\\dots$ \\\\\n",
       "\t5 & 7 & 45 & 0 & ATA & 112 & 160 & 0 & Normal & $\\dots$ \\\\\n",
       "\\end{tabular}\n"
      ],
      "text/plain": [
       "\u001b[1m5×13 DataFrame\u001b[0m\n",
       "\u001b[1m Row \u001b[0m│\u001b[1m ID    \u001b[0m\u001b[1m Age   \u001b[0m\u001b[1m Sex   \u001b[0m\u001b[1m ChestPainType \u001b[0m\u001b[1m RestingBP \u001b[0m\u001b[1m Cholesterol \u001b[0m\u001b[1m FastingBS \u001b[0m\u001b[1m \u001b[0m ⋯\n",
       "\u001b[1m     \u001b[0m│\u001b[90m Int64 \u001b[0m\u001b[90m Int64 \u001b[0m\u001b[90m Int64 \u001b[0m\u001b[90m String        \u001b[0m\u001b[90m Int64     \u001b[0m\u001b[90m Int64       \u001b[0m\u001b[90m Int64     \u001b[0m\u001b[90m \u001b[0m ⋯\n",
       "─────┼──────────────────────────────────────────────────────────────────────────\n",
       "   1 │     1     69      1  ASY                  140          110          1   ⋯\n",
       "   2 │     2     60      1  ASY                  140          293          0\n",
       "   3 │     4     46      1  NAP                  120          230          0\n",
       "   4 │     6     46      1  NAP                  150          231          0\n",
       "   5 │     7     45      0  ATA                  112          160          0   ⋯\n",
       "\u001b[36m                                                               6 columns omitted\u001b[0m"
      ]
     },
     "execution_count": 151,
     "metadata": {},
     "output_type": "execute_result"
    }
   ],
   "source": [
    "n_train_chol = length(y_train_chol)\n",
    "\n",
    "sex = zeros(Int, n_train_chol)\n",
    "\n",
    "for i in 1:n_train_chol\n",
    "    if (train_cholesterol.Sex[i] == \"M\")\n",
    "        sex[i] = 1;\n",
    "    end\n",
    "end\n",
    "train_cholesterol[!, :Sex] = sex;\n",
    "first(train_cholesterol, 5)"
   ]
  },
  {
   "cell_type": "code",
   "execution_count": 152,
   "metadata": {},
   "outputs": [],
   "source": [
    "ChestPainType1 = zeros(Int, n_train_chol)\n",
    "ChestPainType2 = zeros(Int, n_train_chol)\n",
    "ChestPainType3 = zeros(Int, n_train_chol)\n",
    "\n",
    "for i in 1:n_train_chol\n",
    "    if (train_cholesterol.ChestPainType[i] == \"ATA\")\n",
    "        ChestPainType1[i] = 1;\n",
    "    elseif (train_cholesterol.ChestPainType[i] == \"NAP\")\n",
    "        ChestPainType2[i] = 1; \n",
    "    elseif (train_cholesterol.ChestPainType[i] == \"ASY\")\n",
    "        ChestPainType3[i] = 1;\n",
    "    end\n",
    "end\n",
    "select!(train_cholesterol, Not(:ChestPainType))\n",
    "train_cholesterol[!, :ChestPainType1] = ChestPainType1;\n",
    "train_cholesterol[!, :ChestPainType2] = ChestPainType2;\n",
    "train_cholesterol[!, :ChestPainType3] = ChestPainType3;"
   ]
  },
  {
   "cell_type": "code",
   "execution_count": 153,
   "metadata": {},
   "outputs": [
    {
     "data": {
      "text/html": [
       "<table class=\"data-frame\"><thead><tr><th></th><th>ID</th><th>Age</th><th>Sex</th><th>RestingBP</th><th>Cholesterol</th><th>FastingBS</th><th>MaxHR</th><th>ExerciseAngina</th><th>Oldpeak</th></tr><tr><th></th><th>Int64</th><th>Int64</th><th>Int64</th><th>Int64</th><th>Int64</th><th>Int64</th><th>Int64</th><th>String</th><th>Float64</th></tr></thead><tbody><p>3 rows × 16 columns (omitted printing of 7 columns)</p><tr><th>1</th><td>1</td><td>69</td><td>1</td><td>140</td><td>110</td><td>1</td><td>109</td><td>Y</td><td>1.5</td></tr><tr><th>2</th><td>2</td><td>60</td><td>1</td><td>140</td><td>293</td><td>0</td><td>170</td><td>N</td><td>1.2</td></tr><tr><th>3</th><td>4</td><td>46</td><td>1</td><td>120</td><td>230</td><td>0</td><td>150</td><td>N</td><td>0.0</td></tr></tbody></table>"
      ],
      "text/latex": [
       "\\begin{tabular}{r|cccccccccc}\n",
       "\t& ID & Age & Sex & RestingBP & Cholesterol & FastingBS & MaxHR & ExerciseAngina & Oldpeak & \\\\\n",
       "\t\\hline\n",
       "\t& Int64 & Int64 & Int64 & Int64 & Int64 & Int64 & Int64 & String & Float64 & \\\\\n",
       "\t\\hline\n",
       "\t1 & 1 & 69 & 1 & 140 & 110 & 1 & 109 & Y & 1.5 & $\\dots$ \\\\\n",
       "\t2 & 2 & 60 & 1 & 140 & 293 & 0 & 170 & N & 1.2 & $\\dots$ \\\\\n",
       "\t3 & 4 & 46 & 1 & 120 & 230 & 0 & 150 & N & 0.0 & $\\dots$ \\\\\n",
       "\\end{tabular}\n"
      ],
      "text/plain": [
       "\u001b[1m3×16 DataFrame\u001b[0m\n",
       "\u001b[1m Row \u001b[0m│\u001b[1m ID    \u001b[0m\u001b[1m Age   \u001b[0m\u001b[1m Sex   \u001b[0m\u001b[1m RestingBP \u001b[0m\u001b[1m Cholesterol \u001b[0m\u001b[1m FastingBS \u001b[0m\u001b[1m MaxHR \u001b[0m\u001b[1m Exercise\u001b[0m ⋯\n",
       "\u001b[1m     \u001b[0m│\u001b[90m Int64 \u001b[0m\u001b[90m Int64 \u001b[0m\u001b[90m Int64 \u001b[0m\u001b[90m Int64     \u001b[0m\u001b[90m Int64       \u001b[0m\u001b[90m Int64     \u001b[0m\u001b[90m Int64 \u001b[0m\u001b[90m String  \u001b[0m ⋯\n",
       "─────┼──────────────────────────────────────────────────────────────────────────\n",
       "   1 │     1     69      1        140          110          1    109  Y        ⋯\n",
       "   2 │     2     60      1        140          293          0    170  N\n",
       "   3 │     4     46      1        120          230          0    150  N\n",
       "\u001b[36m                                                               9 columns omitted\u001b[0m"
      ]
     },
     "execution_count": 153,
     "metadata": {},
     "output_type": "execute_result"
    }
   ],
   "source": [
    "restingECG1 = zeros(Int, n_train_chol)\n",
    "restingECG2 = zeros(Int, n_train_chol)\n",
    "\n",
    "for i in 1:n_train_chol\n",
    "    if (train_cholesterol.RestingECG[i] == \"ST\")\n",
    "        restingECG1[i] = 1;\n",
    "    elseif (train_cholesterol.RestingECG[i] == \"LVH\")\n",
    "        restingECG2[i] = 1;  \n",
    "    end\n",
    "end\n",
    "select!(train_cholesterol, Not(:RestingECG))\n",
    "train_cholesterol[!, :RestingECG1] = restingECG1;\n",
    "train_cholesterol[!, :RestingECG2] = restingECG2;\n",
    "first(train_cholesterol, 3)"
   ]
  },
  {
   "cell_type": "code",
   "execution_count": 154,
   "metadata": {},
   "outputs": [],
   "source": [
    "exerciseAngina = zeros(Int, n_train_chol)\n",
    "\n",
    "for i in 1:n_train_chol\n",
    "    if (train_cholesterol.ExerciseAngina[i] == \"Y\")\n",
    "        exerciseAngina[i] = 1;\n",
    "    end\n",
    "end\n",
    "train_cholesterol[!, :ExerciseAngina] = exerciseAngina;"
   ]
  },
  {
   "cell_type": "code",
   "execution_count": 155,
   "metadata": {},
   "outputs": [],
   "source": [
    "exerciseAngina = zeros(Int, n_train_chol)\n",
    "\n",
    "for i in 1:n_train_chol\n",
    "    if (train_cholesterol.ExerciseAngina[i] == \"Y\")\n",
    "        exerciseAngina[i] = 1;\n",
    "    end\n",
    "end\n",
    "train_cholesterol[!, :ExerciseAngina] = exerciseAngina;"
   ]
  },
  {
   "cell_type": "code",
   "execution_count": 156,
   "metadata": {},
   "outputs": [],
   "source": [
    "STSlope1 = zeros(Int, n_train_chol)\n",
    "STSlope2 = zeros(Int, n_train_chol)\n",
    "\n",
    "for i in 1:n_train_chol\n",
    "    if (train_cholesterol.STSlope[i] == \"Flat\")\n",
    "        STSlope1[i] = 1;\n",
    "    elseif (train_cholesterol.STSlope[i] == \"Down\")\n",
    "        STSlope2[i] = 1;  \n",
    "    end\n",
    "end\n",
    "select!(data, Not(:STSlope))\n",
    "train_cholesterol[!, :STSlope1] = STSlope1;\n",
    "train_cholesterol[!, :STSlope2] = STSlope2;\n",
    "\n"
   ]
  },
  {
   "cell_type": "code",
   "execution_count": 157,
   "metadata": {},
   "outputs": [],
   "source": [
    "STSlope1 = zeros(Int, n_train_chol)\n",
    "STSlope2 = zeros(Int, n_train_chol)\n",
    "\n",
    "for i in 1:n_train_chol\n",
    "    if (train_cholesterol.STSlope[i] == \"Flat\")\n",
    "        STSlope1[i] = 1;\n",
    "    elseif (train_cholesterol.STSlope[i] == \"Down\")\n",
    "        STSlope2[i] = 1;  \n",
    "    end\n",
    "end\n",
    "select!(train_cholesterol, Not(:STSlope))\n",
    "train_cholesterol[!, :STSlope1] = STSlope1;\n",
    "train_cholesterol[!, :STSlope2] = STSlope2;"
   ]
  },
  {
   "cell_type": "code",
   "execution_count": 158,
   "metadata": {},
   "outputs": [
    {
     "data": {
      "text/plain": [
       "15-element Array{Symbol,1}:\n",
       " :Age\n",
       " :Sex\n",
       " :RestingBP\n",
       " :Cholesterol\n",
       " :FastingBS\n",
       " :MaxHR\n",
       " :ExerciseAngina\n",
       " :Oldpeak\n",
       " :ChestPainType1\n",
       " :ChestPainType2\n",
       " :ChestPainType3\n",
       " :RestingECG1\n",
       " :RestingECG2\n",
       " :STSlope1\n",
       " :STSlope2"
      ]
     },
     "execution_count": 158,
     "metadata": {},
     "output_type": "execute_result"
    }
   ],
   "source": [
    "variables = propertynames(select(train_cholesterol, Not([:ID, :HeartDisease])))"
   ]
  },
  {
   "cell_type": "code",
   "execution_count": 202,
   "metadata": {},
   "outputs": [
    {
     "data": {
      "text/plain": [
       "565×16 Array{Float64,2}:\n",
       " 1.0  69.0  1.0  140.0  110.0  1.0  …  1.0  0.0  0.0  1.0  0.0  0.0  1.0\n",
       " 1.0  60.0  1.0  140.0  293.0  0.0     1.0  0.0  0.0  1.0  0.0  1.0  1.0\n",
       " 1.0  46.0  1.0  120.0  230.0  0.0     0.0  0.0  1.0  0.0  0.0  0.0  0.0\n",
       " 1.0  46.0  1.0  150.0  231.0  0.0     1.0  0.0  1.0  0.0  0.0  0.0  1.0\n",
       " 1.0  45.0  0.0  112.0  160.0  0.0     0.0  1.0  0.0  0.0  0.0  0.0  1.0\n",
       " 1.0  47.0  1.0  140.0  276.0  1.0  …  0.0  0.0  0.0  1.0  0.0  0.0  0.0\n",
       " 1.0  43.0  1.0  150.0  247.0  0.0     1.0  0.0  0.0  1.0  0.0  0.0  1.0\n",
       " 1.0  49.0  0.0  130.0  269.0  0.0     0.0  0.0  0.0  1.0  0.0  0.0  0.0\n",
       " 1.0  43.0  1.0  130.0  315.0  0.0     0.0  0.0  1.0  0.0  0.0  0.0  0.0\n",
       " 1.0  36.0  1.0  150.0  160.0  0.0     0.0  0.0  1.0  0.0  0.0  0.0  0.0\n",
       " 1.0  50.0  1.0  145.0  264.0  0.0  …  1.0  0.0  0.0  1.0  0.0  0.0  1.0\n",
       " 1.0  37.0  1.0  118.0  240.0  0.0     0.0  0.0  1.0  0.0  0.0  1.0  1.0\n",
       " 1.0  41.0  0.0  125.0  184.0  0.0     0.0  1.0  0.0  0.0  0.0  0.0  0.0\n",
       " ⋮                             ⋮    ⋱       ⋮                        ⋮\n",
       " 1.0  39.0  1.0  130.0  307.0  0.0     0.0  0.0  0.0  1.0  0.0  0.0  0.0\n",
       " 1.0  51.0  1.0  132.0  227.0  1.0     0.0  0.0  0.0  1.0  1.0  0.0  0.0\n",
       " 1.0  41.0  1.0  150.0  171.0  0.0  …  0.0  0.0  0.0  1.0  0.0  0.0  1.0\n",
       " 1.0  60.0  1.0  140.0  185.0  0.0     1.0  0.0  1.0  0.0  0.0  1.0  1.0\n",
       " 1.0  38.0  1.0  110.0  190.0  0.0     1.0  0.0  0.0  1.0  0.0  0.0  1.0\n",
       " 1.0  43.0  1.0  120.0  177.0  0.0     1.0  0.0  0.0  1.0  0.0  1.0  1.0\n",
       " 1.0  54.0  0.0  150.0  230.0  0.0     0.0  1.0  0.0  0.0  0.0  0.0  0.0\n",
       " 1.0  44.0  1.0  120.0  220.0  0.0  …  0.0  1.0  0.0  0.0  0.0  0.0  0.0\n",
       " 1.0  52.0  0.0  136.0  196.0  0.0     0.0  0.0  1.0  0.0  0.0  1.0  1.0\n",
       " 1.0  55.0  1.0  122.0  223.0  1.0     1.0  0.0  0.0  1.0  1.0  0.0  1.0\n",
       " 1.0  34.0  0.0  130.0  161.0  0.0     0.0  1.0  0.0  0.0  0.0  0.0  0.0\n",
       " 1.0  48.0  1.0  110.0  211.0  0.0     0.0  0.0  1.0  0.0  0.0  0.0  0.0"
      ]
     },
     "execution_count": 202,
     "metadata": {},
     "output_type": "execute_result"
    }
   ],
   "source": [
    "# Variable d'intérêt\n",
    "y_train_chol = train_cholesterol.Cholesterol\n",
    "\n",
    "# Taille d'échantillon\n",
    "n_train_chol = length(y_train_chol)\n",
    "\n",
    "# Matrice de structure\n",
    "# Ne pas prendre Heart Disease\n",
    "X = hcat(ones(n_train_chol), Matrix(train_cholesterol[:,2:end-1]))"
   ]
  },
  {
   "cell_type": "code",
   "execution_count": 203,
   "metadata": {},
   "outputs": [
    {
     "data": {
      "text/plain": [
       "2.096587886725664e6"
      ]
     },
     "execution_count": 203,
     "metadata": {},
     "output_type": "execute_result"
    }
   ],
   "source": [
    "ȳ = mean(y_train_chol)\n",
    "SST = sum( (y_train_chol .- ȳ).^2 )"
   ]
  },
  {
   "cell_type": "code",
   "execution_count": 204,
   "metadata": {},
   "outputs": [
    {
     "data": {
      "text/plain": [
       "2.096587886725664e6"
      ]
     },
     "execution_count": 204,
     "metadata": {},
     "output_type": "execute_result"
    }
   ],
   "source": [
    "# Estimation des coefficients de régression\n",
    "β̂ = X\\y_train_chol\n",
    "\n",
    "# Projection des points sur l'hyperplan de régression\n",
    "ŷ = X*β̂\n",
    "\n",
    "# Calcul des erreurs observées\n",
    "e = y_train_chol - ŷ\n",
    "\n",
    "# Calcul de la variabilité résiduelle (erreur)\n",
    "SSE = sum( e.^2 )\n",
    "\n",
    "# Calcul de la variabilité expliquée par la régression\n",
    "SSR = SST - SSE"
   ]
  },
  {
   "cell_type": "code",
   "execution_count": 205,
   "metadata": {},
   "outputs": [
    {
     "name": "stdout",
     "output_type": "stream",
     "text": [
      "6.0019062024111285e-24\n",
      "2.096587886725664e6\n"
     ]
    },
    {
     "data": {
      "text/plain": [
       "1.0"
      ]
     },
     "execution_count": 205,
     "metadata": {},
     "output_type": "execute_result"
    }
   ],
   "source": [
    "println(SSE)\n",
    "println(SST)\n",
    "R2 = (SSR/SST)"
   ]
  },
  {
   "cell_type": "code",
   "execution_count": 206,
   "metadata": {},
   "outputs": [
    {
     "data": {
      "text/plain": [
       "565-element Array{Float64,1}:\n",
       " 110.0000000000001\n",
       " 293.0000000000001\n",
       " 230.00000000000009\n",
       " 231.00000000000009\n",
       " 160.00000000000006\n",
       " 276.0000000000001\n",
       " 247.00000000000009\n",
       " 269.0000000000001\n",
       " 315.0000000000001\n",
       " 160.00000000000006\n",
       " 264.0000000000001\n",
       " 240.00000000000009\n",
       " 184.00000000000006\n",
       "   ⋮\n",
       " 307.0000000000001\n",
       " 227.0000000000001\n",
       " 171.00000000000006\n",
       " 185.00000000000009\n",
       " 190.00000000000006\n",
       " 177.00000000000006\n",
       " 230.00000000000009\n",
       " 220.00000000000009\n",
       " 196.00000000000009\n",
       " 223.0000000000001\n",
       " 161.00000000000006\n",
       " 211.00000000000009"
      ]
     },
     "execution_count": 206,
     "metadata": {},
     "output_type": "execute_result"
    }
   ],
   "source": [
    "ŷ = X*β̂"
   ]
  }
 ],
 "metadata": {
  "kernelspec": {
   "display_name": "Julia 1.5.3",
   "language": "julia",
   "name": "julia-1.5"
  },
  "language_info": {
   "file_extension": ".jl",
   "mimetype": "application/julia",
   "name": "julia",
   "version": "1.5.3"
  },
  "orig_nbformat": 4
 },
 "nbformat": 4,
 "nbformat_minor": 2
}
