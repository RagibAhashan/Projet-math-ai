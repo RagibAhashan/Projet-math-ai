{
 "cells": [
  {
   "cell_type": "markdown",
   "metadata": {},
   "source": [
    "\n",
    "# MTH3302 : Méthodes probabilistes et statistiques pour l'I.A.\n",
    "\n",
    "Jonathan Jalbert<br/>\n",
    "Professeur agrégé au Département de mathématiques et de génie industriel<br/>\n",
    "Polytechnique Montréal<br/>\n",
    "\n",
    "# Projet A2021 : Prédire les maladies cardiaques\n",
    "\n",
    "La description du projet est disponible à l'adresse suivante :\n",
    "https://www.kaggle.com/t/3a185493d8bb48d8961ad50e465bed4f\n",
    "\n",
    "Ce calepin Jupyter de base permet de \n",
    "\n",
    "1. Charger les données fournies.\n",
    "2. Effectuer une analyse exploratoire sommaire des données.\n",
    "3. Développer un modèle simple de prédiction.\n",
    "4. Générer le fichier de prédictions à téléverser sur Kaggle.\n",
    "\n",
    "Dans un premier temps, vous devrez récupérer les données sous l'onglet *data* du site Kaggle. Il y a deux fichiers :\n",
    "- train.csv\n",
    "- test.csv\n",
    "\n",
    "Le fichier *train.csv* contient les données sur lesquelles vous pouvez entraîner votre modèle. Il sera ensuite évaluée sur les données de l'ensemble *test.csv* lorsque vous aurez téléversé vos prédictions sur Kaggle. \n",
    "\n",
    "### Consignes\n",
    "\n",
    "- Vous devez constituer une équipe de 3 à 5 personnes.\n",
    "- Au moins une solution doit être proposée sur Kaggle.\n",
    "- Utilisez votre numéro d'équipe pour téléverser vos prédictions sur Kaggle.\n",
    "- Un seul fichier .ipynb par équipe faisant office de rapport et permettant de reproduire vos meilleures prédictions doit être remis.\n",
    "- Le langage Julia doit être utilisé.\n",
    "- Votre démarche doit être rigoureusement justifiée (consultez la grille de correction pour vous orienter).\n",
    "\n",
    "### Quelques conseils\n",
    "\n",
    "Votre calepin doit permettre de suivre clairement votre raisonnement et de reproduire vos résultats. Garder à l'esprit que vos résultats et votre démarche doivent être reproductibles par une personne à l'extérieur de votre équipe. Le calepin constitue le rapport. Servez vous des cellules de texte pour décrire ce que vous faites.\n",
    "\n",
    "Je vous encourage fortement à faire une analyse exploratoire de vous données pour développer une meilleure expertise du problème. C'est une étape qui est toujours négligée par les débutants mais qui est essentielle. C'est avec l'analyse exploratoire que vous viendra des idées d'amélioration, par exemple créer de nouvelles variables explicatives.\n",
    "\n",
    "Vous pouvez utiliser directement tout ce qui se retrouve dans les notes de cours sans explication et toutes les librairies utilisées dans le cours (incluant mes fonctions).\n",
    "\n",
    "Ce calepin de base contient un modèle très simple de prédiction : on prédit 0 débordement à tous les jours. Ce sera votre travail d'améliorer ces prédictions naïves avec la méthode de votre choix.\n",
    "\n",
    "Il faudra que vous trouviez un moyen de traiter les données manquantes. La plupart du temps, une méthode simple d'imputation (de remplacement) des données manquantes est appropriée.\n",
    "\n",
    "Prenez la peine de tout documenter, même les essais infructueux. Ce n'est pas nécessaire de les expliquer en détails, mais c'est important de les mentionner au moins succintement dans la discussion avec une raison possible pour leur échec. De cette façon, une personne qui reprendra votre travail dans le futur ne perdra pas de temps à réessayer une méthode déjà implémentée et infructueuse.\n",
    "\n",
    "Vous pouvez aussi indiquer dans votre rapport les raisons qui vous font croire pourquoi une méthode à moins bien performée que ce à quoi vous vous attendiez. Vous pouvez également mentionner ce que vous auriez pu tenter si vous aviez eu plus de temps ou plus de données, etc. L'idée est de guider le prochain scientifique qui prendra la relève de votre travail.\n",
    "\n",
    "Vous êtes limités à deux soumissions par jour par équipe sur Kaggle. Je vous suggère donc de bien tester vos modèles localement et de ne téléverser que vos meilleurs candidats."
   ]
  },
  {
   "cell_type": "code",
   "execution_count": null,
   "metadata": {},
   "outputs": [],
   "source": [
    "using CSV, DataFrames, Gadfly, GLM, Statistics, LinearAlgebra, Distributions, Combinatorics, StatsBase, MLBase"
   ]
  },
  {
   "cell_type": "code",
   "execution_count": null,
   "metadata": {},
   "outputs": [],
   "source": [
    "include(\"functions.jl\");"
   ]
  },
  {
   "cell_type": "markdown",
   "metadata": {},
   "source": [
    "## 1. Chargement des données\n",
    "\n",
    "Assurez vous d'avoir télécharger les données dans le répertoire de ce calepin."
   ]
  },
  {
   "cell_type": "code",
   "execution_count": null,
   "metadata": {},
   "outputs": [],
   "source": [
    "data = CSV.read(\"train1.csv\", DataFrame)\n",
    "first(data,5)\n",
    "\n",
    "select!(data, Not([:ExerciseAngina, :Oldpeak, :Cholesterol]))\n",
    "y = data[:, :HeartDisease]\n",
    "n = length(y)"
   ]
  },
  {
   "cell_type": "code",
   "execution_count": null,
   "metadata": {},
   "outputs": [],
   "source": [
    "cholesterol_mean = floor(Int, mean(skipmissing(data.Cholesterol)))\n",
    "data[!, :Cholesterol] = coalesce.(data.Cholesterol, cholesterol_mean);"
   ]
  },
  {
   "cell_type": "code",
   "execution_count": null,
   "metadata": {},
   "outputs": [],
   "source": [
    "data.Cholesterol = replace(data.Cholesterol, missing => cholesterol_mean);\n",
    "# dropmissing!(data)"
   ]
  },
  {
   "cell_type": "code",
   "execution_count": null,
   "metadata": {},
   "outputs": [],
   "source": [
    "sex = zeros(Int, n)\n",
    "\n",
    "for i in 1:n\n",
    "    if (data.Sex[i] == \"M\")\n",
    "        sex[i] = 1;\n",
    "    end\n",
    "end\n",
    "data[!, :Sex] = sex;\n",
    "data"
   ]
  },
  {
   "cell_type": "code",
   "execution_count": null,
   "metadata": {},
   "outputs": [],
   "source": [
    "ChestPainType1 = zeros(Int, n)\n",
    "ChestPainType2 = zeros(Int, n)\n",
    "ChestPainType3 = zeros(Int, n)\n",
    "\n",
    "for i in 1:n\n",
    "    if (data.ChestPainType[i] == \"ATA\")\n",
    "        ChestPainType1[i] = 1;\n",
    "    elseif (data.ChestPainType[i] == \"NAP\")\n",
    "        ChestPainType2[i] = 1; \n",
    "    elseif (data.ChestPainType[i] == \"ASY\")\n",
    "        ChestPainType3[i] = 1;\n",
    "    end\n",
    "end\n",
    "select!(data, Not(:ChestPainType))\n",
    "data[!, :ChestPainType1] = ChestPainType1;\n",
    "data[!, :ChestPainType2] = ChestPainType2;\n",
    "data[!, :ChestPainType3] = ChestPainType3;"
   ]
  },
  {
   "cell_type": "code",
   "execution_count": null,
   "metadata": {},
   "outputs": [],
   "source": [
    "restingECG1 = zeros(Int, n)\n",
    "restingECG2 = zeros(Int, n)\n",
    "\n",
    "for i in 1:n\n",
    "    if (data.RestingECG[i] == \"ST\")\n",
    "        restingECG1[i] = 1;\n",
    "    elseif (data.RestingECG[i] == \"LVH\")\n",
    "        restingECG2[i] = 1;  \n",
    "    end\n",
    "end\n",
    "select!(data, Not(:RestingECG))\n",
    "data[!, :RestingECG1] = restingECG1;\n",
    "data[!, :RestingECG2] = restingECG2;"
   ]
  },
  {
   "cell_type": "code",
   "execution_count": null,
   "metadata": {},
   "outputs": [],
   "source": [
    "exerciseAngina = zeros(Int, n)\n",
    "\n",
    "for i in 1:n\n",
    "    if (data.ExerciseAngina[i] == \"Y\")\n",
    "        exerciseAngina[i] = 1;\n",
    "    end\n",
    "end\n",
    "data[!, :ExerciseAngina] = exerciseAngina;"
   ]
  },
  {
   "cell_type": "code",
   "execution_count": null,
   "metadata": {},
   "outputs": [],
   "source": [
    "STSlope1 = zeros(Int, n)\n",
    "STSlope2 = zeros(Int, n)\n",
    "\n",
    "for i in 1:n\n",
    "    if (data.STSlope[i] == \"Flat\")\n",
    "        STSlope1[i] = 1;\n",
    "    elseif (data.STSlope[i] == \"Down\")\n",
    "        STSlope2[i] = 1;  \n",
    "    end\n",
    "end\n",
    "select!(data, Not(:STSlope))\n",
    "data[!, :STSlope1] = STSlope1;\n",
    "data[!, :STSlope2] = STSlope2;\n",
    "\n"
   ]
  },
  {
   "cell_type": "code",
   "execution_count": null,
   "metadata": {},
   "outputs": [],
   "source": [
    "countmap(data.HeartDisease)"
   ]
  },
  {
   "cell_type": "code",
   "execution_count": null,
   "metadata": {
    "scrolled": true
   },
   "outputs": [],
   "source": [
    "data_temp = select(data, Not([:ID, :HeartDisease]))\n",
    "\n",
    "dt = StatsBase.fit(StatsBase.ZScoreTransform, Matrix{Float64}(data_temp), dims=1)\n",
    "Z = StatsBase.transform(dt, Matrix{Float64}(data_temp))\n",
    "\n",
    "dt = StatsBase.fit(StatsBase.ZScoreTransform, Vector{Float64}(data.HeartDisease), dims=1)\n",
    "Y = StatsBase.transform(dt, Vector{Float64}(data.HeartDisease))\n",
    "\n",
    "F = svd(Z)\n",
    "U = F.U\n",
    "V = F.V\n",
    "γ = F.S\n",
    "\n",
    "T = Z*V\n",
    "\n",
    "df = DataFrame(T, [\"Col\" * string(i) for i = 1:size(T, 2)])\n",
    "df.ID = data.ID\n",
    "df.HeartDisease = data.HeartDisease\n",
    "\n",
    "# df"
   ]
  },
  {
   "cell_type": "code",
   "execution_count": null,
   "metadata": {
    "scrolled": true
   },
   "outputs": [],
   "source": [
    "variables = propertynames(select(df, Not([:ID, :HeartDisease])))\n",
    "\n",
    "df_auc = DataFrame(Variable = Vector{Symbol}[], AUC = Float64[])\n",
    "\n",
    "for variable in combinations(variables)\n",
    "    formula = term(:HeartDisease) ~ sum(term.(variable))\n",
    "    \n",
    "    M_temp = glm(formula, df,  Bernoulli(), LogitLink())\n",
    "    θ̂ = convert(Array{Float64}, predict(M_temp, df))\n",
    "    aireRoc = auc(df.HeartDisease, θ̂ )\n",
    "    \n",
    "    push!(df_auc, [variable, aireRoc])\n",
    "end\n",
    "\n",
    "models = sort(df_auc, :AUC, rev=true)\n"
   ]
  },
  {
   "cell_type": "code",
   "execution_count": null,
   "metadata": {},
   "outputs": [],
   "source": [
    "formula = term(:HeartDisease) ~ sum(term.(models.Variable[1])[i] for i=1:length(models.Variable[1]))\n",
    "M = glm(formula, df, Bernoulli(), LogitLink())"
   ]
  },
  {
   "cell_type": "code",
   "execution_count": null,
   "metadata": {},
   "outputs": [],
   "source": [
    "M = glm(@formula(HeartDisease ~ Col1 + Col2 + Col3 + Col4 + Col5 + Col7 + Col9), df, Bernoulli(), LogitLink())"
   ]
  },
  {
   "cell_type": "markdown",
   "metadata": {},
   "source": [
    "## 2. Analyse exploratoire sommaire\n",
    "\n",
    "C'est une analyse exploratoire sommaire. Je vous encourage fortement à poursuivre cette analyse.\n",
    "\n",
    "#### 2.1 Maladie cardiovasculaire en fonction du rythme cardiaque maximal"
   ]
  },
  {
   "cell_type": "code",
   "execution_count": null,
   "metadata": {},
   "outputs": [],
   "source": [
    "# Calcul de la moyenne par classe\n",
    "\n",
    "combine(groupby(data, :HeartDisease), :MaxHR => mean)"
   ]
  },
  {
   "cell_type": "code",
   "execution_count": null,
   "metadata": {},
   "outputs": [],
   "source": [
    "# Affichage des rythmes cardiques maximum en fonction de la classe\n",
    "\n",
    "df = select(data, :MaxHR, :HeartDisease)\n",
    "\n",
    "df.HeartDisease = string.(df.HeartDisease)\n",
    "\n",
    "plot(df, x=:HeartDisease, y=:MaxHR, Geom.boxplot)"
   ]
  },
  {
   "cell_type": "code",
   "execution_count": null,
   "metadata": {},
   "outputs": [],
   "source": [
    "# Affichage des rythmes cardiques maximum en fonction de l'age\n",
    "\n",
    "df = select(data, :Age, :HeartDisease)\n",
    "\n",
    "df.HeartDisease = string.(df.HeartDisease)\n",
    "\n",
    "plot(df, x=:HeartDisease, y=:Age, Geom.boxplot)"
   ]
  },
  {
   "cell_type": "markdown",
   "metadata": {},
   "source": [
    "## 3. Ajustement d'un modèle de régression logistique\n",
    "\n",
    "Ici, je n'utilise que la rythme cardiaque maximum comme variable explicative."
   ]
  },
  {
   "cell_type": "code",
   "execution_count": null,
   "metadata": {},
   "outputs": [],
   "source": [
    "# variables = propertynames(select(data, Not([:ID, :HeartDisease, :Cholesterol, :RestingBP, :RestingECG, :MaxHR])))\n",
    "# formula = term(:HeartDisease) ~ sum(Term(variables[i]) for i = 1:length(variables))\n",
    "formula = term(:HeartDisease) ~ sum(term.(models.Variable[6])[i] for i=1:length(models.Variable[1]))\n",
    "# formula = @formula(HeartDisease ~ Age + Sex + FastingBS + MaxHR + ExerciseAngina + Oldpeak + ChestPainType3 + STSlope1 + STSlope2)\n",
    "# formula = @formula(formula)\n",
    "M = glm(formula, data, Bernoulli(), LogitLink())\n"
   ]
  },
  {
   "cell_type": "markdown",
   "metadata": {},
   "source": [
    "## 4. Prédiction des surverses pour les jours de l'ensemble de test\n",
    "\n",
    "On utilise le modèle simple de la section précédente pour estimer la probabilité que le patient souffre d'une maladie cardiovasculaire.\n",
    "\n",
    "#### 4.1 Chargement des données de l'ensemble de test"
   ]
  },
  {
   "cell_type": "code",
   "execution_count": null,
   "metadata": {},
   "outputs": [],
   "source": [
    "test = CSV.read(\"test1.csv\", DataFrame);\n",
    "y = test.HeartDisease\n",
    "n = length(y)"
   ]
  },
  {
   "cell_type": "code",
   "execution_count": null,
   "metadata": {},
   "outputs": [],
   "source": [
    "select!(test, Not([:ExerciseAngina, :Oldpeak, :STSlope, :Cholesterol]))\n"
   ]
  },
  {
   "cell_type": "code",
   "execution_count": null,
   "metadata": {},
   "outputs": [],
   "source": [
    "cholesterol_mean = floor(Int, mean(skipmissing(test.Cholesterol)))\n",
    "test[!, :Cholesterol] = coalesce.(test.Cholesterol, cholesterol_mean);\n",
    "test.Cholesterol = replace(test.Cholesterol, missing => cholesterol_mean);\n",
    "# dropmissing!(data)"
   ]
  },
  {
   "cell_type": "code",
   "execution_count": null,
   "metadata": {},
   "outputs": [],
   "source": [
    "sex = zeros(Int, n)\n",
    "\n",
    "for i in 1:n\n",
    "    if (test.Sex[i] == \"M\")\n",
    "        sex[i] = 1;\n",
    "    end\n",
    "end\n",
    "test[!, :Sex] = sex;"
   ]
  },
  {
   "cell_type": "code",
   "execution_count": null,
   "metadata": {},
   "outputs": [],
   "source": [
    "ChestPainType1 = zeros(Int, n)\n",
    "ChestPainType2 = zeros(Int, n)\n",
    "ChestPainType3 = zeros(Int, n)\n",
    "\n",
    "for i in 1:n\n",
    "    if (test.ChestPainType[i] == \"ATA\")\n",
    "        ChestPainType1[i] = 1;\n",
    "    elseif (test.ChestPainType[i] == \"NAP\")\n",
    "        ChestPainType2[i] = 1; \n",
    "    elseif (test.ChestPainType[i] == \"ASY\")\n",
    "        ChestPainType3[i] = 1;\n",
    "    end\n",
    "end\n",
    "select!(test, Not(:ChestPainType))\n",
    "test[!, :ChestPainType1] = ChestPainType1;\n",
    "test[!, :ChestPainType2] = ChestPainType2;\n",
    "test[!, :ChestPainType3] = ChestPainType3;"
   ]
  },
  {
   "cell_type": "code",
   "execution_count": null,
   "metadata": {},
   "outputs": [],
   "source": [
    "restingECG1 = zeros(Int, n)\n",
    "restingECG2 = zeros(Int, n)\n",
    "\n",
    "for i in 1:n\n",
    "    if (test.RestingECG[i] == \"ST\")\n",
    "        restingECG1[i] = 1;\n",
    "    elseif (test.RestingECG[i] == \"LVH\")\n",
    "        restingECG2[i] = 1;  \n",
    "    end\n",
    "end\n",
    "select!(test, Not(:RestingECG))\n",
    "test[!, :RestingECG1] = restingECG1;\n",
    "test[!, :RestingECG2] = restingECG2;"
   ]
  },
  {
   "cell_type": "code",
   "execution_count": null,
   "metadata": {},
   "outputs": [],
   "source": [
    "exerciseAngina = zeros(Int, n)\n",
    "\n",
    "for i in 1:n\n",
    "    if (test.ExerciseAngina[i] == \"Y\")\n",
    "        exerciseAngina[i] = 1;\n",
    "    end\n",
    "end\n",
    "test[!, :ExerciseAngina] = exerciseAngina;"
   ]
  },
  {
   "cell_type": "code",
   "execution_count": null,
   "metadata": {},
   "outputs": [],
   "source": [
    "STSlope1 = zeros(Int, n)\n",
    "STSlope2 = zeros(Int, n)\n",
    "\n",
    "for i in 1:n\n",
    "    if (test.STSlope[i] == \"Flat\")\n",
    "        STSlope1[i] = 1;\n",
    "    elseif (test.STSlope[i] == \"Down\")\n",
    "        STSlope2[i] = 1;  \n",
    "    end\n",
    "end\n",
    "select!(test, Not(:STSlope))\n",
    "test[!, :STSlope1] = STSlope1;\n",
    "test[!, :STSlope2] = STSlope2;"
   ]
  },
  {
   "cell_type": "code",
   "execution_count": null,
   "metadata": {},
   "outputs": [],
   "source": [
    "test_temp = select(test, Not([:ID, :HeartDisease]))\n",
    "dt = StatsBase.fit(StatsBase.ZScoreTransform, Matrix{Float64}(test_temp), dims=1)\n",
    "Z_test = StatsBase.transform(dt, Matrix{Float64}(test_temp))\n",
    "\n",
    "nameVarExpPrincipal = [:Col1, :Col2, :Col3,:Col4, :Col5, :Col6, :Col7, :Col8, :Col9,:Col10]\n",
    "T_test = Z_test*V \n",
    "dfPrincipalTest = DataFrame(T_test, nameVarExpPrincipal)\n",
    "\n",
    "M = glm(@formula(HeartDisease ~ Col1 + Col2 + Col3 + Col4 + Col5 + Col7 + Col9), df, Bernoulli(), LogitLink())"
   ]
  },
  {
   "cell_type": "markdown",
   "metadata": {},
   "source": [
    "#### 4.2 Prédiction pour chacun des patients de l'ensemble de test\n",
    "\n",
    "On prédit que le patient souffre d'une maladie cardiovasculaire si la probabilité est supérieure à 50%."
   ]
  },
  {
   "cell_type": "code",
   "execution_count": null,
   "metadata": {},
   "outputs": [],
   "source": [
    "θ̂ = predict(M, dfPrincipalTest)\n",
    "\n",
    "ŷ = Int64[]\n",
    "index = 0;\n",
    "for θ̂ᵢ in θ̂\n",
    "    if θ̂ᵢ >= .5\n",
    "        push!(ŷ, 1)\n",
    "    else\n",
    "        push!(ŷ, 0)\n",
    "    end\n",
    "end\n"
   ]
  },
  {
   "cell_type": "markdown",
   "metadata": {},
   "source": [
    "#### 3.3 Préparation du fichier des préditions pour téléverser sur Kaggle\n",
    "\n",
    "Le fichier *benchmark_predictions.csv* généré peut être téléversé sur Kaggle. Il est composé d'une colonne d'identifiants (ID) et d'une colonne des diagnostics prédits."
   ]
  },
  {
   "cell_type": "code",
   "execution_count": null,
   "metadata": {},
   "outputs": [],
   "source": [
    "prediction = DataFrame(ID = test.ID, Prediction = ŷ)\n",
    "\n",
    "CSV.write(\"benchmark_predictions.csv\", prediction)"
   ]
  },
  {
   "cell_type": "code",
   "execution_count": null,
   "metadata": {},
   "outputs": [],
   "source": [
    "count = 0;\n",
    "\n",
    "for i = 1:nrow(prediction)\n",
    "   if (prediction[i, 2] == test.HeartDisease[i])\n",
    "        count = count + 1;\n",
    "    end \n",
    "end\n",
    "    \n",
    "count / nrow(prediction)\n"
   ]
  },
  {
   "cell_type": "code",
   "execution_count": null,
   "metadata": {},
   "outputs": [],
   "source": []
  }
 ],
 "metadata": {
  "@webio": {
   "lastCommId": null,
   "lastKernelId": null
  },
  "kernelspec": {
   "display_name": "Julia 1.6.2",
   "language": "julia",
   "name": "julia-1.6"
  },
  "language_info": {
   "file_extension": ".jl",
   "mimetype": "application/julia",
   "name": "julia",
   "version": "1.6.2"
  }
 },
 "nbformat": 4,
 "nbformat_minor": 4
}
